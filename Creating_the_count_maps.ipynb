{
  "nbformat": 4,
  "nbformat_minor": 0,
  "metadata": {
    "colab": {
      "name": "Creating_the_count_maps.ipynb",
      "provenance": [],
      "mount_file_id": "1sT-xIR-gJAgpWk6qLIrnVRhgmxPY0sJU",
      "authorship_tag": "ABX9TyPBMAqwDrL6yUD1EQ1G15Tv",
      "include_colab_link": true
    },
    "kernelspec": {
      "name": "python3",
      "display_name": "Python 3"
    }
  },
  "cells": [
    {
      "cell_type": "markdown",
      "metadata": {
        "id": "view-in-github",
        "colab_type": "text"
      },
      "source": [
        "<a href=\"https://colab.research.google.com/github/Harm1995/CTA-sensitivity/blob/master/Creating_the_count_maps.ipynb\" target=\"_parent\"><img src=\"https://colab.research.google.com/assets/colab-badge.svg\" alt=\"Open In Colab\"/></a>"
      ]
    },
    {
      "cell_type": "code",
      "metadata": {
        "id": "I1-39BINFnnD",
        "colab_type": "code",
        "colab": {}
      },
      "source": [
        "try:\n",
        "  import gammapy\n",
        "  import iminuit\n",
        "  from iminuit import Minuit\n",
        "\n",
        "except:\n",
        "\n",
        "  !pip install gammapy\n",
        "  !pip install iminuit"
      ],
      "execution_count": 0,
      "outputs": []
    },
    {
      "cell_type": "code",
      "metadata": {
        "id": "5kdKbu6pId4g",
        "colab_type": "code",
        "colab": {}
      },
      "source": [
        "import matplotlib.pyplot as plt\n",
        "import matplotlib as mpl\n",
        "import numpy as np\n",
        "import math\n",
        "from astropy.io import fits\n",
        "from astropy import units as u\n",
        "import gammapy\n",
        "from gammapy.irf import Background3D\n",
        "import pandas as pd \n",
        "import random\n",
        "import scipy\n",
        "from scipy.stats import norm\n",
        "import seaborn as sns\n",
        "import time\n",
        "\n",
        "sns.set()\n"
      ],
      "execution_count": 0,
      "outputs": []
    },
    {
      "cell_type": "code",
      "metadata": {
        "id": "wnTMryKsIgDA",
        "colab_type": "code",
        "colab": {}
      },
      "source": [
        "roi = 5\n",
        "TeV = 10**-6\n",
        "energy_start_bin = 3\n",
        "offset = 1\n",
        "pre_normalisation = 10**-20\n",
        "time = 500 * 3600"
      ],
      "execution_count": 0,
      "outputs": []
    },
    {
      "cell_type": "code",
      "metadata": {
        "id": "i5TLFCGjIgev",
        "colab_type": "code",
        "outputId": "4a240271-b15f-4206-adaa-52983f72abad",
        "colab": {
          "base_uri": "https://localhost:8080/",
          "height": 212
        }
      },
      "source": [
        "pre_path = \"/content/drive/My Drive/Colab Notebooks/master_project/\"\n",
        "ring_path = \"/content/drive/My Drive/Colab Notebooks/master_project/rings_background/\"\n",
        "\n",
        "\n",
        "### Here we get the diffusive emission maps:\n",
        "ics_ring_maps = []\n",
        "GCE_ring_maps = []\n",
        "for i in range(1,5):\n",
        "  ics = np.roll(fits.getdata(ring_path + 'ics_ring_'+str(i) +'.fits', ext=0), 360, axis=2)[:, (180 - roi * 2):(180 + roi * 2), (360 - roi * 2):(360 + roi * 2)]\n",
        "  brems = np.roll(fits.getdata(ring_path + 'bremss_ring_'+ str(i) +'.fits', ext=0), 360, axis=2)[:, (180 - roi * 2):(180 + roi * 2), (360 - roi * 2):(360 + roi * 2)]\n",
        "  pion = np.roll(fits.getdata(ring_path + 'pion_ring_1'+ str(i) +'.fits', ext=0), 360, axis=2)[:, (180 - roi * 2):(180 + roi * 2), (360 - roi * 2):(360 + roi * 2)]\n",
        "  ics_ring_maps.append(ics)\n",
        "  GCE_ring_maps.append(brems + pion)\n",
        "\n",
        "GDE_maps = []\n",
        "GDE_maps.append(ics_ring_maps)\n",
        "GDE_maps.append(GCE_ring_maps)\n",
        "GDE_maps = np.array(GDE_maps)\n",
        "\n",
        "### We als need the fermi map and the signal map:\n",
        "fermi_map = fits.getdata(pre_path + 'fig12_bubbles_template_3compSCA_40x40deg_inpaint.fits')\n",
        "signal = np.roll(fits.getdata(pre_path + 'signal_ics_anisotropic_mapcube_56_NB.gz', ext=0), 360, axis=2)[:, (180 - roi * 2):(180 + roi * 2), (360 - roi * 2):(360 + roi * 2)]\n",
        "\n",
        "### And the irstrument respons function data:\n",
        "\n",
        "irf_filename = pre_path + 'irf_file.fits'\n",
        "aeff = gammapy.irf.EffectiveAreaTable2D.read(irf_filename, hdu=\"EFFECTIVE AREA\")\n",
        "edisp = gammapy.irf.EnergyDispersion2D.read(irf_filename, hdu=\"ENERGY DISPERSION\")\n",
        "psf = gammapy.irf.EnergyDependentMultiGaussPSF.read(irf_filename, hdu=\"POINT SPREAD FUNCTION\")\n",
        "bkg = Background3D.read(irf_filename, hdu='BACKGROUND')\n",
        "\n",
        "def Eff_area(E_true):\n",
        "   return (np.array(aeff.data.evaluate(energy_true=str(E_true) + \" TeV\", offset=str(0) + \"deg\").to(\"cm2\"))*time)\n",
        "\n",
        "# The energy list is some sort of tuple, via this way I make it a normal array of energies:\n",
        "energy_list1 = np.array(fits.getdata(ring_path + 'ics_ring_1.fits', ext=1))\n",
        "energies = []\n",
        "for energy in energy_list1:\n",
        "    E = float(str(energy)[1:-2])\n",
        "    energies.append(E)\n",
        "energies = np.array(energies)\n",
        "energies = energies * TeV   \n",
        "\n",
        "print (energies)\n"
      ],
      "execution_count": 0,
      "outputs": [
        {
          "output_type": "stream",
          "text": [
            "[1.00000000e-02 1.25892541e-02 1.58489319e-02 1.99526231e-02\n",
            " 2.51188643e-02 3.16227766e-02 3.98107171e-02 5.01187234e-02\n",
            " 6.30957344e-02 7.94328235e-02 1.00000000e-01 1.25892541e-01\n",
            " 1.58489319e-01 1.99526231e-01 2.51188643e-01 3.16227766e-01\n",
            " 3.98107171e-01 5.01187234e-01 6.30957344e-01 7.94328235e-01\n",
            " 1.00000000e+00 1.25892541e+00 1.58489319e+00 1.99526231e+00\n",
            " 2.51188643e+00 3.16227766e+00 3.98107171e+00 5.01187234e+00\n",
            " 6.30957344e+00 7.94328235e+00 1.00000000e+01 1.25892541e+01\n",
            " 1.58489319e+01 1.99526231e+01 2.51188643e+01 3.16227766e+01\n",
            " 3.98107171e+01 5.01187234e+01 6.30957344e+01 7.94328235e+01\n",
            " 1.00000000e+02 1.25892541e+02 1.58489319e+02 1.99526231e+02\n",
            " 2.51188643e+02 3.16227766e+02 3.98107171e+02]\n"
          ],
          "name": "stdout"
        }
      ]
    },
    {
      "cell_type": "code",
      "metadata": {
        "id": "Ctz79KDdTYge",
        "colab_type": "code",
        "colab": {}
      },
      "source": [
        ""
      ],
      "execution_count": 0,
      "outputs": []
    },
    {
      "cell_type": "markdown",
      "metadata": {
        "id": "zYtvsE99TfzM",
        "colab_type": "text"
      },
      "source": [
        "## With the alternative data:"
      ]
    },
    {
      "cell_type": "code",
      "metadata": {
        "id": "hV_J9jbaTYql",
        "colab_type": "code",
        "outputId": "6c133a37-491a-4661-9af6-408653cdffe7",
        "colab": {
          "base_uri": "https://localhost:8080/",
          "height": 528
        }
      },
      "source": [
        "pre_path_alt = '/content/drive/My Drive/Colab Notebooks/master_project/Alternative_GDE/'\n",
        "\n",
        "dust_pos =fits.getdata(pre_path_alt + 'DustPositive_Normalized.fits')[(40 - roi * 2):(40 + roi * 2), (40 - roi * 2):(40 + roi * 2)]\n",
        "dust_neg =fits.getdata(pre_path_alt + 'DustNegative_Normalized.fits')[(40 - roi * 2):(40 + roi * 2), (40 - roi * 2):(40 + roi * 2)]\n",
        "\n",
        "dust_neg = np.array(dust_neg)\n",
        "dust_pos = np.array(dust_pos)\n",
        "\n",
        "H1_maps = []\n",
        "H2_maps = []\n",
        "for ring in range(1,5):\n",
        "  map_H2 = fits.getdata(pre_path_alt + f'H2_pohl_ring_{ring}_Normalized.fits')[(40 - roi * 2):(40 + roi * 2), (40 - roi * 2):(40 + roi * 2)]\n",
        "  map_H1 = fits.getdata(pre_path_alt + f'HI_pohl_T150K_ring_{ring}_Normalized.fits')[(180 - roi * 2):(180 + roi * 2), (360 - roi * 2):(360 + roi * 2)]\n",
        "  H1_maps.append(map_H1)\n",
        "  H2_maps.append(map_H2)\n",
        "\n",
        "initial_norm_factor = (np.sum(H1_maps) + np.sum(H2_maps) + np.sum(dust_neg) + np.sum(dust_pos)) / np.sum(GCE_ring_maps) \n",
        "  \n",
        "H1_maps_binned = []\n",
        "H2_maps_binned = []\n",
        "\n",
        "total_GCE = np.sum(GCE_ring_maps)\n",
        "dust_pos_binned = []\n",
        "dust_neg_binned = []\n",
        "\n",
        "for e in range(len(energies)):\n",
        "  sumo = 0\n",
        "  for i in range(0,4):\n",
        "    sumo += np.sum(GCE_ring_maps[i][e])\n",
        "  frac = sumo / total_GCE\n",
        "  dust_pos_binned.append(dust_pos * frac)\n",
        "  dust_neg_binned.append(dust_neg * frac)\n",
        "\n",
        "\n",
        "dust_pos_binned = np.array(dust_pos_binned) / initial_norm_factor\n",
        "dust_neg_binned = np.array(dust_neg_binned) / initial_norm_factor\n",
        "\n",
        "H1_maps_binned_tot = []\n",
        "H2_maps_binned_tot = []\n",
        "for ring in range(0,4):\n",
        "  H1_maps_binned = []\n",
        "  H2_maps_binned = []\n",
        "  total = np.sum(GCE_ring_maps[ring])\n",
        "  for e in range(len(energies)):\n",
        "    sumi = np.sum(GCE_ring_maps[ring][e])\n",
        "    frac = sumi / total\n",
        "    H1_maps_binned.append(np.array(H1_maps[ring]*frac))\n",
        "    H2_maps_binned.append(np.array(H2_maps[ring]*frac))\n",
        "  H1_maps_binned_tot.append(H1_maps_binned)\n",
        "  H2_maps_binned_tot.append(H2_maps_binned)\n",
        "\n",
        "H1_maps_binned_tot = np.array(H1_maps_binned_tot) / initial_norm_factor\n",
        "H2_maps_binned_tot = np.array(H2_maps_binned_tot) / initial_norm_factor\n",
        "\n",
        "alternative_GDE = np.array([H1_maps_binned_tot,H2_maps_binned_tot,ics_ring_maps])\n",
        "extras = np.array(dust_pos_binned + dust_neg_binned)\n",
        "\n",
        "plt.figure(figsize=(12,8))\n",
        "plt.imshow(dust_pos_binned[5])\n",
        "plt.colorbar()\n",
        "plt.show()\n",
        "\n",
        "\n",
        "print (np.sum(GCE_ring_maps))\n",
        "print (np.sum(H1_maps_binned_tot) + np.sum(H2_maps_binned_tot) + np.sum(dust_pos_binned) + np.sum(dust_neg_binned))"
      ],
      "execution_count": 0,
      "outputs": [
        {
          "output_type": "display_data",
          "data": {
            "image/png": "[encoded data removed]",
            "text/plain": [
              "<Figure size 864x576 with 2 Axes>"
            ]
          },
          "metadata": {
            "tags": []
          }
        },
        {
          "output_type": "stream",
          "text": [
            "4.0981025e-08\n",
            "4.098102630249158e-08\n"
          ],
          "name": "stdout"
        }
      ]
    },
    {
      "cell_type": "code",
      "metadata": {
        "id": "TgcwlMpBTYxJ",
        "colab_type": "code",
        "colab": {}
      },
      "source": [
        "def mask_matrix_fu():\n",
        "\n",
        "  catalog = fits.open(pre_path + 'gll_psch_v13.fit')\n",
        "\n",
        "  ptsrc_long = []\n",
        "  ptsrc_lat = []\n",
        "\n",
        "  # Here is load all the point sources in our range of interest:\n",
        "  for i in range(len(catalog[1].data)):\n",
        "      if(catalog[1].data[i][9] > 4.0 and catalog[1].data[i][33] == ''):\n",
        "          if(-roi + 180 <= catalog[1].data[i][3] <= roi + 180):\n",
        "              if(-roi <= catalog[1].data[i][4] <= roi):\n",
        "                  ptsrc_long.append(catalog[1].data[i][3])\n",
        "                  ptsrc_lat.append(catalog[1].data[i][4])\n",
        "\n",
        "  # Here I make a matrix that has a zero on all the positions that are +/- 0.25 degrees away from\n",
        "  # a Fermi high energy source. Also the galactic ridge (+/- 0.3 degrees lattitude) are maskt.\n",
        "  mask_matrix = []\n",
        "  y_coor = 0\n",
        "  x_min = 180 - roi\n",
        "  x_max = 180 + roi\n",
        "  y_min = - roi\n",
        "  y_max = roi\n",
        "  y_steps = 4 * roi\n",
        "  x_steps = 4 * roi\n",
        "\n",
        "  for y in np.linspace(y_max, y_min, y_steps):\n",
        "      mask_matrix.append([])\n",
        "      for x in np.linspace(x_min, x_max, x_steps):\n",
        "          mark = 1\n",
        "          for i in range(len(ptsrc_long)):\n",
        "              ps_x = ptsrc_long[i]\n",
        "              ps_y = ptsrc_lat[i]\n",
        "              if abs(ps_x - x) < 0.25:\n",
        "                  if abs(ps_y - y) < 0.25:\n",
        "                      mark = 0\n",
        "                      break\n",
        "  #            if ((ps_x - x)**2 + (ps_y - y)**2)**0.5  < 0.25:\n",
        "  #                mark = 0\n",
        "          if abs(y) < 0.3:\n",
        "              mark = 0\n",
        "          mask_matrix[y_coor].append(mark)\n",
        "      y_coor += 1\n",
        "\n",
        "  mask_matrix = np.array(mask_matrix)\n",
        "  return mask_matrix\n",
        "\n",
        "\n",
        "\n",
        "\n"
      ],
      "execution_count": 0,
      "outputs": []
    },
    {
      "cell_type": "code",
      "metadata": {
        "id": "dc-Bu2sNTeeg",
        "colab_type": "code",
        "colab": {}
      },
      "source": [
        "class counts_maps:\n",
        "\n",
        "  def __init__(self, GDE_maps, signal_map, extra_maps):\n",
        "\n",
        "    \"The Fermi_map\"\n",
        "    fermi_map = fits.getdata(pre_path + 'fig12_bubbles_template_3compSCA_40x40deg_inpaint.fits')\n",
        "    norm = np.sum(fermi_map) * (np.pi/180.0)**2.0 * (0.5**2.0)\n",
        "    fermi_map = fermi_map[(40 - 2*roi):(40 + 2 * roi),\n",
        "                          (40 - 2*roi):(40 + 2 * roi)] / norm\n",
        "                        \n",
        "    self.fermi_map = fermi_map\n",
        "    self.GDE_maps = GDE_maps\n",
        "    self.signal_map = signal_map\n",
        "    self.mask_matrix = mask_matrix_fu()\n",
        "    self.extra_maps = extra_maps\n",
        "                        \n",
        "  \n",
        "  def __fermi_function(self, E):\n",
        "    phi0 = 1 * 10**-8\n",
        "    sigma = 1.9\n",
        "    E_co = 20\n",
        "\n",
        "    fluxq = phi0 * np.exp(-E/E_co) * E ** -sigma * 5 **2 * (np.pi / 180) **2\n",
        "    return fluxq\n",
        "\n",
        "  def fermi_bubbles(self, i, j, E):\n",
        "    fermi_bubble = self.__fermi_function(E)\n",
        "    place_factor = self.fermi_map[i][j]\n",
        "\n",
        "    return fermi_bubble * place_factor\n",
        "\n",
        "  def signal_conv(self):\n",
        "    signal_conv = np.zeros(shape = signal.shape)\n",
        "    fermi_bubble_conv = np.zeros(shape = signal.shape)\n",
        "    for k,i,j in np.ndindex(signal_conv.shape):\n",
        "      if k < (len(energies)-1):\n",
        "        E1 = energies[k]\n",
        "        E2 = energies[k + 1]\n",
        "        dE = E2 - E1\n",
        "        fermi_bubble_conv[k][i][j] = self.fermi_bubbles(i, j, E1) * Eff_area(E1) * dE\n",
        "        signal_conv[k][i][j] = self.signal_map[k][i][j] / TeV * Eff_area(E1) * dE * pre_normalisation\n",
        "\n",
        "    return signal_conv * self.mask_matrix\n",
        "\n",
        "  def fermi_bubbles_conv(self):\n",
        "    fermi_bubble_conv = np.zeros(shape = signal.shape)\n",
        "    for k,i,j in np.ndindex(fermi_bubble_conv.shape):\n",
        "      if k < (len(energies)-1):\n",
        "        E1 = energies[k]\n",
        "        E2 = energies[k + 1]\n",
        "        dE = E2 - E1\n",
        "        fermi_bubble_conv[k][i][j] = self.fermi_bubbles(i, j, E1) * Eff_area(E1) * dE\n",
        "\n",
        "    return fermi_bubble_conv * self.mask_matrix\n",
        "\n",
        "  def convolving_GDE(self):\n",
        "\n",
        "    GDE_conv= np.zeros(shape = self.GDE_maps.shape)\n",
        "\n",
        "    for types,ring,k,i,j in np.ndindex(GDE_conv.shape):\n",
        "      if k < (len(energies)-1):\n",
        "        E1 = energies[k]\n",
        "        E2 = energies[k + 1]\n",
        "        dE = E2 - E1\n",
        "        GDE_conv[types][ring][k][i][j] = self.GDE_maps[types][ring][k][i][j] / TeV * Eff_area(E1) * dE\n",
        "\n",
        "    return GDE_conv * self.mask_matrix\n",
        "  \n",
        "  def extra_maps_conv(self):\n",
        "    if len(self.extra_maps) == 0:\n",
        "      return (\"There are no extra maps\")\n",
        "    else:\n",
        "      extras_conv= np.zeros(shape = self.extra_maps.shape)\n",
        "\n",
        "      for types,k,i,j in np.ndindex(self.extra_maps.shape):\n",
        "        if k < (len(energies)-1):\n",
        "          E1 = energies[k]\n",
        "          E2 = energies[k + 1]\n",
        "          dE = E2 - E1\n",
        "          extras_conv[types][k][i][j] =self.extra_maps[types][k][i][j] / TeV * Eff_area(E1) * dE\n",
        "      return extras_conv\n",
        "\n",
        "\n",
        "\n",
        "  def get_all_backgrounds(self):\n",
        "    all_backgrounds = []\n",
        "    GDE_maps = self.convolving_GDE()\n",
        "    for types in GDE_maps:\n",
        "      for rings in types:\n",
        "        all_backgrounds.append(rings)\n",
        "    if len(self.extra_maps) != 0:\n",
        "      extras = self.extra_maps_conv()\n",
        "      for maps in extras:\n",
        "        all_backgrounds.append(maps)\n",
        "    fermi_map = self.fermi_bubbles_conv()\n",
        "    all_backgrounds.append(fermi_map)\n",
        "    return np.array(all_backgrounds)\n",
        "\n",
        "\n",
        "  \n",
        "  def plot_maps(self):\n",
        "\n",
        "    a = self.convolving_GDE()\n",
        "    i,j,*e = a.shape\n",
        "    energy_bin = 18\n",
        "    Energie_plot = energies[energy_bin]\n",
        "    fig, ax = plt.subplots(i+1,j, figsize = (15,11))\n",
        "    for x in range(i):\n",
        "      for y  in range(j):\n",
        "        m1 = ax[x][y].imshow(a[x][y][20])\n",
        "        plt.colorbar(m1, ax = ax[x][y])\n",
        "    \n",
        "    fermi_map = self.fermi_bubbles_conv()\n",
        "    signal_map = self.signal_conv()\n",
        "    m3 = ax[i][1].imshow(fermi_map[energy_bin], extent=[-5, 5, -5, 5])\n",
        "    m4 = ax[i][2].imshow(signal_map[energy_bin], extent=[-5, 5, -5, 5])\n",
        "    plt.colorbar(m3, ax = ax[2][1])\n",
        "    plt.colorbar(m4, ax = ax[2][2])\n",
        "    fig.delaxes(ax[i,0])\n",
        "    fig.delaxes(ax[i,3])\n",
        "    \n",
        "    fig.suptitle(\"expected counts per bin  for E =\" +\n",
        "             str(round(Energie_plot, 2)) + ' TeV', fontsize=16)\n",
        "    plt.show()\n"
      ],
      "execution_count": 0,
      "outputs": []
    },
    {
      "cell_type": "code",
      "metadata": {
        "id": "XKI9jVXCTepG",
        "colab_type": "code",
        "outputId": "bbd02a72-6856-4f65-9c16-de39c74ada35",
        "colab": {
          "base_uri": "https://localhost:8080/",
          "height": 713
        }
      },
      "source": [
        "### Making the count maps\n",
        "GDE_maps = np.array([ics_ring_maps, GCE_ring_maps])\n",
        "alternative_GDE = np.array([ics_ring_maps, H1_maps_binned_tot,H2_maps_binned_tot])\n",
        "extras = np.array([dust_pos_binned, dust_neg_binned])\n",
        "MAPS_alternative = counts_maps(alternative_GDE, signal,extras)\n",
        "MAPS_orig = counts_maps(GDE_maps, signal,[])\n",
        "MAPS_orig.plot_maps()"
      ],
      "execution_count": 0,
      "outputs": [
        {
          "output_type": "display_data",
          "data": {
            "image/png": "[encoded data removed]",
            "text/plain": [
              "<Figure size 1080x792 with 20 Axes>"
            ]
          },
          "metadata": {
            "tags": []
          }
        }
      ]
    },
    {
      "cell_type": "code",
      "metadata": {
        "id": "3sZp0YZBViy3",
        "colab_type": "code",
        "outputId": "847b3919-f8b1-4081-ace4-b1ee68b58fd8",
        "colab": {
          "base_uri": "https://localhost:8080/",
          "height": 50
        }
      },
      "source": [
        "simulated_backgrounds = MAPS_orig.get_all_backgrounds()\n",
        "model_backgrounds = MAPS_alternative.get_all_backgrounds()\n",
        "signal_c = MAPS_orig.signal_conv()\n",
        "print (simulated_backgrounds.shape)\n",
        "print (model_backgrounds.shape)\n"
      ],
      "execution_count": 0,
      "outputs": [
        {
          "output_type": "stream",
          "text": [
            "(9, 47, 20, 20)\n",
            "(15, 47, 20, 20)\n"
          ],
          "name": "stdout"
        }
      ]
    },
    {
      "cell_type": "code",
      "metadata": {
        "id": "n-lB4QtPgjYQ",
        "colab_type": "code",
        "outputId": "6e1593f1-8365-4a8d-d1d4-da68ba8c686f",
        "colab": {
          "base_uri": "https://localhost:8080/",
          "height": 33
        }
      },
      "source": [
        "print (signal_c.shape)"
      ],
      "execution_count": 0,
      "outputs": [
        {
          "output_type": "stream",
          "text": [
            "(47, 20, 20)\n"
          ],
          "name": "stdout"
        }
      ]
    },
    {
      "cell_type": "code",
      "metadata": {
        "id": "-Yt-sZw_VU5K",
        "colab_type": "code",
        "colab": {}
      },
      "source": [
        ""
      ],
      "execution_count": 0,
      "outputs": []
    },
    {
      "cell_type": "code",
      "metadata": {
        "id": "Obt0T_I3ag2-",
        "colab_type": "code",
        "colab": {}
      },
      "source": [
        "\n",
        "files_paths = '/content/drive/My Drive/Colab Notebooks/data_txt_files/'\n",
        "origianl_file = open(files_paths + 'Original_model_data.txt.txt', \"w\")\n",
        "alternative_file = open(files_paths + 'alternative_model.txt', \"w\")\n",
        "signal_file = open(files_paths + 'signal_data.txt', \"w\")\n",
        "\n",
        "for i in np.ndindex(simulated_backgrounds.shape):\n",
        "  np.savetxt(origianl_file, [simulated_backgrounds[i]])\n",
        "\n",
        "for i in np.ndindex(model_backgrounds.shape):\n",
        "  np.savetxt(alternative_file, [model_backgrounds[i]])\n",
        "for i in np.ndindex(signal_c.shape):\n",
        "  np.savetxt(signal_file, [signal_c[i]])\n",
        "\n",
        "origianl_file.close()\n",
        "alternative_file.close()\n",
        "signal_file.close()\n"
      ],
      "execution_count": 0,
      "outputs": []
    },
    {
      "cell_type": "code",
      "metadata": {
        "id": "YJY_nCqScZOs",
        "colab_type": "code",
        "colab": {}
      },
      "source": [
        "a_file.close()"
      ],
      "execution_count": 0,
      "outputs": []
    }
  ]
}