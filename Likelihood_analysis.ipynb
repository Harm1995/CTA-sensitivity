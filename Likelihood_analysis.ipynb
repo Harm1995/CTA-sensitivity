{
  "nbformat": 4,
  "nbformat_minor": 0,
  "metadata": {
    "colab": {
      "name": "Likelihood_analysis.ipynb",
      "provenance": [],
      "collapsed_sections": [
        "EBr00oeBTslt",
        "CQ1Nfp-a3AQ6",
        "Uk1h3jpYBvPM",
        "lisg_evkFSc-"
      ],
      "toc_visible": true,
      "mount_file_id": "1H6ytha_Lui71MlN-JbKhe8Y0j4hwzetR",
      "authorship_tag": "ABX9TyOoMdseGjetMTYOWPdgxt6t",
      "include_colab_link": true
    },
    "kernelspec": {
      "name": "python3",
      "display_name": "Python 3"
    }
  },
  "cells": [
    {
      "cell_type": "markdown",
      "metadata": {
        "id": "view-in-github",
        "colab_type": "text"
      },
      "source": [
        "<a href=\"https://colab.research.google.com/github/Harm1995/CTA-sensitivity/blob/master/Likelihood_analysis.ipynb\" target=\"_parent\"><img src=\"https://colab.research.google.com/assets/colab-badge.svg\" alt=\"Open In Colab\"/></a>"
      ]
    },
    {
      "cell_type": "markdown",
      "metadata": {
        "id": "zxCHnzgSToXK",
        "colab_type": "text"
      },
      "source": [
        "# The packages"
      ]
    },
    {
      "cell_type": "code",
      "metadata": {
        "id": "w23lGxAMK3Gn",
        "colab_type": "code",
        "colab": {}
      },
      "source": [
        "try:\n",
        "  import iminuit\n",
        "  from iminuit import Minuit\n",
        "\n",
        "except:\n",
        "  !pip install iminuit"
      ],
      "execution_count": 0,
      "outputs": []
    },
    {
      "cell_type": "code",
      "metadata": {
        "id": "K_2h3yI7Thl-",
        "colab_type": "code",
        "outputId": "55dcd6ab-cb0c-4189-cd7b-a8a128188614",
        "colab": {
          "base_uri": "https://localhost:8080/",
          "height": 51
        }
      },
      "source": [
        "import matplotlib.pyplot as plt\n",
        "import numpy as np\n",
        "import pandas as pd \n",
        "import random\n",
        "import scipy\n",
        "from scipy.stats import norm\n",
        "import astropy\n",
        "from astropy.io import fits\n",
        "import seaborn as sns\n",
        "import time\n",
        "\n",
        "\n",
        "\n",
        "\n",
        "time = 1"
      ],
      "execution_count": 0,
      "outputs": [
        {
          "output_type": "stream",
          "text": [
            "/usr/local/lib/python3.6/dist-packages/statsmodels/tools/_testing.py:19: FutureWarning: pandas.util.testing is deprecated. Use the functions in the public API at pandas.testing instead.\n",
            "  import pandas.util.testing as tm\n"
          ],
          "name": "stderr"
        }
      ]
    },
    {
      "cell_type": "code",
      "metadata": {
        "id": "QY3p9xFITi-o",
        "colab_type": "code",
        "colab": {}
      },
      "source": [
        "roi = 5\n",
        "TeV = 10**-6\n",
        "energy_start_bin = 3\n",
        "offset = 0\n",
        "pre_normalisation = 1\n",
        "energy_bin = 0"
      ],
      "execution_count": 0,
      "outputs": []
    },
    {
      "cell_type": "code",
      "metadata": {
        "id": "AKNRAH3vpAzi",
        "colab_type": "code",
        "colab": {}
      },
      "source": [
        "TeV = 10**-6\n",
        "ring_path = \"/content/drive/My Drive/Colab Notebooks/master_project/rings_background/\"\n",
        "energy_list1 = np.array(fits.getdata(ring_path + 'ics_ring_1.fits', ext=1))\n",
        "energies = []\n",
        "for energy in energy_list1:\n",
        "    E = float(str(energy)[1:-2])\n",
        "    energies.append(E)\n",
        "energies = np.array(energies)\n",
        "energies = energies * TeV   \n"
      ],
      "execution_count": 0,
      "outputs": []
    },
    {
      "cell_type": "markdown",
      "metadata": {
        "id": "EBr00oeBTslt",
        "colab_type": "text"
      },
      "source": [
        "# Data"
      ]
    },
    {
      "cell_type": "markdown",
      "metadata": {
        "id": "pmXa_MCio2Lz",
        "colab_type": "text"
      },
      "source": [
        "## The raw data"
      ]
    },
    {
      "cell_type": "markdown",
      "metadata": {
        "id": "ALwx1Gpj2851",
        "colab_type": "text"
      },
      "source": [
        "### Original model"
      ]
    },
    {
      "cell_type": "code",
      "metadata": {
        "id": "AkIDGUD2VlbY",
        "colab_type": "code",
        "colab": {}
      },
      "source": [
        "pre_path = \"/content/drive/My Drive/Colab Notebooks/master_project/\"\n",
        "ring_path = \"/content/drive/My Drive/Colab Notebooks/master_project/rings_background/\"\n",
        "\n",
        "\n",
        "### Here we get the diffusive emission maps:\n",
        "### Here we get the diffusive emission maps:\n",
        "ics_ring_maps = []\n",
        "GCE_ring_maps = []\n",
        "signal_ring_maps = []\n",
        "for i in range(1,5):\n",
        "  ics = np.roll(fits.getdata(ring_path + 'ics_ring_'+str(i) +'_new.fits', ext=0), 360, axis=2)[:, (180 - roi * 2):(180 + roi * 2), (360 - roi * 2):(360 + roi * 2)]\n",
        "  brems = np.roll(fits.getdata(ring_path + 'bremss_ring_'+ str(i) +'_new.fits', ext=0), 360, axis=2)[:, (180 - roi * 2):(180 + roi * 2), (360 - roi * 2):(360 + roi * 2)]\n",
        "  pion = np.roll(fits.getdata(ring_path + 'pion_ring_'+ str(i) +'_new.fits', ext=0), 360, axis=2)[:, (180 - roi * 2):(180 + roi * 2), (360 - roi * 2):(360 + roi * 2)]\n",
        "  signal = np.roll(fits.getdata(ring_path + 'signal_ring_'+ str(i) +'_new.fits', ext=0), 360, axis=2)[:, (180 - roi * 2):(180 + roi * 2), (360 - roi * 2):(360 + roi * 2)]\n",
        "  ics_ring_maps.append(ics)\n",
        "  GCE_ring_maps.append(brems + pion)\n",
        "  signal_ring_maps.append(signal)\n",
        "\n",
        "GDE_maps = []\n",
        "GDE_maps.append(ics_ring_maps)\n",
        "GDE_maps.append(GCE_ring_maps)\n",
        "GDE_maps = np.array(GDE_maps)\n",
        "\n",
        "signal = signal_ring_maps[0] + signal_ring_maps[1]+ signal_ring_maps[2]+ signal_ring_maps[3]\n",
        "signal = np.array(signal)\n",
        "\n",
        "fermi_map = fits.getdata(pre_path + 'fig12_bubbles_template_3compSCA_40x40deg_inpaint.fits')\n",
        "sns.set()\n",
        "\n",
        "norm = np.sum(fermi_map) * (np.pi/180.0)**2.0 * (0.5**2.0)\n",
        "fermi_map = fermi_map[(40 - 2*roi):(40 + 2 * roi),\n",
        "                      (40 - 2*roi):(40 + 2 * roi)] / norm\n",
        "                        \n",
        "\n"
      ],
      "execution_count": 0,
      "outputs": []
    },
    {
      "cell_type": "code",
      "metadata": {
        "id": "2SHb-ci2hbKz",
        "colab_type": "code",
        "colab": {}
      },
      "source": [
        "def fermi_function(E):\n",
        "  phi0 = 1 * 10**-8\n",
        "  sigma = 1.9\n",
        "  E_co = 20\n",
        "\n",
        "  fluxq = phi0 * np.exp(-E/E_co) * E**-sigma\n",
        "  return fluxq\n",
        "\n",
        "fermi_flux = []\n",
        "\n",
        "for E in energies:\n",
        "  fermi_flux.append(fermi_function(E) * E**2 )\n",
        "\n",
        "fermi_flux = np.array(fermi_flux)\n"
      ],
      "execution_count": 0,
      "outputs": []
    },
    {
      "cell_type": "markdown",
      "metadata": {
        "id": "CQ1Nfp-a3AQ6",
        "colab_type": "text"
      },
      "source": [
        "### Alternative model"
      ]
    },
    {
      "cell_type": "code",
      "metadata": {
        "id": "NuTMkL9LpNDy",
        "colab_type": "code",
        "colab": {}
      },
      "source": [
        "pre_path_alt = '/content/drive/My Drive/Colab Notebooks/master_project/Alternative_GDE/'\n",
        "\n",
        "dust_pos =fits.getdata(pre_path_alt + 'DustPositive_Normalized.fits')[(40 - roi * 2):(40 + roi * 2), (40 - roi * 2):(40 + roi * 2)]\n",
        "dust_neg =fits.getdata(pre_path_alt + 'DustNegative_Normalized.fits')[(40 - roi * 2):(40 + roi * 2), (40 - roi * 2):(40 + roi * 2)]\n",
        "\n",
        "dust_neg = np.array(dust_neg)\n",
        "dust_pos = np.array(dust_pos)\n",
        "\n",
        "\n",
        "\n",
        "H1_maps = []\n",
        "H2_maps = []\n",
        "for ring in range(1,5):\n",
        "  map_H2 = fits.getdata(pre_path_alt + f'H2_pohl_ring_{ring}_Normalized.fits')[(40 - roi * 2):(40 + roi * 2), (40 - roi * 2):(40 + roi * 2)]\n",
        "  map_H1 = fits.getdata(pre_path_alt + f'HI_pohl_T150K_ring_{ring}_Normalized.fits')[(180 - roi * 2):(180 + roi * 2), (360 - roi * 2):(360 + roi * 2)]\n",
        "  H1_maps.append(map_H1)\n",
        "  H2_maps.append(map_H2)\n",
        "\n",
        "\n",
        "initial_norm_factor = (np.sum(H1_maps) + np.sum(H2_maps) + np.sum(dust_neg + dust_pos) ) / np.sum(GCE_ring_maps) \n",
        "\n",
        "\n",
        "H1_norm = []\n",
        "H2_norm = []\n",
        "dust_pos_norm = dust_pos / initial_norm_factor\n",
        "dust_neg_norm = dust_neg / initial_norm_factor\n",
        "\n",
        "for i in range(0,4):\n",
        "  H1_norm.append(H1_maps[i] / initial_norm_factor )\n",
        "  H2_norm.append(H1_maps[i] / initial_norm_factor )\n",
        "\n"
      ],
      "execution_count": 0,
      "outputs": []
    },
    {
      "cell_type": "markdown",
      "metadata": {
        "id": "cQJQoLCCGdm-",
        "colab_type": "text"
      },
      "source": [
        "### Signal maps"
      ]
    },
    {
      "cell_type": "code",
      "metadata": {
        "id": "Urve3-Y_Gfc6",
        "colab_type": "code",
        "colab": {}
      },
      "source": [
        "path_to_signal = '/content/drive/My Drive/Colab Notebooks/data_txt_files/NB_and_F98/'\n",
        "NB_ring_maps = []\n",
        "F98_ring_maps = []\n",
        "injections = ['inj0','inj1', 'inj2', 'inj3', 'inj4']\n",
        "for inj in injections:\n",
        "  temp_map = []\n",
        "  temp_map2 = []\n",
        "  for ring in range(1,5):\n",
        "    NB_map = np.roll(fits.getdata(path_to_signal + 'NB_ring_'+ str(ring) +'_' + inj + '.fits', ext=0), 360, axis=2)[:, (180 - roi * 2):(180 + roi * 2), (360 - roi * 2):(360 + roi * 2)]\n",
        "    F98_map = np.roll(fits.getdata(path_to_signal + 'NB_ring_'+ str(ring) +'_' + inj +  '.fits', ext=0), 360, axis=2)[:, (180 - roi * 2):(180 + roi * 2), (360 - roi * 2):(360 + roi * 2)]\n",
        "    temp_map.append(NB_map)\n",
        "    temp_map2.append(F98_map)\n",
        "  tot1 = temp_map[0] + temp_map[1] + temp_map[2] + temp_map[3]\n",
        "  tot2 = temp_map2[0] + temp_map2[1] + temp_map2[2] + temp_map2[3]\n",
        "  NB_ring_maps.append(tot1)\n",
        "  F98_ring_maps.append(tot2)\n",
        "\n",
        "NB_ring_maps = np.array(NB_ring_maps)\n",
        "F98_ring_maps = np.array(F98_ring_maps)\n",
        "\n",
        "sigals = [NB_ring_maps[0] + F98_ring_maps[0], NB_ring_maps[1] + F98_ring_maps[1], NB_ring_maps[2] + F98_ring_maps[2], NB_ring_maps[3] + F98_ring_maps[3],NB_ring_maps[4] + F98_ring_maps[4]]\n"
      ],
      "execution_count": 0,
      "outputs": []
    },
    {
      "cell_type": "code",
      "metadata": {
        "id": "JUGIbQtAmZxY",
        "colab_type": "code",
        "outputId": "652ade0b-d98d-42d7-efb6-d5052067c4cc",
        "colab": {
          "base_uri": "https://localhost:8080/",
          "height": 51
        }
      },
      "source": [
        "print (np.sum(NB_ring_maps))\n",
        "print (np.sum(F98_ring_maps))"
      ],
      "execution_count": 0,
      "outputs": [
        {
          "output_type": "stream",
          "text": [
            "1.0920271e-08\n",
            "1.0920271e-08\n"
          ],
          "name": "stdout"
        }
      ]
    },
    {
      "cell_type": "markdown",
      "metadata": {
        "id": "Ps-d-bhQvC8k",
        "colab_type": "text"
      },
      "source": [
        "We have the following Background flux maps\n",
        "\n",
        "* 4 rings of ics maps 47 * 20 * 20\n",
        "* 4 rings of GCE maps 47 * 20 * 20\n",
        "* 1 Fermi map 20*20\n",
        "\n",
        "\n",
        "And for the alternative model:\n",
        "\n",
        "* 4 ring maps H1 40*40\n",
        "* 4 ring maps H2 40*40\n",
        "* 2 dust maps 20*20\n",
        "\n",
        "And the Following signal - maps:\n",
        "\n",
        "* 5  injection spectra NB signal map 47 * 20 * 20\n",
        "* 5  injection spectra F98 map 47 * 20 * 20"
      ]
    },
    {
      "cell_type": "markdown",
      "metadata": {
        "id": "tD174Kr5VpdJ",
        "colab_type": "text"
      },
      "source": [
        "## Convolved data"
      ]
    },
    {
      "cell_type": "code",
      "metadata": {
        "id": "0ovN3T-2V7Hr",
        "colab_type": "code",
        "colab": {}
      },
      "source": [
        "files_paths = '/content/drive/My Drive/Colab Notebooks/data_txt_files/'\n",
        "\n",
        "orig_shape = (9, 47, 20, 20)\n",
        "original_file = files_paths + 'Model_new.txt.txt'\n",
        "simulated_backgrounds = np.loadtxt(original_file).reshape(orig_shape)\n",
        "\n",
        "ice_rings = np.loadtxt(files_paths + 'ice_file.txt').reshape(4,46,20,20)\n",
        "gce_rings = np.loadtxt(files_paths + 'gce_file.txt').reshape(4,46,20,20)\n",
        "NB_rings = np.loadtxt(files_paths + 'NB_file.txt').reshape(5,46,20,20)\n",
        "F98_rings = np.loadtxt(files_paths + 'F98_file.txt').reshape(5,46,20,20)\n",
        "alternative_gce = np.loadtxt(files_paths + 'Alternative_gce.txt').reshape(10,46,20,20)\n",
        "fermi_bubble = simulated_backgrounds[-1][:-1] * 137\n",
        "\n",
        "\n",
        "signal_inj_list = NB_rings + F98_rings\n",
        "all_backgrounds = np.array([ice_rings[0], ice_rings[1], ice_rings[2], ice_rings[3], gce_rings[0], gce_rings[1], gce_rings[2], gce_rings[3],fermi_bubble])"
      ],
      "execution_count": 0,
      "outputs": []
    },
    {
      "cell_type": "markdown",
      "metadata": {
        "id": "WOSFo193EYmp",
        "colab_type": "text"
      },
      "source": [
        "We have the following Background Count maps\n",
        "\n",
        "* 4 rings of ics maps 46 * 20 * 20\n",
        "* 4 rings of GCE maps 46 * 20 * 20\n",
        "* 1 Fermi map 46 * 20 * 20\n",
        "\n",
        "\n",
        "And for the alternative model:\n",
        "\n",
        "\n",
        "* 4 ring maps H1 46 * 40 * 40\n",
        "* 4 ring maps H2 46 * 40 * 40\n",
        "* 4 rings of ics 46 * 20 * 20\n",
        "* 2 dust maps 46 * 20 * 20\n",
        "* 1 Fermi map 46 * 20 * 20\n",
        "\n",
        "And the Following signal - maps:\n",
        "\n",
        "* 5  injection spectra NB signal map 46 * 20 * 20\n",
        "* 5  injection spectra F98 map 46 * 20 * 20"
      ]
    },
    {
      "cell_type": "markdown",
      "metadata": {
        "id": "Uk1h3jpYBvPM",
        "colab_type": "text"
      },
      "source": [
        "## Compressing again to 11 rings"
      ]
    },
    {
      "cell_type": "code",
      "metadata": {
        "id": "f20-qQZYL5BL",
        "colab_type": "code",
        "colab": {}
      },
      "source": [
        "Ics_ring_1_template = []\n",
        "Ics_ring_2_template = []\n",
        "Ics_ring_3_template = []\n",
        "Ics_ring_4_template = []\n",
        "GCE_ring_1_template = []\n",
        "GCE_ring_2_template = []\n",
        "GCE_ring_3_template = []\n",
        "GCE_ring_4_template = []\n",
        "\n",
        "fermi_template = []\n",
        "\n",
        "NB_0_template = []\n",
        "NB_1_template = []\n",
        "NB_2_template = []\n",
        "NB_3_template = []\n",
        "NB_4_template = []\n",
        "\n",
        "F98_0_template = []\n",
        "F98_1_template = []\n",
        "F98_2_template = []\n",
        "F98_3_template = []\n",
        "F98_4_template = []\n",
        "\n",
        "H1_ring_1_template = []\n",
        "H1_ring_2_template = []\n",
        "H1_ring_3_template = []\n",
        "H1_ring_4_template = []\n",
        "\n",
        "H2_ring_1_template = []\n",
        "H2_ring_2_template = []\n",
        "H2_ring_3_template = []\n",
        "H2_ring_4_template = []\n",
        "\n",
        "dust_pos_template = []\n",
        "dust_neg_template = []\n",
        "\n",
        "\n",
        "new_energies = []\n",
        "\n",
        "for j in range(0,11):\n",
        "  i = 2+j*4\n",
        "  new_energies.append(energies[i])\n",
        "\n",
        "\n",
        "  Ics_ring_1_template.append(np.sum(ice_rings[0][i:i+4], axis = 0))\n",
        "  Ics_ring_2_template.append(np.sum(ice_rings[1][i:i+4], axis = 0))\n",
        "  Ics_ring_3_template.append(np.sum(ice_rings[2][i:i+4], axis = 0))\n",
        "  Ics_ring_4_template.append(np.sum(ice_rings[3][i:i+4], axis = 0))\n",
        "\n",
        "  GCE_ring_1_template.append(np.sum(gce_rings[0][i:i+4], axis = 0))\n",
        "  GCE_ring_2_template.append(np.sum(gce_rings[1][i:i+4], axis = 0))\n",
        "  GCE_ring_3_template.append(np.sum(gce_rings[2][i:i+4], axis = 0))\n",
        "  GCE_ring_4_template.append(np.sum(gce_rings[3][i:i+4], axis = 0))\n",
        "\n",
        "  fermi_template.append(np.sum(fermi_bubble[i:i+4], axis = 0))\n",
        "\n",
        "  NB_0_template.append(np.sum(NB_rings[0][i:i+4], axis = 0))\n",
        "  NB_1_template.append(np.sum(NB_rings[1][i:i+4], axis = 0))\n",
        "  NB_2_template.append(np.sum(NB_rings[2][i:i+4], axis = 0))\n",
        "  NB_3_template.append(np.sum(NB_rings[3][i:i+4], axis = 0))\n",
        "  NB_4_template.append(np.sum(NB_rings[4][i:i+4], axis = 0))\n",
        "\n",
        "  F98_0_template.append(np.sum(F98_rings[0][i:i+4], axis = 0))\n",
        "  F98_1_template.append(np.sum(F98_rings[1][i:i+4], axis = 0))\n",
        "  F98_2_template.append(np.sum(F98_rings[2][i:i+4], axis = 0))\n",
        "  F98_3_template.append(np.sum(F98_rings[3][i:i+4], axis = 0))\n",
        "  F98_4_template.append(np.sum(F98_rings[4][i:i+4], axis = 0))\n",
        "\n",
        "  H1_ring_1_template.append(np.sum(alternative_gce[0][i:i+4], axis = 0))\n",
        "  H1_ring_2_template.append(np.sum(alternative_gce[1][i:i+4], axis = 0))\n",
        "  H1_ring_3_template.append(np.sum(alternative_gce[2][i:i+4], axis = 0))\n",
        "  H1_ring_4_template.append(np.sum(alternative_gce[3][i:i+4], axis = 0))\n",
        "\n",
        "  H2_ring_1_template.append(np.sum(alternative_gce[4][i:i+4], axis = 0))\n",
        "  H2_ring_2_template.append(np.sum(alternative_gce[5][i:i+4], axis = 0))\n",
        "  H2_ring_3_template.append(np.sum(alternative_gce[6][i:i+4], axis = 0))\n",
        "  H2_ring_4_template.append(np.sum(alternative_gce[7][i:i+4], axis = 0))\n",
        "\n",
        "  dust_pos_template.append(np.sum(alternative_gce[8][i:i+4], axis = 0))\n",
        "  dust_neg_template.append(np.sum(alternative_gce[9][i:i+4], axis = 0))\n",
        "\n",
        "\n",
        "\n",
        "Ics_ring_1_template = np.array(Ics_ring_1_template)\n",
        "Ics_ring_2_template = np.array(Ics_ring_2_template)\n",
        "Ics_ring_3_template = np.array(Ics_ring_3_template)\n",
        "Ics_ring_4_template = np.array(Ics_ring_4_template)\n",
        "GCE_ring_1_template = np.array(GCE_ring_1_template)\n",
        "GCE_ring_2_template = np.array(GCE_ring_2_template)\n",
        "GCE_ring_3_template = np.array(GCE_ring_3_template)\n",
        "GCE_ring_4_template = np.array(GCE_ring_4_template)\n",
        "\n",
        "fermi_template = np.array(fermi_template)\n",
        "\n",
        "NB_0_template = np.array(NB_0_template)\n",
        "NB_1_template = np.array(NB_1_template)\n",
        "NB_2_template = np.array(NB_2_template)\n",
        "NB_3_template = np.array(NB_3_template)\n",
        "NB_4_template = np.array(NB_4_template)\n",
        "\n",
        "NB_templates = np.array([NB_0_template, NB_1_template, NB_2_template, NB_3_template, NB_4_template])\n",
        "\n",
        "\n",
        "F98_0_template = np.array(F98_0_template)\n",
        "F98_1_template = np.array(F98_1_template)\n",
        "F98_2_template = np.array(F98_2_template)\n",
        "F98_3_template = np.array(F98_3_template)\n",
        "F98_4_template = np.array(F98_4_template)\n",
        "\n",
        "F98_templates = np.array([F98_0_template, F98_1_template, F98_2_template, F98_3_template, F98_4_template])\n",
        "\n",
        "H1_ring_1_template = np.array(H1_ring_1_template)\n",
        "H1_ring_2_template = np.array(H1_ring_2_template)\n",
        "H1_ring_3_template = np.array(H1_ring_3_template)\n",
        "H1_ring_4_template = np.array(H1_ring_4_template)\n",
        "\n",
        "H2_ring_1_template = np.array(H2_ring_1_template)\n",
        "H2_ring_2_template = np.array(H2_ring_2_template)\n",
        "H2_ring_3_template = np.array(H2_ring_3_template)\n",
        "H2_ring_4_template = np.array(H2_ring_4_template)\n",
        "\n",
        "dust_pos_template = np.array(dust_pos_template)\n",
        "dust_neg_template = np.array(dust_neg_template)\n"
      ],
      "execution_count": 0,
      "outputs": []
    },
    {
      "cell_type": "code",
      "metadata": {
        "id": "_-norSiZvFNj",
        "colab_type": "code",
        "outputId": "3071c8dc-086a-4534-88be-6b1f7a6831d1",
        "colab": {
          "base_uri": "https://localhost:8080/",
          "height": 268
        }
      },
      "source": [
        "\n",
        "plt.imshow(F98_templates[2][3])\n",
        "plt.colorbar()\n",
        "plt.show()"
      ],
      "execution_count": 0,
      "outputs": [
        {
          "output_type": "display_data",
          "data": {
            "image/png": "[encoded data removed]",
            "text/plain": [
              "<Figure size 432x288 with 2 Axes>"
            ]
          },
          "metadata": {
            "tags": []
          }
        }
      ]
    },
    {
      "cell_type": "markdown",
      "metadata": {
        "id": "BKe23BuPx8xq",
        "colab_type": "text"
      },
      "source": [
        "# Creating the synthetic data"
      ]
    },
    {
      "cell_type": "markdown",
      "metadata": {
        "id": "q1vr81CahSmO",
        "colab_type": "text"
      },
      "source": [
        "### The parameters we use"
      ]
    },
    {
      "cell_type": "code",
      "metadata": {
        "id": "InVleOxI799c",
        "colab_type": "code",
        "colab": {}
      },
      "source": [
        "MC_times = 15\n",
        "ss_steps = 10\n",
        "signal_strengts = np.logspace(-2,1 ,ss_steps)\n",
        "injection_spectra = 2\n",
        "sigma = 0.3\n"
      ],
      "execution_count": 0,
      "outputs": []
    },
    {
      "cell_type": "markdown",
      "metadata": {
        "id": "uCEwlZoahVZH",
        "colab_type": "text"
      },
      "source": [
        "### the sythentic data"
      ]
    },
    {
      "cell_type": "code",
      "metadata": {
        "id": "06meLxK-RYkg",
        "colab_type": "code",
        "outputId": "f10ae835-2b04-4190-eb10-451e64b40f98",
        "colab": {
          "base_uri": "https://localhost:8080/",
          "height": 34
        }
      },
      "source": [
        "all_backgrounds = [Ics_ring_1_template, Ics_ring_2_template, Ics_ring_3_template, Ics_ring_4_template,\n",
        "                GCE_ring_1_template, GCE_ring_2_template, GCE_ring_3_template, GCE_ring_4_template, fermi_template]\n",
        "signal_conv = NB_templates[injection_spectra]\n",
        "all_backgrounds = np.array(all_backgrounds)\n",
        "\n",
        "\n",
        "\n",
        "def random_counts_with_signal(signal_strength,sigma, all_backgrounds, signal_conv):\n",
        "  count_matrix = np.zeros(signal_conv.shape)\n",
        "  for mapn in all_backgrounds:\n",
        "    after_norm = np.random.normal(1, sigma) * mapn\n",
        "    after_norm = after_norm.clip(0)\n",
        "    count_matrix += after_norm\n",
        "  signal_norm = signal_conv * signal_strength\n",
        "  count_matrix += signal_norm\n",
        "\n",
        "  count_matrix = np.random.poisson(count_matrix)\n",
        "\n",
        "  return count_matrix\n",
        "\n",
        "all_simulated_background = []\n",
        "for ss in signal_strengts:\n",
        "  list_MC = []\n",
        "  for _ in range(MC_times):\n",
        "    a = random_counts_with_signal(ss,sigma, all_backgrounds, signal_conv)\n",
        "\n",
        "    list_MC.append(a)\n",
        "  all_simulated_background.append(list_MC)\n",
        "\n",
        "all_simulated_background = np.array(all_simulated_background)\n",
        "print (all_simulated_background.shape)\n"
      ],
      "execution_count": 0,
      "outputs": [
        {
          "output_type": "stream",
          "text": [
            "(10, 15, 11, 20, 20)\n"
          ],
          "name": "stdout"
        }
      ]
    },
    {
      "cell_type": "code",
      "metadata": {
        "id": "NNxEQEGb-sP6",
        "colab_type": "code",
        "colab": {}
      },
      "source": [
        "files_paths = '/content/drive/My Drive/Colab Notebooks/data_txt_files/'\n",
        "sim_data_file = open(files_paths + 'sim_data_file.txt', \"w\")\n",
        "\n",
        "\n",
        "for i in np.ndindex(all_simulated_background.shape):\n",
        "  np.savetxt(sim_data_file, [all_simulated_background[i]])\n",
        "\n",
        "sim_data_file.close()  "
      ],
      "execution_count": 0,
      "outputs": []
    },
    {
      "cell_type": "code",
      "metadata": {
        "id": "6NPKiD96EDaB",
        "colab_type": "code",
        "colab": {}
      },
      "source": [
        "data_shape = (ss_steps, MC_times, 11, 20, 20)\n",
        "\n",
        "files_paths = '/content/drive/My Drive/Colab Notebooks/data_txt_files/'\n",
        "sim_data_file = files_paths + 'sim_data_file.txt'\n",
        "\n",
        "simulated_backgrounds2 = np.loadtxt(sim_data_file ).reshape(data_shape)"
      ],
      "execution_count": 0,
      "outputs": []
    },
    {
      "cell_type": "markdown",
      "metadata": {
        "id": "lisg_evkFSc-",
        "colab_type": "text"
      },
      "source": [
        "#The bin by bin analysis class"
      ]
    },
    {
      "cell_type": "code",
      "metadata": {
        "id": "TpFWdlayFY27",
        "colab_type": "code",
        "colab": {}
      },
      "source": [
        "class analysis:\n",
        "\n",
        "  def __init__(self, signal_strength, model_backgrounds,signal1,signal2,data_map, long):\n",
        "    self.signal_strength = signal_strength\n",
        "    tot_signal = signal1 + signal2\n",
        "    self.counts_m = data_map\n",
        "    self.all_backgrounds = model_backgrounds\n",
        "    self.signal_conv = tot_signal\n",
        "    self.signal1 = signal1\n",
        "    self.signal2 = signal2\n",
        "    self.sigma = sigma\n",
        "    self.long = long\n",
        "    self.energy_bin =  energy_bin\n",
        "\n",
        "\n",
        "  def L0_model_long(self, params, i,j):\n",
        "    \"\"\"\n",
        "    The model for CTA without a signal component\n",
        "    \"\"\"\n",
        "\n",
        "    tot_back = 0\n",
        "    for a in range(len(self.all_backgrounds)):\n",
        "      tot_back += params[a] * self.all_backgrounds[a][i][j]\n",
        "    return tot_back\n",
        "\n",
        "  def L1_model_long(self, params, i,j):\n",
        "    \"\"\"\n",
        "    The model for CTA with a signal component\n",
        "    \"\"\"\n",
        "\n",
        "    tot_back = 0\n",
        "    for a in range(len(self.all_backgrounds)):\n",
        "      tot_back += params[a] * self.all_backgrounds[a][i][j]  \n",
        "    \n",
        "    tot_back += params[-1] * self.signal1[i][j]\n",
        "    \n",
        "    return tot_back\n",
        "\n",
        "  def L0_model_short(self, params, i,j,k):\n",
        "    \"\"\"\n",
        "    The model for CTA without a signal component\n",
        "    \"\"\"\n",
        "    tot_back = 0\n",
        "    tot_back += params[0] * (self.all_backgrounds[0][i][j] + self.all_backgrounds[1][i][j] + self.all_backgrounds[2][i][j] +self.all_backgrounds[3][i][j]) \n",
        "    tot_back += params[1] * (self.all_backgrounds[4][i][j] + self.all_backgrounds[5][i][j] + self.all_backgrounds[6][i][j] +self.all_backgrounds[7][i][j]) \n",
        "    tot_back += params[2] * self.all_backgrounds[8][i][j]\n",
        "\n",
        "    return tot_back\n",
        "\n",
        "\n",
        "  def L1_model_short(self, params, i,j,k):\n",
        "    \"\"\"\n",
        "    The model for CTA with a signal component\n",
        "    \"\"\"\n",
        "    tot_back = 0\n",
        "\n",
        "    tot_back += params[0] * (self.all_backgrounds[0][i][j] + self.all_backgrounds[1][i][j] + self.all_backgrounds[2][i][j] +self.all_backgrounds[3][i][j]) \n",
        "    tot_back += params[1] * (self.all_backgrounds[4][i][j] + self.all_backgrounds[5][i][j] + self.all_backgrounds[6][i][j] +self.all_backgrounds[7][i][j]) \n",
        "    tot_back += params[2] * self.all_backgrounds[8][i][j]\n",
        "\n",
        "    tot_back += params[3] * self.signal_conv[i][j]\n",
        "    return tot_back\n",
        "\n",
        "  \n",
        "  def lik0(self,params):\n",
        "    \"\"\"\n",
        "    Function that computes the likelihood for a given set of parameters without a signal\n",
        "    \"\"\"\n",
        "    if long:\n",
        "      p_sum = 0\n",
        "      for i,j in np.ndindex(self.signal_conv.shape):\n",
        "        counts = self.counts_m[i][j]\n",
        "        counts_model = self.L0_model_long(params, i,j)\n",
        "        if counts_model > 0:  \n",
        "          p = counts * np.log(counts_model) - counts_model\n",
        "          p_sum += p\n",
        "      return -p_sum\n",
        "    else:\n",
        "      p_sum = 0\n",
        "      for k,i,j in np.ndindex(self.signal_conv.shape):\n",
        "        counts = self.counts_m[i][j]\n",
        "        counts_model = self.L0_model_short(params, i,j)\n",
        "        if counts_model > 0:  \n",
        "          p = counts * np.log(counts_model) - counts_model\n",
        "          p_sum += p\n",
        "      return -p_sum\n",
        "\n",
        "\n",
        "\n",
        "  def lik1(self,params):\n",
        "    \"\"\"\n",
        "    Function that computes the likelihood for a given set of parameters of the model with a signal \n",
        "    \"\"\"\n",
        "    if long:\n",
        "      p_sum = 0\n",
        "      for i,j in np.ndindex(self.signal_conv.shape):\n",
        "        counts = self.counts_m[i][j]\n",
        "        counts_model = self.L1_model_long(params, i,j)\n",
        "        if counts_model > 0:  \n",
        "          p = counts * np.log(counts_model) - counts_model\n",
        "          p_sum += p\n",
        "      return -p_sum\n",
        "    else:\n",
        "      p_sum = 0\n",
        "      for i,j in np.ndindex(self.signal_conv.shape):\n",
        "        counts = self.counts_m[i][j]\n",
        "        counts_model = self.L1_model_short(params, i,j)\n",
        "        if counts_model > 0:  \n",
        "          p = counts * np.log(counts_model) - counts_model\n",
        "          p_sum += p\n",
        "      return -p_sum\n",
        "\n",
        "  \n",
        "  def Test_stat(self):\n",
        "    if long:\n",
        "      init_gues0 = []\n",
        "      init_gues1 = []\n",
        "      range0 = (0, 10)\n",
        "      range1 = (0, 10)\n",
        "      limit_list1 = []\n",
        "      limit_list2 = []\n",
        "      for __ in range(len(self.all_backgrounds)):\n",
        "        init_gues0.append(1)\n",
        "        init_gues1.append(1)\n",
        "        limit_list1.append(range0)\n",
        "        limit_list2.append(range1)\n",
        "      limit_list2.append((0, None))\n",
        "      init_gues1.append(self.signal_strength)\n",
        "      m_0 = Minuit.from_array_func(self.lik0, init_gues0, error = 0.1, limit= limit_list1, errordef=0.5)\n",
        "      m_1 = Minuit.from_array_func(self.lik1, init_gues1, error = 0.1, limit= limit_list2, errordef=0.5)\n",
        "      c = m_0.migrad() \n",
        "      d = m_1.migrad()\n",
        "      a = -m_0.fval \n",
        "      b = -m_1.fval\n",
        "      T = -2*(a-b)\n",
        "      return T, c,d,m_0,m_1\n",
        "    else:\n",
        "      init_gues0 = [1,1,1]\n",
        "      init_gues1 = [1,1,1,self.signal_strength]\n",
        "      range0 = (0.5, 2)\n",
        "      range1 = (0.5, 2)\n",
        "      m_0 = Minuit.from_array_func(self.lik0, init_gues0, error = 0.25, limit= [range0,range0,range0], errordef=0.5,)\n",
        "      m_1 = Minuit.from_array_func(self.lik1, init_gues1, error = 0.25, limit= [range1,range1,range1,(0, None)], errordef=0.5)\n",
        "      c = m_0.migrad() \n",
        "      d = m_1.migrad()\n",
        "      a = -m_0.fval \n",
        "      b = -m_1.fval\n",
        "      T = -2*(a-b)\n",
        "      return T, c,d,m_0,m_1"
      ],
      "execution_count": 0,
      "outputs": []
    },
    {
      "cell_type": "markdown",
      "metadata": {
        "id": "D8yXCNqLNU0Y",
        "colab_type": "text"
      },
      "source": [
        "# Doing the analysis"
      ]
    },
    {
      "cell_type": "code",
      "metadata": {
        "id": "_fvQ74-nNHAn",
        "colab_type": "code",
        "outputId": "f5ccafc6-a60a-43e3-f09d-234bfe85c6da",
        "colab": {
          "base_uri": "https://localhost:8080/",
          "height": 476
        }
      },
      "source": [
        "long = True\n",
        "\n",
        "all_T = []\n",
        "all_T_std = []\n",
        "all_f = []\n",
        "all_f_Std = []\n",
        "\n",
        "\n",
        "for k in range(0,11):\n",
        "\n",
        "  fit_values = []\n",
        "  T_values = []\n",
        "  energy_bin = k\n",
        "\n",
        "\n",
        "  for signal_bin,ss in enumerate(signal_strengts):\n",
        "\n",
        "    local_fit_values = []\n",
        "    local_T_values = []\n",
        "\n",
        "    for MC in range(MC_times):\n",
        "\n",
        "\n",
        "      model_backgrounds = [Ics_ring_1_template[energy_bin], Ics_ring_2_template[energy_bin], Ics_ring_3_template[energy_bin], Ics_ring_4_template[energy_bin],\n",
        "                      GCE_ring_1_template[energy_bin], GCE_ring_2_template[energy_bin], GCE_ring_3_template[energy_bin], GCE_ring_4_template[energy_bin], fermi_template[energy_bin]]\n",
        "\n",
        "      model_backgrounds = np.array(model_backgrounds)\n",
        "      signal1 = NB_templates[injection_spectra][energy_bin]\n",
        "      signal2 = F98_templates[injection_spectra][energy_bin]\n",
        "      data_map = all_simulated_background[signal_bin][MC][energy_bin]\n",
        "\n",
        "      ss = signal_strengts[signal_bin] \n",
        "\n",
        "      M = analysis(ss, model_backgrounds,signal1,signal2,data_map, long)\n",
        "      T, c,d,m_0,m_1 = M.Test_stat()\n",
        "      a = [m_1.values[x] for x in range(len(m_1.values))]\n",
        "\n",
        "      local_fit_values.append(a)\n",
        "      local_T_values.append(T)\n",
        "\n",
        "    fit_values.append(local_fit_values)\n",
        "    T_values.append(local_T_values)\n",
        "    print (k, ss)\n",
        "\n",
        "\n",
        "\n",
        "\n",
        "  fit_values = np.array(fit_values)\n",
        "  T_values = np.array(T_values)\n",
        "\n",
        "  a = np.mean(fit_values, axis = 1)\n",
        "  b = np.std(fit_values, axis = 1)\n",
        "  c = np.mean(T_values, axis = 1)\n",
        "  d = np.std(T_values, axis = 1)  \n",
        "\n",
        "  all_T.append(c)\n",
        "  all_T_std.append(d)\n",
        "  all_f.append(a)\n",
        "  all_f_Std.append(b)\n",
        "\n",
        "\n"
      ],
      "execution_count": 0,
      "outputs": [
        {
          "output_type": "stream",
          "text": [
            "0 0.01\n",
            "0 0.021544346900318832\n",
            "0 0.046415888336127774\n",
            "0 0.1\n",
            "0 0.21544346900318834\n",
            "0 0.46415888336127775\n",
            "0 1.0\n",
            "0 2.154434690031882\n",
            "0 4.6415888336127775\n",
            "0 10.0\n",
            "1 0.01\n",
            "1 0.021544346900318832\n",
            "1 0.046415888336127774\n",
            "1 0.1\n",
            "1 0.21544346900318834\n",
            "1 0.46415888336127775\n",
            "1 1.0\n",
            "1 2.154434690031882\n",
            "1 4.6415888336127775\n",
            "1 10.0\n",
            "2 0.01\n",
            "2 0.021544346900318832\n",
            "2 0.046415888336127774\n",
            "2 0.1\n",
            "2 0.21544346900318834\n",
            "2 0.46415888336127775\n",
            "2 1.0\n"
          ],
          "name": "stdout"
        }
      ]
    },
    {
      "cell_type": "markdown",
      "metadata": {
        "id": "hf9VhlfP5cm0",
        "colab_type": "text"
      },
      "source": [
        "## Putting it in txt files"
      ]
    },
    {
      "cell_type": "code",
      "metadata": {
        "id": "sC1xChEy4R7q",
        "colab_type": "code",
        "colab": {}
      },
      "source": [
        "all_T = np.array(all_T)\n",
        "all_f = np.array(all_f)\n",
        "all_T_std = np.array(all_T_std)\n",
        "all_f_Std = np.array(all_f_Std)\n",
        "\n",
        "\n"
      ],
      "execution_count": 0,
      "outputs": []
    },
    {
      "cell_type": "code",
      "metadata": {
        "id": "7BvRk4Ea3QZ7",
        "colab_type": "code",
        "colab": {}
      },
      "source": [
        "files_paths = '/content/drive/My Drive/Colab Notebooks/Fits_values/'\n",
        "file1 = open(files_paths + f'all_T_inj_{injection_spectra}', \"w\")\n",
        "file2 = open(files_paths + f'all_f_inj_{injection_spectra}', \"w\")\n",
        "\n",
        "file3 = open(files_paths + f'all_T_inj_{injection_spectra}_std', \"w\")\n",
        "file4 = open(files_paths + f'all_f_inj_{injection_spectra}_std', \"w\")\n",
        "\n",
        "for i in np.ndindex(all_T.shape):\n",
        "  np.savetxt(file1, [all_T[i]])\n",
        "\n",
        "for i in np.ndindex(all_f.shape):\n",
        "  np.savetxt(file2, [all_f[i]])\n",
        "\n",
        "for i in np.ndindex(all_T_std.shape):\n",
        "  np.savetxt(file3, [all_T_std[i]])\n",
        "\n",
        "for i in np.ndindex(all_f.shape):\n",
        "  np.savetxt(file4, [all_f_Std[i]])\n",
        "\n",
        "\n",
        "file1.close()\n",
        "file2.close()  \n",
        "file3.close()\n",
        "file4.close()  "
      ],
      "execution_count": 0,
      "outputs": []
    },
    {
      "cell_type": "markdown",
      "metadata": {
        "id": "DXuCwKKO5hj5",
        "colab_type": "text"
      },
      "source": [
        "## Plotting it"
      ]
    },
    {
      "cell_type": "code",
      "metadata": {
        "id": "ywTfva1b4DQo",
        "colab_type": "code",
        "colab": {}
      },
      "source": [
        "files_paths = '/content/drive/My Drive/Colab Notebooks/Fits_values/'\n",
        "all_T = np.loadtxt(files_paths + f'all_T_inj_{injection_spectra}').reshape(11,10)\n",
        "all_f = np.loadtxt(files_paths + f'all_f_inj_{injection_spectra}').reshape(11,10,10)\n",
        "all_T_std = np.loadtxt(files_paths + f'all_T_inj_{injection_spectra}_std').reshape(11,10)\n",
        "all_f_Std = np.loadtxt(files_paths + f'all_f_inj_{injection_spectra}_std').reshape(11,10,10)"
      ],
      "execution_count": 0,
      "outputs": []
    },
    {
      "cell_type": "code",
      "metadata": {
        "id": "W9kHMsFxzlEe",
        "colab_type": "code",
        "colab": {}
      },
      "source": [
        "all_f = np.array(all_f)\n",
        "all_T = np.array(all_T)\n",
        "\n",
        "\n",
        "total_T = np.sum(all_T, axis = 0)\n",
        "error_T = np.sum(all_T_std, axis = 0)\n",
        "\n",
        "signal = np.sum(sigals[injection_spectra][:][7][11])\n",
        "\n",
        "signal_per_bin = np.sum(sigals[injection_spectra][:][7][11], axis = 0)\n",
        "\n",
        "\n",
        "import matplotlib as mpl\n",
        "mpl.rcParams['font.size'] = 17.0\n",
        "#mpl.rcParams['font.family'] = 'serif'\n",
        "mpl.rcParams['lines.linewidth'] = 1.5\n",
        "mpl.rcParams['lines.linestyle'] = '-'\n",
        "mpl.rcParams['axes.linewidth'] = 1.0\n",
        "mpl.rcParams['axes.labelsize'] = 18.0\n",
        "mpl.rcParams['xtick.major.size'] = 6\n",
        "mpl.rcParams['xtick.major.width'] = 1\n",
        "mpl.rcParams['xtick.minor.size'] = 3\n",
        "mpl.rcParams['xtick.minor.width'] = 1\n",
        "mpl.rcParams['ytick.major.size'] = 6\n",
        "mpl.rcParams['ytick.major.width'] = 1\n",
        "mpl.rcParams['ytick.minor.size'] = 3\n",
        "mpl.rcParams['ytick.minor.width'] = 1\n",
        "mpl.rcParams['xtick.direction'] = 'in'\n",
        "mpl.rcParams['ytick.direction'] = 'in'\n",
        "mpl.rcParams['xtick.top'] = True\n",
        "mpl.rcParams['ytick.right'] = True\n",
        "mpl.rcParams['legend.fontsize'] = 'small'\n",
        "mpl.rcParams['figure.figsize'] = (7, 5)\n",
        "mpl.rcParams['savefig.bbox'] = 'tight'\n",
        "mpl.rcParams['savefig.pad_inches'] = 0.1\n",
        "#plt.style.use('classic')\n",
        "#rc('font', **{'size'   : 22})\n",
        "#plt.yscale('symlog', linthreshy=1.00e-02)\n",
        "\n",
        "\n",
        "print (f\"The plot for MC = {MC_times} and injection spectra {injection_spectra}\")\n",
        "\n",
        "plt.figure(figsize= (12,6))\n",
        "plt.plot(signal_strengts * signal, total_T, color = 'red', alpha = 0.8)\n",
        "plt.fill_between(signal_strengts * signal, total_T-error_T, total_T+error_T, alpha = 0.5)\n",
        "plt.xscale('log')\n",
        "plt.yscale('log')\n",
        "plt.axhline(41, linestyle = ':', color = 'g', label = \"TS = 41\")\n",
        "plt.xlabel(r'$\\phi_{inj}$ (counts $s^{-1} cm^{-2}$ )')\n",
        "plt.ylabel('Test statistic')\n",
        "plt.legend()\n",
        "plt.show()\n",
        "\n",
        "extracted = []\n",
        "error = []\n",
        "for i in all_f:\n",
        "  a = [x[-1] for x in i]\n",
        "  extracted.append(a)\n",
        "\n",
        "for i in all_f_Std:\n",
        "  a = [x[-1] for x in i]\n",
        "  error.append(a)\n",
        "\n",
        "extracted = np.array(extracted)\n",
        "error = np.array(error)\n",
        "\n",
        "a = sigals[injection_spectra]\n",
        "per_bin = []\n",
        "for i in range(11):\n",
        "  j = 2+4*i\n",
        "  per_bin.append(np.sum(a[j]) + np.sum(a[j+1]) + np.sum(a[j+2])+ np.sum(a[j+3]))\n",
        "\n",
        "sns.set()\n",
        "fig, ax = plt.subplots(3,4 , figsize=(20,15))\n",
        "\n",
        "for i in range(0,11):\n",
        "  plot = ax[int(i/4)][i%4]\n",
        "  plot.plot(signal_strengts * per_bin[i] , extracted[i] * per_bin[i], '.',color = \"r\")\n",
        "  plot.plot(signal_strengts * per_bin[i] , extracted[i] * per_bin[i], ':',color = \"r\", label = 'data')\n",
        "  plot.fill_between(signal_strengts * per_bin[i] , (extracted[i] - error[i]) * per_bin[i], (extracted[i] + error[i]) * per_bin[i], alpha = 0.5)\n",
        "  plot.plot(signal_strengts * per_bin[i] , signal_strengts * per_bin[i], linestyle = ':', label = 'injected = recovered')\n",
        "  plot.set_yscale('log')\n",
        "  plot.set_xscale('log')\n",
        "  plot.set_title(f'at E = {round(new_energies[i],2)}')\n",
        "  plot.set_xlabel(r'$\\phi_{inj}$ (counts $s^{-1} cm^{-2}$ )')\n",
        "  plot.set_ylabel(r'$\\phi_{reco}$ (counts $s^{-1} cm^{-2}$ )')\n",
        "  plot.legend()\n",
        "\n",
        "fig.delaxes(ax[2,3])\n",
        "fig.tight_layout(pad=2)\n",
        "plt.show()\n"
      ],
      "execution_count": 0,
      "outputs": []
    },
    {
      "cell_type": "code",
      "metadata": {
        "id": "xvKJg28JnDDU",
        "colab_type": "code",
        "colab": {}
      },
      "source": [
        "import matplotlib.pyplot as plt\n",
        "\n",
        "total_T = np.sum(all_T, axis = 0)\n",
        "\n",
        "sns.reset_orig()\n",
        "\n",
        "\n",
        "ICS_l = []\n",
        "GCE_l = []\n",
        "SI_l = []\n",
        "\n",
        "ICS_l2 = []\n",
        "GCE_l2 = []\n",
        "SI_l2 = []\n",
        "fermi_l = []\n",
        "\n",
        "signal_bin = 4\n",
        "\n",
        "for i in range(47):\n",
        "  I1 = ics_ring_maps[0][i][8][12] * energies[i]**2 * 10**6 \n",
        "  I2 = ics_ring_maps[1][i][8][12] * energies[i]**2 * 10**6\n",
        "  I3 = ics_ring_maps[2][i][8][12] * energies[i]**2 * 10**6\n",
        "  I4 = ics_ring_maps[3][i][8][12] * energies[i]**2 * 10**6\n",
        "\n",
        "  G1 = GCE_ring_maps[0][i][8][12] * energies[i]**2 * 10**6\n",
        "  G2 = GCE_ring_maps[1][i][8][12] * energies[i]**2 * 10**6\n",
        "  G3 = GCE_ring_maps[2][i][8][12] * energies[i]**2 * 10**6\n",
        "  G4 = GCE_ring_maps[3][i][8][12] * energies[i]**2 * 10**6\n",
        "\n",
        "  S1 = sigals[injection_spectra][i][8][12] * energies[i]**2 * 10**6\n",
        "  \n",
        "  ICS = I1+I2+I3+I4\n",
        "  GCE = G1+G2+G3+G4\n",
        "  \n",
        "  SI_l.append(S1)\n",
        "  ICS_l.append(ICS)\n",
        "  GCE_l.append(GCE)\n",
        "\n",
        "\n",
        "for energy_bin in range(11):\n",
        "  j = 2+energy_bin*4\n",
        "\n",
        "  fermi_li = (fermi_flux[j] + fermi_flux[j+1]+ fermi_flux[j+2]+ fermi_flux[j+3]) / 4 * all_f[energy_bin][signal_bin][8]\n",
        "  I12 = (ics_ring_maps[0][j][8][12] * energies[j]**2 + ics_ring_maps[0][j+1][8][12] * energies[j+1]**2 + ics_ring_maps[0][j+2][8][12] * energies[j+2]**2 + ics_ring_maps[0][j+3][8][12] * energies[j+3]**2) /4  * 10**6 * all_f[energy_bin][signal_bin][0]\n",
        "  I22 = (ics_ring_maps[1][j][8][12] * energies[j]**2 + ics_ring_maps[1][j+1][8][12] * energies[j+1]**2 + ics_ring_maps[1][j+2][8][12] * energies[j+2]**2 + ics_ring_maps[1][j+3][8][12] * energies[j+3]**2) /4  * 10**6 * all_f[energy_bin][signal_bin][1] \n",
        "  I32 = (ics_ring_maps[2][j][8][12] * energies[j]**2 + ics_ring_maps[2][j+1][8][12] * energies[j+1]**2 + ics_ring_maps[2][j+2][8][12] * energies[j+2]**2 + ics_ring_maps[2][j+3][8][12] * energies[j+3]**2) /4  * 10**6 * all_f[energy_bin][signal_bin][2] \n",
        "  I42 = (ics_ring_maps[3][j][8][12] * energies[j]**2 + ics_ring_maps[3][j+1][8][12] * energies[j+1]**2 + ics_ring_maps[3][j+2][8][12] * energies[j+2]**2 + ics_ring_maps[3][j+3][8][12] * energies[j+3]**2) /4  * 10**6 * all_f[energy_bin][signal_bin][3]\n",
        "\n",
        "  G12 = (GCE_ring_maps[0][j][8][12] * energies[j]**2 + GCE_ring_maps[0][j+1][8][12] * energies[j+1]**2 + GCE_ring_maps[0][j+2][8][12] * energies[j+2]**2 + GCE_ring_maps[0][j+3][8][12] * energies[j+3]**2) /4  * 10**6 * all_f[energy_bin][signal_bin][4]\n",
        "  G22 = (GCE_ring_maps[1][j][8][12] * energies[j]**2 + GCE_ring_maps[1][j+1][8][12] * energies[j+1]**2 + GCE_ring_maps[1][j+2][8][12] * energies[j+2]**2 + GCE_ring_maps[1][j+3][8][12] * energies[j+3]**2) /4  * 10**6 * all_f[energy_bin][signal_bin][5]\n",
        "  G32 = (GCE_ring_maps[2][j][8][12] * energies[j]**2 + GCE_ring_maps[2][j+1][8][12] * energies[j+1]**2 + GCE_ring_maps[2][j+2][8][12] * energies[j+2]**2 + GCE_ring_maps[2][j+3][8][12] * energies[j+3]**2) /4  * 10**6 * all_f[energy_bin][signal_bin][6]\n",
        "  G42 = (GCE_ring_maps[3][j][8][12] * energies[j]**2 + GCE_ring_maps[3][j+1][8][12] * energies[j+1]**2 + GCE_ring_maps[3][j+2][8][12] * energies[j+2]**2 + GCE_ring_maps[3][j+3][8][12] * energies[j+3]**2) /4  * 10**6 * all_f[energy_bin][signal_bin][7]\n",
        "\n",
        "\n",
        "  fermi_l.append(fermi_li)\n",
        "  S1 = (sigals[injection_spectra][j][8][12] * energies[j]**2 + sigals[injection_spectra][j+1][8][12] * energies[j+1]**2 + sigals[injection_spectra][j+2][8][12] * energies[j+2]**2 + sigals[injection_spectra][j+3][8][12] * energies[j+3]**2) /4  * 10**6 * all_f[energy_bin][signal_bin][9]\n",
        "\n",
        "\n",
        "\n",
        "  ICS2 = I12+I22+I32+I42\n",
        "  GCE2 = G12+G22+G32+G42\n",
        "\n",
        "  SI_l2.append(S1)\n",
        "  ICS_l2.append(ICS2)\n",
        "  GCE_l2.append(GCE2)\n",
        "\n",
        "\n",
        "import matplotlib as mpl\n",
        "mpl.rcParams['font.size'] = 17.0\n",
        "#mpl.rcParams['font.family'] = 'serif'\n",
        "mpl.rcParams['lines.linewidth'] = 1.5\n",
        "mpl.rcParams['lines.linestyle'] = '-'\n",
        "mpl.rcParams['axes.linewidth'] = 1.0\n",
        "mpl.rcParams['axes.labelsize'] = 18.0\n",
        "mpl.rcParams['xtick.major.size'] = 6\n",
        "mpl.rcParams['xtick.major.width'] = 1\n",
        "mpl.rcParams['xtick.minor.size'] = 3\n",
        "mpl.rcParams['xtick.minor.width'] = 1\n",
        "mpl.rcParams['ytick.major.size'] = 6\n",
        "mpl.rcParams['ytick.major.width'] = 1\n",
        "mpl.rcParams['ytick.minor.size'] = 3\n",
        "mpl.rcParams['ytick.minor.width'] = 1\n",
        "mpl.rcParams['xtick.direction'] = 'in'\n",
        "mpl.rcParams['ytick.direction'] = 'in'\n",
        "mpl.rcParams['xtick.top'] = True\n",
        "mpl.rcParams['ytick.right'] = True\n",
        "mpl.rcParams['legend.fontsize'] = 'small'\n",
        "mpl.rcParams['figure.figsize'] = (7, 5)\n",
        "mpl.rcParams['savefig.bbox'] = 'tight'\n",
        "mpl.rcParams['savefig.pad_inches'] = 0.1\n",
        "\n",
        "\n",
        "xmin_ics = new_energies[0:-1]\n",
        "xmax_ics = new_energies[1:]\n",
        "\n",
        "fig = plt.figure(figsize=[10, 8])\n",
        "ax = plt.subplot()\n",
        "\n",
        "ax.plot(energies, GCE_l,  linestyle='--', marker='v', color='r', label = 'gce', alpha= 0.5)\n",
        "ax.plot(energies, signal_strengts[signal_bin] * np.array(SI_l),  linestyle='--', marker='o', color='g', label = 'signal',  alpha= 0.5)\n",
        "ax.plot(energies, ICS_l,  linestyle='--', marker='^', color='b', label = 'ics',  alpha= 0.5)\n",
        "ax.plot(energies, fermi_flux,  linestyle='--', marker='^', color='y', label = 'fermi bubbles',  alpha= 0.5)\n",
        "\n",
        "\n",
        "\n",
        "ax.hlines(ICS_l2[:-1], xmin= xmin_ics, xmax=xmax_ics, label= 'ics fit', color = 'b')\n",
        "ax.hlines(GCE_l2[:-1], xmin= xmin_ics, xmax=xmax_ics, label= 'gce fit', color = 'r')\n",
        "ax.hlines(SI_l2[:-1], xmin= xmin_ics, xmax=xmax_ics, label= 'signal fit', color = 'g')\n",
        "ax.hlines(fermi_l[:-1], xmin= xmin_ics, xmax=xmax_ics, label= 'Fermi fit', color = 'y')\n",
        "\n",
        "ax.minorticks_on()\n",
        "ax.minorticks_on()\n",
        "ax.tick_params('both', length=10, width=1, which='major',\n",
        "                direction='in', bottom=True, top=True, left=True, right=True, pad=5, labelsize=21)\n",
        "ax.tick_params('both', length=5, width=1, which='minor',\n",
        "                direction='in', bottom=True, top=True, left=True, right=True)\n",
        "\n",
        "\n",
        "ax.set_ylim(10**-13,10**-7)\n",
        "ax.set_xlim(0.01,200)\n",
        "ax.set_ylabel(r'$E^{2} DN/DE [TeV cm^{-2} s^{-1} sr^{-1}$')\n",
        "ax.set_xlabel(r'$Energy [TeV]$')\n",
        "plt.legend()\n",
        "ax.set_xscale('log')\n",
        "ax.set_yscale('log')\n",
        "plt.show()\n",
        "\n",
        "print (f\" all strengths at T = {total_T[signal_bin]} \")\n",
        "\n"
      ],
      "execution_count": 0,
      "outputs": []
    },
    {
      "cell_type": "code",
      "metadata": {
        "id": "Za_6_d4tW7Fy",
        "colab_type": "code",
        "colab": {}
      },
      "source": [
        "\n",
        "a = sigals[injection_spectra]\n",
        "a.shape\n",
        "\n",
        "per_bin = []\n",
        "for i in range(11):\n",
        "  j = 2+4*i\n",
        "  per_bin.append(np.sum(a[j]) + np.sum(a[j+1]) + np.sum(a[j+2])+ np.sum(a[j+3]))\n",
        "\n",
        "per_bin"
      ],
      "execution_count": 0,
      "outputs": []
    }
  ]
}