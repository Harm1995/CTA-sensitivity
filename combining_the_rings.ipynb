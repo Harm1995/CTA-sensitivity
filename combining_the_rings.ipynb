{
  "nbformat": 4,
  "nbformat_minor": 0,
  "metadata": {
    "kernelspec": {
      "display_name": "Python 3",
      "language": "python",
      "name": "python3"
    },
    "language_info": {
      "codemirror_mode": {
        "name": "ipython",
        "version": 3
      },
      "file_extension": ".py",
      "mimetype": "text/x-python",
      "name": "python",
      "nbconvert_exporter": "python",
      "pygments_lexer": "ipython3",
      "version": "3.7.0"
    },
    "colab": {
      "name": "combining_the_rings.ipynb",
      "provenance": [],
      "include_colab_link": true
    }
  },
  "cells": [
    {
      "cell_type": "markdown",
      "metadata": {
        "id": "view-in-github",
        "colab_type": "text"
      },
      "source": [
        "<a href=\"https://colab.research.google.com/github/Harm1995/CTA-sensitivity/blob/master/combining_the_rings.ipynb\" target=\"_parent\"><img src=\"https://colab.research.google.com/assets/colab-badge.svg\" alt=\"Open In Colab\"/></a>"
      ]
    },
    {
      "cell_type": "code",
      "metadata": {
        "id": "qj-L-bgtXzsg",
        "colab_type": "code",
        "colab": {}
      },
      "source": [
        "from astropy.io import fits\n",
        "import numpy as np"
      ],
      "execution_count": 0,
      "outputs": []
    },
    {
      "cell_type": "code",
      "metadata": {
        "id": "l-6oLAniXzsm",
        "colab_type": "code",
        "colab": {}
      },
      "source": [
        "ring_info = fits.open(\"eb-v_corrected_py_rbands_hi_6.2.0_Ts150_zmax1_Rsl8_sl_0.5_res4_sel2_OptThinLim_ringfit_noCO_mag2.0_d2CO_0.0480_d2HI_0.0145.fits.gz\")\n"
      ],
      "execution_count": 0,
      "outputs": []
    },
    {
      "cell_type": "code",
      "metadata": {
        "id": "NqfDjh-MXzsq",
        "colab_type": "code",
        "colab": {},
        "outputId": "f8be6ead-5129-4b0d-cd0f-2326bf850e13"
      },
      "source": [
        "for i in range(len(ring_info[1].data)):\n",
        "    print 'ring',i+1,'->', ring_info[1].data[i]\n"
      ],
      "execution_count": 0,
      "outputs": [
        {
          "output_type": "stream",
          "text": [
            "ring 1 -> (0.0, 1.5125202)\n",
            "ring 2 -> (1.5125202, 1.9842856)\n",
            "ring 3 -> (1.9842856, 2.4851594)\n",
            "ring 4 -> (2.4851594, 3.011474)\n",
            "ring 5 -> (3.011474, 3.4911103)\n",
            "ring 6 -> (3.4911103, 3.9905083)\n",
            "ring 7 -> (3.9905083, 4.504314)\n",
            "ring 8 -> (4.504314, 4.996175)\n",
            "ring 9 -> (4.996175, 5.492054)\n",
            "ring 10 -> (5.492054, 6.511378)\n",
            "ring 11 -> (6.511378, 7.0050726)\n",
            "ring 12 -> (7.0050726, 7.999996)\n",
            "ring 13 -> (7.999996, 10.0)\n",
            "ring 14 -> (10.0, 11.5)\n",
            "ring 15 -> (11.5, 16.5)\n",
            "ring 16 -> (16.5, 19.0)\n",
            "ring 17 -> (19.0, 50.0)\n"
          ],
          "name": "stdout"
        }
      ]
    },
    {
      "cell_type": "code",
      "metadata": {
        "id": "fwsnLc5nXzsw",
        "colab_type": "code",
        "colab": {}
      },
      "source": [
        ""
      ],
      "execution_count": 0,
      "outputs": []
    },
    {
      "cell_type": "markdown",
      "metadata": {
        "id": "IdibX_74Xzs1",
        "colab_type": "text"
      },
      "source": [
        "- First ring = combine rings [1,2,3,4,5]\n",
        "- Second ring = combine rings [6,7,8,9,10,11,12]\n",
        "- Third ring = combine rings [13]\n",
        "- Fourth ring = combine rings [14,15,16,17]"
      ]
    },
    {
      "cell_type": "code",
      "metadata": {
        "id": "yrPmUXwRXzs2",
        "colab_type": "code",
        "colab": {}
      },
      "source": [
        "injections = ['inj0','inj1', 'inj2', 'inj3', 'inj4']\n",
        "k = 0"
      ],
      "execution_count": 0,
      "outputs": []
    },
    {
      "cell_type": "code",
      "metadata": {
        "id": "2caOgM2mXzs6",
        "colab_type": "code",
        "colab": {}
      },
      "source": [
        "# First ring = combine rings [1,2,3,4,5]\n",
        "FirstRing = []\n",
        "\n",
        "for i in range(1,5,1):\n",
        "    for j in range(0,3):\n",
        "        filename ='ics_anisotropic_comp_ring_'+str(i)+'_mapcube_comp_'+ str(j)+'_56_NB_' + injections[k] + '.gz'\n",
        "        image = fits.open(filename)\n",
        "        FirstRing.append(image[0].data)\n",
        "array3d = np.sum(FirstRing, axis=0)\n",
        "\n",
        "image=fits.open('ics_anisotropic_comp_ring_1_mapcube_comp_0_56_NB_inj0.gz')\n",
        "image[0].data = array3d\n",
        "image.writeto('NB_ring_1_'+injections[k] +'.fits')"
      ],
      "execution_count": 0,
      "outputs": []
    },
    {
      "cell_type": "code",
      "metadata": {
        "id": "15KmocUNXztA",
        "colab_type": "code",
        "colab": {}
      },
      "source": [
        "# Second ring = combine rings [6,7,8,9,10,11,12]\n",
        "SecondRing = []\n",
        "for i in range(5,12,1):\n",
        "    for j in range(0,3):\n",
        "        filename ='ics_anisotropic_comp_ring_'+str(i)+'_mapcube_comp_'+ str(j)+'_56_NB_' + injections[k] + '.gz'\n",
        "        image = fits.open(filename)\n",
        "        FirstRing.append(image[0].data)\n",
        "array3d = np.sum(FirstRing, axis=0)\n",
        "\n",
        "image=fits.open('ics_anisotropic_comp_ring_1_mapcube_comp_0_56_NB_inj0.gz')\n",
        "image[0].data = array3d\n",
        "image.writeto('NB_ring_2_'+injections[k] +'.fits')"
      ],
      "execution_count": 0,
      "outputs": []
    },
    {
      "cell_type": "code",
      "metadata": {
        "id": "23V-rEkTXztG",
        "colab_type": "code",
        "colab": {}
      },
      "source": [
        "#Third ring = combine rings [13]\n",
        "ThirdRing = []\n",
        "for i in range(12,13,1):\n",
        "    for j in range(0,3):\n",
        "        filename ='ics_anisotropic_comp_ring_'+str(i)+'_mapcube_comp_'+ str(j)+'_56_NB_' + injections[k] + '.gz'\n",
        "        image = fits.open(filename)\n",
        "        FirstRing.append(image[0].data)\n",
        "array3d = np.sum(FirstRing, axis=0)\n",
        "\n",
        "image=fits.open('ics_anisotropic_comp_ring_1_mapcube_comp_0_56_NB_inj0.gz')\n",
        "image[0].data = array3d\n",
        "image.writeto('NB_ring_3_'+injections[k] +'.fits')"
      ],
      "execution_count": 0,
      "outputs": []
    },
    {
      "cell_type": "code",
      "metadata": {
        "id": "N3JW_mr0XztK",
        "colab_type": "code",
        "colab": {}
      },
      "source": [
        "#Fourth ring = combine rings [14,15,16,17]\n",
        "FourthRing = []\n",
        "for i in range(13,17,1):\n",
        "    for j in range(0,3):\n",
        "        filename ='ics_anisotropic_comp_ring_'+str(i)+'_mapcube_comp_'+ str(j)+'_56_NB_' + injections[k] + '.gz'\n",
        "        image = fits.open(filename)\n",
        "        FirstRing.append(image[0].data)\n",
        "array3d = np.sum(FirstRing, axis=0)\n",
        "\n",
        "image=fits.open('ics_anisotropic_comp_ring_1_mapcube_comp_0_56_NB_inj0.gz')\n",
        "image[0].data = array3d\n",
        "image.writeto('NB_ring_4_'+injections[k] +'.fits')"
      ],
      "execution_count": 0,
      "outputs": []
    },
    {
      "cell_type": "code",
      "metadata": {
        "id": "M-STj30OXztP",
        "colab_type": "code",
        "colab": {}
      },
      "source": [
        ""
      ],
      "execution_count": 0,
      "outputs": []
    },
    {
      "cell_type": "code",
      "metadata": {
        "id": "2AVczAxGXztU",
        "colab_type": "code",
        "colab": {}
      },
      "source": [
        ""
      ],
      "execution_count": 0,
      "outputs": []
    },
    {
      "cell_type": "code",
      "metadata": {
        "id": "htBG5hx6Xzta",
        "colab_type": "code",
        "colab": {}
      },
      "source": [
        ""
      ],
      "execution_count": 0,
      "outputs": []
    }
  ]
}