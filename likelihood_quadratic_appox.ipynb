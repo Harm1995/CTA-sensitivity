{
  "nbformat": 4,
  "nbformat_minor": 0,
  "metadata": {
    "colab": {
      "name": "likelihood_quadratic_appox_8.ipynb",
      "provenance": [],
      "collapsed_sections": [
        "EBr00oeBTslt",
        "leo2KE689YzA",
        "ALwx1Gpj2851",
        "EnrP4BnP3wy6",
        "Eb0P3-Qq30eA",
        "CQ1Nfp-a3AQ6",
        "cQJQoLCCGdm-",
        "tD174Kr5VpdJ",
        "Uk1h3jpYBvPM",
        "BKe23BuPx8xq",
        "hf9VhlfP5cm0",
        "vROF8d7tNBgJ",
        "Uf845IZyNF3N"
      ],
      "toc_visible": true,
      "include_colab_link": true
    },
    "kernelspec": {
      "display_name": "Python 3",
      "name": "python3"
    },
    "widgets": {
      "application/vnd.jupyter.widget-state+json": {
        "a119710e323441d2aa9cbfc50a38636f": {
          "model_module": "@jupyter-widgets/controls",
          "model_name": "HBoxModel",
          "state": {
            "_view_name": "HBoxView",
            "_dom_classes": [],
            "_model_name": "HBoxModel",
            "_view_module": "@jupyter-widgets/controls",
            "_model_module_version": "1.5.0",
            "_view_count": null,
            "_view_module_version": "1.5.0",
            "box_style": "",
            "layout": "IPY_MODEL_0b5e14d7d2704f93a304493753cf7e52",
            "_model_module": "@jupyter-widgets/controls",
            "children": [
              "IPY_MODEL_bcb01db6fec5419a886846c054b80045",
              "IPY_MODEL_5a0365194488434187f89d59512aacc5"
            ]
          }
        },
        "0b5e14d7d2704f93a304493753cf7e52": {
          "model_module": "@jupyter-widgets/base",
          "model_name": "LayoutModel",
          "state": {
            "_view_name": "LayoutView",
            "grid_template_rows": null,
            "right": null,
            "justify_content": null,
            "_view_module": "@jupyter-widgets/base",
            "overflow": null,
            "_model_module_version": "1.2.0",
            "_view_count": null,
            "flex_flow": null,
            "width": null,
            "min_width": null,
            "border": null,
            "align_items": null,
            "bottom": null,
            "_model_module": "@jupyter-widgets/base",
            "top": null,
            "grid_column": null,
            "overflow_y": null,
            "overflow_x": null,
            "grid_auto_flow": null,
            "grid_area": null,
            "grid_template_columns": null,
            "flex": null,
            "_model_name": "LayoutModel",
            "justify_items": null,
            "grid_row": null,
            "max_height": null,
            "align_content": null,
            "visibility": null,
            "align_self": null,
            "height": null,
            "min_height": null,
            "padding": null,
            "grid_auto_rows": null,
            "grid_gap": null,
            "max_width": null,
            "order": null,
            "_view_module_version": "1.2.0",
            "grid_template_areas": null,
            "object_position": null,
            "object_fit": null,
            "grid_auto_columns": null,
            "margin": null,
            "display": null,
            "left": null
          }
        },
        "bcb01db6fec5419a886846c054b80045": {
          "model_module": "@jupyter-widgets/controls",
          "model_name": "FloatProgressModel",
          "state": {
            "_view_name": "ProgressView",
            "style": "IPY_MODEL_039388471642424ca21fb55017cc3ec9",
            "_dom_classes": [],
            "description": "100%",
            "_model_name": "FloatProgressModel",
            "bar_style": "success",
            "max": 11,
            "_view_module": "@jupyter-widgets/controls",
            "_model_module_version": "1.5.0",
            "value": 11,
            "_view_count": null,
            "_view_module_version": "1.5.0",
            "orientation": "horizontal",
            "min": 0,
            "description_tooltip": null,
            "_model_module": "@jupyter-widgets/controls",
            "layout": "IPY_MODEL_709ccb95b5574cd4b55977fd0bbdd76f"
          }
        },
        "5a0365194488434187f89d59512aacc5": {
          "model_module": "@jupyter-widgets/controls",
          "model_name": "HTMLModel",
          "state": {
            "_view_name": "HTMLView",
            "style": "IPY_MODEL_8f2ccb4b01a042a88090ebb8ce5c71cb",
            "_dom_classes": [],
            "description": "",
            "_model_name": "HTMLModel",
            "placeholder": "​",
            "_view_module": "@jupyter-widgets/controls",
            "_model_module_version": "1.5.0",
            "value": " 11/11 [15:16&lt;00:00, 83.35s/it]",
            "_view_count": null,
            "_view_module_version": "1.5.0",
            "description_tooltip": null,
            "_model_module": "@jupyter-widgets/controls",
            "layout": "IPY_MODEL_9c536b11479d497d8736efb38783e68d"
          }
        },
        "039388471642424ca21fb55017cc3ec9": {
          "model_module": "@jupyter-widgets/controls",
          "model_name": "ProgressStyleModel",
          "state": {
            "_view_name": "StyleView",
            "_model_name": "ProgressStyleModel",
            "description_width": "initial",
            "_view_module": "@jupyter-widgets/base",
            "_model_module_version": "1.5.0",
            "_view_count": null,
            "_view_module_version": "1.2.0",
            "bar_color": null,
            "_model_module": "@jupyter-widgets/controls"
          }
        },
        "709ccb95b5574cd4b55977fd0bbdd76f": {
          "model_module": "@jupyter-widgets/base",
          "model_name": "LayoutModel",
          "state": {
            "_view_name": "LayoutView",
            "grid_template_rows": null,
            "right": null,
            "justify_content": null,
            "_view_module": "@jupyter-widgets/base",
            "overflow": null,
            "_model_module_version": "1.2.0",
            "_view_count": null,
            "flex_flow": null,
            "width": null,
            "min_width": null,
            "border": null,
            "align_items": null,
            "bottom": null,
            "_model_module": "@jupyter-widgets/base",
            "top": null,
            "grid_column": null,
            "overflow_y": null,
            "overflow_x": null,
            "grid_auto_flow": null,
            "grid_area": null,
            "grid_template_columns": null,
            "flex": null,
            "_model_name": "LayoutModel",
            "justify_items": null,
            "grid_row": null,
            "max_height": null,
            "align_content": null,
            "visibility": null,
            "align_self": null,
            "height": null,
            "min_height": null,
            "padding": null,
            "grid_auto_rows": null,
            "grid_gap": null,
            "max_width": null,
            "order": null,
            "_view_module_version": "1.2.0",
            "grid_template_areas": null,
            "object_position": null,
            "object_fit": null,
            "grid_auto_columns": null,
            "margin": null,
            "display": null,
            "left": null
          }
        },
        "8f2ccb4b01a042a88090ebb8ce5c71cb": {
          "model_module": "@jupyter-widgets/controls",
          "model_name": "DescriptionStyleModel",
          "state": {
            "_view_name": "StyleView",
            "_model_name": "DescriptionStyleModel",
            "description_width": "",
            "_view_module": "@jupyter-widgets/base",
            "_model_module_version": "1.5.0",
            "_view_count": null,
            "_view_module_version": "1.2.0",
            "_model_module": "@jupyter-widgets/controls"
          }
        },
        "9c536b11479d497d8736efb38783e68d": {
          "model_module": "@jupyter-widgets/base",
          "model_name": "LayoutModel",
          "state": {
            "_view_name": "LayoutView",
            "grid_template_rows": null,
            "right": null,
            "justify_content": null,
            "_view_module": "@jupyter-widgets/base",
            "overflow": null,
            "_model_module_version": "1.2.0",
            "_view_count": null,
            "flex_flow": null,
            "width": null,
            "min_width": null,
            "border": null,
            "align_items": null,
            "bottom": null,
            "_model_module": "@jupyter-widgets/base",
            "top": null,
            "grid_column": null,
            "overflow_y": null,
            "overflow_x": null,
            "grid_auto_flow": null,
            "grid_area": null,
            "grid_template_columns": null,
            "flex": null,
            "_model_name": "LayoutModel",
            "justify_items": null,
            "grid_row": null,
            "max_height": null,
            "align_content": null,
            "visibility": null,
            "align_self": null,
            "height": null,
            "min_height": null,
            "padding": null,
            "grid_auto_rows": null,
            "grid_gap": null,
            "max_width": null,
            "order": null,
            "_view_module_version": "1.2.0",
            "grid_template_areas": null,
            "object_position": null,
            "object_fit": null,
            "grid_auto_columns": null,
            "margin": null,
            "display": null,
            "left": null
          }
        },
        "c99c4c07cc0247bfaa4a18fd72e9d7f3": {
          "model_module": "@jupyter-widgets/controls",
          "model_name": "HBoxModel",
          "state": {
            "_view_name": "HBoxView",
            "_dom_classes": [],
            "_model_name": "HBoxModel",
            "_view_module": "@jupyter-widgets/controls",
            "_model_module_version": "1.5.0",
            "_view_count": null,
            "_view_module_version": "1.5.0",
            "box_style": "",
            "layout": "IPY_MODEL_808dd1622ca442c188710ce09cf09636",
            "_model_module": "@jupyter-widgets/controls",
            "children": [
              "IPY_MODEL_66e3297556fb45cc93d0d4a115c7317e",
              "IPY_MODEL_e606b7f085444640911be8a00b961add"
            ]
          }
        },
        "808dd1622ca442c188710ce09cf09636": {
          "model_module": "@jupyter-widgets/base",
          "model_name": "LayoutModel",
          "state": {
            "_view_name": "LayoutView",
            "grid_template_rows": null,
            "right": null,
            "justify_content": null,
            "_view_module": "@jupyter-widgets/base",
            "overflow": null,
            "_model_module_version": "1.2.0",
            "_view_count": null,
            "flex_flow": null,
            "width": null,
            "min_width": null,
            "border": null,
            "align_items": null,
            "bottom": null,
            "_model_module": "@jupyter-widgets/base",
            "top": null,
            "grid_column": null,
            "overflow_y": null,
            "overflow_x": null,
            "grid_auto_flow": null,
            "grid_area": null,
            "grid_template_columns": null,
            "flex": null,
            "_model_name": "LayoutModel",
            "justify_items": null,
            "grid_row": null,
            "max_height": null,
            "align_content": null,
            "visibility": null,
            "align_self": null,
            "height": null,
            "min_height": null,
            "padding": null,
            "grid_auto_rows": null,
            "grid_gap": null,
            "max_width": null,
            "order": null,
            "_view_module_version": "1.2.0",
            "grid_template_areas": null,
            "object_position": null,
            "object_fit": null,
            "grid_auto_columns": null,
            "margin": null,
            "display": null,
            "left": null
          }
        },
        "66e3297556fb45cc93d0d4a115c7317e": {
          "model_module": "@jupyter-widgets/controls",
          "model_name": "FloatProgressModel",
          "state": {
            "_view_name": "ProgressView",
            "style": "IPY_MODEL_1a5f2a1de99045bc92749072edfc3b84",
            "_dom_classes": [],
            "description": "100%",
            "_model_name": "FloatProgressModel",
            "bar_style": "success",
            "max": 11,
            "_view_module": "@jupyter-widgets/controls",
            "_model_module_version": "1.5.0",
            "value": 11,
            "_view_count": null,
            "_view_module_version": "1.5.0",
            "orientation": "horizontal",
            "min": 0,
            "description_tooltip": null,
            "_model_module": "@jupyter-widgets/controls",
            "layout": "IPY_MODEL_a692e4c5a0c349cfbd0e4c0e96519322"
          }
        },
        "e606b7f085444640911be8a00b961add": {
          "model_module": "@jupyter-widgets/controls",
          "model_name": "HTMLModel",
          "state": {
            "_view_name": "HTMLView",
            "style": "IPY_MODEL_f1025821a1ce48d5baa1285040061b19",
            "_dom_classes": [],
            "description": "",
            "_model_name": "HTMLModel",
            "placeholder": "​",
            "_view_module": "@jupyter-widgets/controls",
            "_model_module_version": "1.5.0",
            "value": " 11/11 [11:30&lt;00:00, 62.79s/it]",
            "_view_count": null,
            "_view_module_version": "1.5.0",
            "description_tooltip": null,
            "_model_module": "@jupyter-widgets/controls",
            "layout": "IPY_MODEL_8d7ce80664e74e1ea49987864b86a0b6"
          }
        },
        "1a5f2a1de99045bc92749072edfc3b84": {
          "model_module": "@jupyter-widgets/controls",
          "model_name": "ProgressStyleModel",
          "state": {
            "_view_name": "StyleView",
            "_model_name": "ProgressStyleModel",
            "description_width": "initial",
            "_view_module": "@jupyter-widgets/base",
            "_model_module_version": "1.5.0",
            "_view_count": null,
            "_view_module_version": "1.2.0",
            "bar_color": null,
            "_model_module": "@jupyter-widgets/controls"
          }
        },
        "a692e4c5a0c349cfbd0e4c0e96519322": {
          "model_module": "@jupyter-widgets/base",
          "model_name": "LayoutModel",
          "state": {
            "_view_name": "LayoutView",
            "grid_template_rows": null,
            "right": null,
            "justify_content": null,
            "_view_module": "@jupyter-widgets/base",
            "overflow": null,
            "_model_module_version": "1.2.0",
            "_view_count": null,
            "flex_flow": null,
            "width": null,
            "min_width": null,
            "border": null,
            "align_items": null,
            "bottom": null,
            "_model_module": "@jupyter-widgets/base",
            "top": null,
            "grid_column": null,
            "overflow_y": null,
            "overflow_x": null,
            "grid_auto_flow": null,
            "grid_area": null,
            "grid_template_columns": null,
            "flex": null,
            "_model_name": "LayoutModel",
            "justify_items": null,
            "grid_row": null,
            "max_height": null,
            "align_content": null,
            "visibility": null,
            "align_self": null,
            "height": null,
            "min_height": null,
            "padding": null,
            "grid_auto_rows": null,
            "grid_gap": null,
            "max_width": null,
            "order": null,
            "_view_module_version": "1.2.0",
            "grid_template_areas": null,
            "object_position": null,
            "object_fit": null,
            "grid_auto_columns": null,
            "margin": null,
            "display": null,
            "left": null
          }
        },
        "f1025821a1ce48d5baa1285040061b19": {
          "model_module": "@jupyter-widgets/controls",
          "model_name": "DescriptionStyleModel",
          "state": {
            "_view_name": "StyleView",
            "_model_name": "DescriptionStyleModel",
            "description_width": "",
            "_view_module": "@jupyter-widgets/base",
            "_model_module_version": "1.5.0",
            "_view_count": null,
            "_view_module_version": "1.2.0",
            "_model_module": "@jupyter-widgets/controls"
          }
        },
        "8d7ce80664e74e1ea49987864b86a0b6": {
          "model_module": "@jupyter-widgets/base",
          "model_name": "LayoutModel",
          "state": {
            "_view_name": "LayoutView",
            "grid_template_rows": null,
            "right": null,
            "justify_content": null,
            "_view_module": "@jupyter-widgets/base",
            "overflow": null,
            "_model_module_version": "1.2.0",
            "_view_count": null,
            "flex_flow": null,
            "width": null,
            "min_width": null,
            "border": null,
            "align_items": null,
            "bottom": null,
            "_model_module": "@jupyter-widgets/base",
            "top": null,
            "grid_column": null,
            "overflow_y": null,
            "overflow_x": null,
            "grid_auto_flow": null,
            "grid_area": null,
            "grid_template_columns": null,
            "flex": null,
            "_model_name": "LayoutModel",
            "justify_items": null,
            "grid_row": null,
            "max_height": null,
            "align_content": null,
            "visibility": null,
            "align_self": null,
            "height": null,
            "min_height": null,
            "padding": null,
            "grid_auto_rows": null,
            "grid_gap": null,
            "max_width": null,
            "order": null,
            "_view_module_version": "1.2.0",
            "grid_template_areas": null,
            "object_position": null,
            "object_fit": null,
            "grid_auto_columns": null,
            "margin": null,
            "display": null,
            "left": null
          }
        },
        "41c388a0657e43df9f2930b292eb54a1": {
          "model_module": "@jupyter-widgets/controls",
          "model_name": "HBoxModel",
          "state": {
            "_view_name": "HBoxView",
            "_dom_classes": [],
            "_model_name": "HBoxModel",
            "_view_module": "@jupyter-widgets/controls",
            "_model_module_version": "1.5.0",
            "_view_count": null,
            "_view_module_version": "1.5.0",
            "box_style": "",
            "layout": "IPY_MODEL_40159b0febb34f44a7c018901545f9f1",
            "_model_module": "@jupyter-widgets/controls",
            "children": [
              "IPY_MODEL_ae2e75c41c6244028403b77f50077f59",
              "IPY_MODEL_0c9157845f7e46f7bdaa83e9c64ce91a"
            ]
          }
        },
        "40159b0febb34f44a7c018901545f9f1": {
          "model_module": "@jupyter-widgets/base",
          "model_name": "LayoutModel",
          "state": {
            "_view_name": "LayoutView",
            "grid_template_rows": null,
            "right": null,
            "justify_content": null,
            "_view_module": "@jupyter-widgets/base",
            "overflow": null,
            "_model_module_version": "1.2.0",
            "_view_count": null,
            "flex_flow": null,
            "width": null,
            "min_width": null,
            "border": null,
            "align_items": null,
            "bottom": null,
            "_model_module": "@jupyter-widgets/base",
            "top": null,
            "grid_column": null,
            "overflow_y": null,
            "overflow_x": null,
            "grid_auto_flow": null,
            "grid_area": null,
            "grid_template_columns": null,
            "flex": null,
            "_model_name": "LayoutModel",
            "justify_items": null,
            "grid_row": null,
            "max_height": null,
            "align_content": null,
            "visibility": null,
            "align_self": null,
            "height": null,
            "min_height": null,
            "padding": null,
            "grid_auto_rows": null,
            "grid_gap": null,
            "max_width": null,
            "order": null,
            "_view_module_version": "1.2.0",
            "grid_template_areas": null,
            "object_position": null,
            "object_fit": null,
            "grid_auto_columns": null,
            "margin": null,
            "display": null,
            "left": null
          }
        },
        "ae2e75c41c6244028403b77f50077f59": {
          "model_module": "@jupyter-widgets/controls",
          "model_name": "FloatProgressModel",
          "state": {
            "_view_name": "ProgressView",
            "style": "IPY_MODEL_268f0b56768245149cc807826599c19c",
            "_dom_classes": [],
            "description": "100%",
            "_model_name": "FloatProgressModel",
            "bar_style": "success",
            "max": 11,
            "_view_module": "@jupyter-widgets/controls",
            "_model_module_version": "1.5.0",
            "value": 11,
            "_view_count": null,
            "_view_module_version": "1.5.0",
            "orientation": "horizontal",
            "min": 0,
            "description_tooltip": null,
            "_model_module": "@jupyter-widgets/controls",
            "layout": "IPY_MODEL_ab4c23aed02049a38e8383e8420c1157"
          }
        },
        "0c9157845f7e46f7bdaa83e9c64ce91a": {
          "model_module": "@jupyter-widgets/controls",
          "model_name": "HTMLModel",
          "state": {
            "_view_name": "HTMLView",
            "style": "IPY_MODEL_fa2c86f1cf51465e852e4ab865032313",
            "_dom_classes": [],
            "description": "",
            "_model_name": "HTMLModel",
            "placeholder": "​",
            "_view_module": "@jupyter-widgets/controls",
            "_model_module_version": "1.5.0",
            "value": " 11/11 [07:44&lt;00:00, 42.18s/it]",
            "_view_count": null,
            "_view_module_version": "1.5.0",
            "description_tooltip": null,
            "_model_module": "@jupyter-widgets/controls",
            "layout": "IPY_MODEL_39ed47e00ed8478ba72835dd55a4b25d"
          }
        },
        "268f0b56768245149cc807826599c19c": {
          "model_module": "@jupyter-widgets/controls",
          "model_name": "ProgressStyleModel",
          "state": {
            "_view_name": "StyleView",
            "_model_name": "ProgressStyleModel",
            "description_width": "initial",
            "_view_module": "@jupyter-widgets/base",
            "_model_module_version": "1.5.0",
            "_view_count": null,
            "_view_module_version": "1.2.0",
            "bar_color": null,
            "_model_module": "@jupyter-widgets/controls"
          }
        },
        "ab4c23aed02049a38e8383e8420c1157": {
          "model_module": "@jupyter-widgets/base",
          "model_name": "LayoutModel",
          "state": {
            "_view_name": "LayoutView",
            "grid_template_rows": null,
            "right": null,
            "justify_content": null,
            "_view_module": "@jupyter-widgets/base",
            "overflow": null,
            "_model_module_version": "1.2.0",
            "_view_count": null,
            "flex_flow": null,
            "width": null,
            "min_width": null,
            "border": null,
            "align_items": null,
            "bottom": null,
            "_model_module": "@jupyter-widgets/base",
            "top": null,
            "grid_column": null,
            "overflow_y": null,
            "overflow_x": null,
            "grid_auto_flow": null,
            "grid_area": null,
            "grid_template_columns": null,
            "flex": null,
            "_model_name": "LayoutModel",
            "justify_items": null,
            "grid_row": null,
            "max_height": null,
            "align_content": null,
            "visibility": null,
            "align_self": null,
            "height": null,
            "min_height": null,
            "padding": null,
            "grid_auto_rows": null,
            "grid_gap": null,
            "max_width": null,
            "order": null,
            "_view_module_version": "1.2.0",
            "grid_template_areas": null,
            "object_position": null,
            "object_fit": null,
            "grid_auto_columns": null,
            "margin": null,
            "display": null,
            "left": null
          }
        },
        "fa2c86f1cf51465e852e4ab865032313": {
          "model_module": "@jupyter-widgets/controls",
          "model_name": "DescriptionStyleModel",
          "state": {
            "_view_name": "StyleView",
            "_model_name": "DescriptionStyleModel",
            "description_width": "",
            "_view_module": "@jupyter-widgets/base",
            "_model_module_version": "1.5.0",
            "_view_count": null,
            "_view_module_version": "1.2.0",
            "_model_module": "@jupyter-widgets/controls"
          }
        },
        "39ed47e00ed8478ba72835dd55a4b25d": {
          "model_module": "@jupyter-widgets/base",
          "model_name": "LayoutModel",
          "state": {
            "_view_name": "LayoutView",
            "grid_template_rows": null,
            "right": null,
            "justify_content": null,
            "_view_module": "@jupyter-widgets/base",
            "overflow": null,
            "_model_module_version": "1.2.0",
            "_view_count": null,
            "flex_flow": null,
            "width": null,
            "min_width": null,
            "border": null,
            "align_items": null,
            "bottom": null,
            "_model_module": "@jupyter-widgets/base",
            "top": null,
            "grid_column": null,
            "overflow_y": null,
            "overflow_x": null,
            "grid_auto_flow": null,
            "grid_area": null,
            "grid_template_columns": null,
            "flex": null,
            "_model_name": "LayoutModel",
            "justify_items": null,
            "grid_row": null,
            "max_height": null,
            "align_content": null,
            "visibility": null,
            "align_self": null,
            "height": null,
            "min_height": null,
            "padding": null,
            "grid_auto_rows": null,
            "grid_gap": null,
            "max_width": null,
            "order": null,
            "_view_module_version": "1.2.0",
            "grid_template_areas": null,
            "object_position": null,
            "object_fit": null,
            "grid_auto_columns": null,
            "margin": null,
            "display": null,
            "left": null
          }
        },
        "389ab31996394593b11fc13cf0df491c": {
          "model_module": "@jupyter-widgets/controls",
          "model_name": "HBoxModel",
          "state": {
            "_view_name": "HBoxView",
            "_dom_classes": [],
            "_model_name": "HBoxModel",
            "_view_module": "@jupyter-widgets/controls",
            "_model_module_version": "1.5.0",
            "_view_count": null,
            "_view_module_version": "1.5.0",
            "box_style": "",
            "layout": "IPY_MODEL_408217193e24496ca208d099f03e822b",
            "_model_module": "@jupyter-widgets/controls",
            "children": [
              "IPY_MODEL_9e7e3dd968c74451bd032f8a4df4f8cc",
              "IPY_MODEL_25c3b3e3ecc1437e8aa1c41680a7af90"
            ]
          }
        },
        "408217193e24496ca208d099f03e822b": {
          "model_module": "@jupyter-widgets/base",
          "model_name": "LayoutModel",
          "state": {
            "_view_name": "LayoutView",
            "grid_template_rows": null,
            "right": null,
            "justify_content": null,
            "_view_module": "@jupyter-widgets/base",
            "overflow": null,
            "_model_module_version": "1.2.0",
            "_view_count": null,
            "flex_flow": null,
            "width": null,
            "min_width": null,
            "border": null,
            "align_items": null,
            "bottom": null,
            "_model_module": "@jupyter-widgets/base",
            "top": null,
            "grid_column": null,
            "overflow_y": null,
            "overflow_x": null,
            "grid_auto_flow": null,
            "grid_area": null,
            "grid_template_columns": null,
            "flex": null,
            "_model_name": "LayoutModel",
            "justify_items": null,
            "grid_row": null,
            "max_height": null,
            "align_content": null,
            "visibility": null,
            "align_self": null,
            "height": null,
            "min_height": null,
            "padding": null,
            "grid_auto_rows": null,
            "grid_gap": null,
            "max_width": null,
            "order": null,
            "_view_module_version": "1.2.0",
            "grid_template_areas": null,
            "object_position": null,
            "object_fit": null,
            "grid_auto_columns": null,
            "margin": null,
            "display": null,
            "left": null
          }
        },
        "9e7e3dd968c74451bd032f8a4df4f8cc": {
          "model_module": "@jupyter-widgets/controls",
          "model_name": "FloatProgressModel",
          "state": {
            "_view_name": "ProgressView",
            "style": "IPY_MODEL_81e588dfd3e44900ba807e33fd4016c2",
            "_dom_classes": [],
            "description": "100%",
            "_model_name": "FloatProgressModel",
            "bar_style": "success",
            "max": 11,
            "_view_module": "@jupyter-widgets/controls",
            "_model_module_version": "1.5.0",
            "value": 11,
            "_view_count": null,
            "_view_module_version": "1.5.0",
            "orientation": "horizontal",
            "min": 0,
            "description_tooltip": null,
            "_model_module": "@jupyter-widgets/controls",
            "layout": "IPY_MODEL_b7597a30cd234c7eb7a07e29dc9ccedc"
          }
        },
        "25c3b3e3ecc1437e8aa1c41680a7af90": {
          "model_module": "@jupyter-widgets/controls",
          "model_name": "HTMLModel",
          "state": {
            "_view_name": "HTMLView",
            "style": "IPY_MODEL_3d2ce91189ee48caae96155ff8b1f41f",
            "_dom_classes": [],
            "description": "",
            "_model_name": "HTMLModel",
            "placeholder": "​",
            "_view_module": "@jupyter-widgets/controls",
            "_model_module_version": "1.5.0",
            "value": " 11/11 [04:07&lt;00:00, 22.52s/it]",
            "_view_count": null,
            "_view_module_version": "1.5.0",
            "description_tooltip": null,
            "_model_module": "@jupyter-widgets/controls",
            "layout": "IPY_MODEL_6c99c25fe25e4ef8867a97b1a1d18919"
          }
        },
        "81e588dfd3e44900ba807e33fd4016c2": {
          "model_module": "@jupyter-widgets/controls",
          "model_name": "ProgressStyleModel",
          "state": {
            "_view_name": "StyleView",
            "_model_name": "ProgressStyleModel",
            "description_width": "initial",
            "_view_module": "@jupyter-widgets/base",
            "_model_module_version": "1.5.0",
            "_view_count": null,
            "_view_module_version": "1.2.0",
            "bar_color": null,
            "_model_module": "@jupyter-widgets/controls"
          }
        },
        "b7597a30cd234c7eb7a07e29dc9ccedc": {
          "model_module": "@jupyter-widgets/base",
          "model_name": "LayoutModel",
          "state": {
            "_view_name": "LayoutView",
            "grid_template_rows": null,
            "right": null,
            "justify_content": null,
            "_view_module": "@jupyter-widgets/base",
            "overflow": null,
            "_model_module_version": "1.2.0",
            "_view_count": null,
            "flex_flow": null,
            "width": null,
            "min_width": null,
            "border": null,
            "align_items": null,
            "bottom": null,
            "_model_module": "@jupyter-widgets/base",
            "top": null,
            "grid_column": null,
            "overflow_y": null,
            "overflow_x": null,
            "grid_auto_flow": null,
            "grid_area": null,
            "grid_template_columns": null,
            "flex": null,
            "_model_name": "LayoutModel",
            "justify_items": null,
            "grid_row": null,
            "max_height": null,
            "align_content": null,
            "visibility": null,
            "align_self": null,
            "height": null,
            "min_height": null,
            "padding": null,
            "grid_auto_rows": null,
            "grid_gap": null,
            "max_width": null,
            "order": null,
            "_view_module_version": "1.2.0",
            "grid_template_areas": null,
            "object_position": null,
            "object_fit": null,
            "grid_auto_columns": null,
            "margin": null,
            "display": null,
            "left": null
          }
        },
        "3d2ce91189ee48caae96155ff8b1f41f": {
          "model_module": "@jupyter-widgets/controls",
          "model_name": "DescriptionStyleModel",
          "state": {
            "_view_name": "StyleView",
            "_model_name": "DescriptionStyleModel",
            "description_width": "",
            "_view_module": "@jupyter-widgets/base",
            "_model_module_version": "1.5.0",
            "_view_count": null,
            "_view_module_version": "1.2.0",
            "_model_module": "@jupyter-widgets/controls"
          }
        },
        "6c99c25fe25e4ef8867a97b1a1d18919": {
          "model_module": "@jupyter-widgets/base",
          "model_name": "LayoutModel",
          "state": {
            "_view_name": "LayoutView",
            "grid_template_rows": null,
            "right": null,
            "justify_content": null,
            "_view_module": "@jupyter-widgets/base",
            "overflow": null,
            "_model_module_version": "1.2.0",
            "_view_count": null,
            "flex_flow": null,
            "width": null,
            "min_width": null,
            "border": null,
            "align_items": null,
            "bottom": null,
            "_model_module": "@jupyter-widgets/base",
            "top": null,
            "grid_column": null,
            "overflow_y": null,
            "overflow_x": null,
            "grid_auto_flow": null,
            "grid_area": null,
            "grid_template_columns": null,
            "flex": null,
            "_model_name": "LayoutModel",
            "justify_items": null,
            "grid_row": null,
            "max_height": null,
            "align_content": null,
            "visibility": null,
            "align_self": null,
            "height": null,
            "min_height": null,
            "padding": null,
            "grid_auto_rows": null,
            "grid_gap": null,
            "max_width": null,
            "order": null,
            "_view_module_version": "1.2.0",
            "grid_template_areas": null,
            "object_position": null,
            "object_fit": null,
            "grid_auto_columns": null,
            "margin": null,
            "display": null,
            "left": null
          }
        },
        "c19cb8652d5e4ff085cf3583b742c1bd": {
          "model_module": "@jupyter-widgets/controls",
          "model_name": "HBoxModel",
          "state": {
            "_view_name": "HBoxView",
            "_dom_classes": [],
            "_model_name": "HBoxModel",
            "_view_module": "@jupyter-widgets/controls",
            "_model_module_version": "1.5.0",
            "_view_count": null,
            "_view_module_version": "1.5.0",
            "box_style": "",
            "layout": "IPY_MODEL_4f32adfb75a04d889d9c7433e5da093f",
            "_model_module": "@jupyter-widgets/controls",
            "children": [
              "IPY_MODEL_a822e06e15374a8dbee0456f56d96aaf",
              "IPY_MODEL_8b485e67e0484a42a0505a8abafc27dd"
            ]
          }
        },
        "4f32adfb75a04d889d9c7433e5da093f": {
          "model_module": "@jupyter-widgets/base",
          "model_name": "LayoutModel",
          "state": {
            "_view_name": "LayoutView",
            "grid_template_rows": null,
            "right": null,
            "justify_content": null,
            "_view_module": "@jupyter-widgets/base",
            "overflow": null,
            "_model_module_version": "1.2.0",
            "_view_count": null,
            "flex_flow": null,
            "width": null,
            "min_width": null,
            "border": null,
            "align_items": null,
            "bottom": null,
            "_model_module": "@jupyter-widgets/base",
            "top": null,
            "grid_column": null,
            "overflow_y": null,
            "overflow_x": null,
            "grid_auto_flow": null,
            "grid_area": null,
            "grid_template_columns": null,
            "flex": null,
            "_model_name": "LayoutModel",
            "justify_items": null,
            "grid_row": null,
            "max_height": null,
            "align_content": null,
            "visibility": null,
            "align_self": null,
            "height": null,
            "min_height": null,
            "padding": null,
            "grid_auto_rows": null,
            "grid_gap": null,
            "max_width": null,
            "order": null,
            "_view_module_version": "1.2.0",
            "grid_template_areas": null,
            "object_position": null,
            "object_fit": null,
            "grid_auto_columns": null,
            "margin": null,
            "display": null,
            "left": null
          }
        },
        "a822e06e15374a8dbee0456f56d96aaf": {
          "model_module": "@jupyter-widgets/controls",
          "model_name": "FloatProgressModel",
          "state": {
            "_view_name": "ProgressView",
            "style": "IPY_MODEL_710fe8ffaa9d4e538a4da847a8273119",
            "_dom_classes": [],
            "description": "100%",
            "_model_name": "FloatProgressModel",
            "bar_style": "success",
            "max": 11,
            "_view_module": "@jupyter-widgets/controls",
            "_model_module_version": "1.5.0",
            "value": 11,
            "_view_count": null,
            "_view_module_version": "1.5.0",
            "orientation": "horizontal",
            "min": 0,
            "description_tooltip": null,
            "_model_module": "@jupyter-widgets/controls",
            "layout": "IPY_MODEL_0dc223d9e7844eb2a9810f77c6961a96"
          }
        },
        "8b485e67e0484a42a0505a8abafc27dd": {
          "model_module": "@jupyter-widgets/controls",
          "model_name": "HTMLModel",
          "state": {
            "_view_name": "HTMLView",
            "style": "IPY_MODEL_6cadec403ae64900ab2c2e53a5703ebf",
            "_dom_classes": [],
            "description": "",
            "_model_name": "HTMLModel",
            "placeholder": "​",
            "_view_module": "@jupyter-widgets/controls",
            "_model_module_version": "1.5.0",
            "value": " 11/11 [03:56&lt;00:00, 21.47s/it]",
            "_view_count": null,
            "_view_module_version": "1.5.0",
            "description_tooltip": null,
            "_model_module": "@jupyter-widgets/controls",
            "layout": "IPY_MODEL_73e868e42f0b4419906fa354ba6aa7a5"
          }
        },
        "710fe8ffaa9d4e538a4da847a8273119": {
          "model_module": "@jupyter-widgets/controls",
          "model_name": "ProgressStyleModel",
          "state": {
            "_view_name": "StyleView",
            "_model_name": "ProgressStyleModel",
            "description_width": "initial",
            "_view_module": "@jupyter-widgets/base",
            "_model_module_version": "1.5.0",
            "_view_count": null,
            "_view_module_version": "1.2.0",
            "bar_color": null,
            "_model_module": "@jupyter-widgets/controls"
          }
        },
        "0dc223d9e7844eb2a9810f77c6961a96": {
          "model_module": "@jupyter-widgets/base",
          "model_name": "LayoutModel",
          "state": {
            "_view_name": "LayoutView",
            "grid_template_rows": null,
            "right": null,
            "justify_content": null,
            "_view_module": "@jupyter-widgets/base",
            "overflow": null,
            "_model_module_version": "1.2.0",
            "_view_count": null,
            "flex_flow": null,
            "width": null,
            "min_width": null,
            "border": null,
            "align_items": null,
            "bottom": null,
            "_model_module": "@jupyter-widgets/base",
            "top": null,
            "grid_column": null,
            "overflow_y": null,
            "overflow_x": null,
            "grid_auto_flow": null,
            "grid_area": null,
            "grid_template_columns": null,
            "flex": null,
            "_model_name": "LayoutModel",
            "justify_items": null,
            "grid_row": null,
            "max_height": null,
            "align_content": null,
            "visibility": null,
            "align_self": null,
            "height": null,
            "min_height": null,
            "padding": null,
            "grid_auto_rows": null,
            "grid_gap": null,
            "max_width": null,
            "order": null,
            "_view_module_version": "1.2.0",
            "grid_template_areas": null,
            "object_position": null,
            "object_fit": null,
            "grid_auto_columns": null,
            "margin": null,
            "display": null,
            "left": null
          }
        },
        "6cadec403ae64900ab2c2e53a5703ebf": {
          "model_module": "@jupyter-widgets/controls",
          "model_name": "DescriptionStyleModel",
          "state": {
            "_view_name": "StyleView",
            "_model_name": "DescriptionStyleModel",
            "description_width": "",
            "_view_module": "@jupyter-widgets/base",
            "_model_module_version": "1.5.0",
            "_view_count": null,
            "_view_module_version": "1.2.0",
            "_model_module": "@jupyter-widgets/controls"
          }
        },
        "73e868e42f0b4419906fa354ba6aa7a5": {
          "model_module": "@jupyter-widgets/base",
          "model_name": "LayoutModel",
          "state": {
            "_view_name": "LayoutView",
            "grid_template_rows": null,
            "right": null,
            "justify_content": null,
            "_view_module": "@jupyter-widgets/base",
            "overflow": null,
            "_model_module_version": "1.2.0",
            "_view_count": null,
            "flex_flow": null,
            "width": null,
            "min_width": null,
            "border": null,
            "align_items": null,
            "bottom": null,
            "_model_module": "@jupyter-widgets/base",
            "top": null,
            "grid_column": null,
            "overflow_y": null,
            "overflow_x": null,
            "grid_auto_flow": null,
            "grid_area": null,
            "grid_template_columns": null,
            "flex": null,
            "_model_name": "LayoutModel",
            "justify_items": null,
            "grid_row": null,
            "max_height": null,
            "align_content": null,
            "visibility": null,
            "align_self": null,
            "height": null,
            "min_height": null,
            "padding": null,
            "grid_auto_rows": null,
            "grid_gap": null,
            "max_width": null,
            "order": null,
            "_view_module_version": "1.2.0",
            "grid_template_areas": null,
            "object_position": null,
            "object_fit": null,
            "grid_auto_columns": null,
            "margin": null,
            "display": null,
            "left": null
          }
        }
      }
    }
  },
  "cells": [
    {
      "cell_type": "markdown",
      "metadata": {
        "id": "view-in-github",
        "colab_type": "text"
      },
      "source": [
        "<a href=\"https://colab.research.google.com/github/Harm1995/CTA-sensitivity/blob/master/likelihood_quadratic_appox.ipynb\" target=\"_parent\"><img src=\"https://colab.research.google.com/assets/colab-badge.svg\" alt=\"Open In Colab\"/></a>"
      ]
    },
    {
      "cell_type": "markdown",
      "metadata": {
        "id": "zxCHnzgSToXK"
      },
      "source": [
        "# The packages"
      ]
    },
    {
      "cell_type": "code",
      "metadata": {
        "id": "w23lGxAMK3Gn",
        "colab": {
          "base_uri": "https://localhost:8080/"
        },
        "outputId": "c90fd55d-7b9a-440c-e6e4-b01e9e9db4f6"
      },
      "source": [
        "try:\n",
        "  import iminuit\n",
        "  from iminuit import Minuit\n",
        "  import gammapy\n",
        "  from gammapy.irf import Background3D\n",
        "\n",
        "except:\n",
        "  !pip install iminuit\n",
        "  !pip install gammapy"
      ],
      "execution_count": 1,
      "outputs": [
        {
          "output_type": "stream",
          "text": [
            "Collecting iminuit\n",
            "\u001b[?25l  Downloading https://files.pythonhosted.org/packages/77/90/f4fb0a1fc1e8f8195f7367bcd0ff4f5744695ef7757677ac652500052753/iminuit-2.3.0-cp36-cp36m-manylinux2010_x86_64.whl (316kB)\n",
            "\r\u001b[K     |█                               | 10kB 14.5MB/s eta 0:00:01\r\u001b[K     |██                              | 20kB 14.3MB/s eta 0:00:01\r\u001b[K     |███                             | 30kB 8.1MB/s eta 0:00:01\r\u001b[K     |████▏                           | 40kB 7.7MB/s eta 0:00:01\r\u001b[K     |█████▏                          | 51kB 4.3MB/s eta 0:00:01\r\u001b[K     |██████▏                         | 61kB 4.8MB/s eta 0:00:01\r\u001b[K     |███████▎                        | 71kB 4.9MB/s eta 0:00:01\r\u001b[K     |████████▎                       | 81kB 5.0MB/s eta 0:00:01\r\u001b[K     |█████████▎                      | 92kB 5.4MB/s eta 0:00:01\r\u001b[K     |██████████▍                     | 102kB 5.7MB/s eta 0:00:01\r\u001b[K     |███████████▍                    | 112kB 5.7MB/s eta 0:00:01\r\u001b[K     |████████████▍                   | 122kB 5.7MB/s eta 0:00:01\r\u001b[K     |█████████████▍                  | 133kB 5.7MB/s eta 0:00:01\r\u001b[K     |██████████████▌                 | 143kB 5.7MB/s eta 0:00:01\r\u001b[K     |███████████████▌                | 153kB 5.7MB/s eta 0:00:01\r\u001b[K     |████████████████▌               | 163kB 5.7MB/s eta 0:00:01\r\u001b[K     |█████████████████▋              | 174kB 5.7MB/s eta 0:00:01\r\u001b[K     |██████████████████▋             | 184kB 5.7MB/s eta 0:00:01\r\u001b[K     |███████████████████▋            | 194kB 5.7MB/s eta 0:00:01\r\u001b[K     |████████████████████▊           | 204kB 5.7MB/s eta 0:00:01\r\u001b[K     |█████████████████████▊          | 215kB 5.7MB/s eta 0:00:01\r\u001b[K     |██████████████████████▊         | 225kB 5.7MB/s eta 0:00:01\r\u001b[K     |███████████████████████▊        | 235kB 5.7MB/s eta 0:00:01\r\u001b[K     |████████████████████████▉       | 245kB 5.7MB/s eta 0:00:01\r\u001b[K     |█████████████████████████▉      | 256kB 5.7MB/s eta 0:00:01\r\u001b[K     |██████████████████████████▉     | 266kB 5.7MB/s eta 0:00:01\r\u001b[K     |████████████████████████████    | 276kB 5.7MB/s eta 0:00:01\r\u001b[K     |█████████████████████████████   | 286kB 5.7MB/s eta 0:00:01\r\u001b[K     |██████████████████████████████  | 296kB 5.7MB/s eta 0:00:01\r\u001b[K     |███████████████████████████████ | 307kB 5.7MB/s eta 0:00:01\r\u001b[K     |████████████████████████████████| 317kB 5.7MB/s \n",
            "\u001b[?25hRequirement already satisfied: numpy in /usr/local/lib/python3.6/dist-packages (from iminuit) (1.19.5)\n",
            "Installing collected packages: iminuit\n",
            "Successfully installed iminuit-2.3.0\n",
            "Collecting gammapy\n",
            "\u001b[?25l  Downloading https://files.pythonhosted.org/packages/f4/41/a3d67a135a2c6ddfa7d7aa65c000a8eb56e39307696d3657df4cf0d28afc/gammapy-0.18.2.tar.gz (2.1MB)\n",
            "\u001b[K     |████████████████████████████████| 2.1MB 5.2MB/s \n",
            "\u001b[?25h  Installing build dependencies ... \u001b[?25l\u001b[?25hdone\n",
            "  Getting requirements to build wheel ... \u001b[?25l\u001b[?25hdone\n",
            "    Preparing wheel metadata ... \u001b[?25l\u001b[?25hdone\n",
            "Requirement already satisfied: astropy>=4.0 in /usr/local/lib/python3.6/dist-packages (from gammapy) (4.1)\n",
            "Requirement already satisfied: click>=7.0 in /usr/local/lib/python3.6/dist-packages (from gammapy) (7.1.2)\n",
            "Collecting pydantic>=1.0\n",
            "\u001b[?25l  Downloading https://files.pythonhosted.org/packages/52/ea/fae9f69b6e56407961318e8c73e203097a97c7bd71b30bf1b4f5eb448f28/pydantic-1.7.3-cp36-cp36m-manylinux2014_x86_64.whl (9.2MB)\n",
            "\u001b[K     |████████████████████████████████| 9.2MB 23.4MB/s \n",
            "\u001b[?25hCollecting regions>=0.4\n",
            "\u001b[?25l  Downloading https://files.pythonhosted.org/packages/87/31/58e07800709668c1655e5a6c49f8abcb5acac6e0ef82e6f5dc2e3ff59cc0/regions-0.4.tar.gz (1.1MB)\n",
            "\u001b[K     |████████████████████████████████| 1.1MB 42.3MB/s \n",
            "\u001b[?25hCollecting pyyaml>=5.1\n",
            "\u001b[?25l  Downloading https://files.pythonhosted.org/packages/7a/5b/bc0b5ab38247bba158504a410112b6c03f153c652734ece1849749e5f518/PyYAML-5.4.1-cp36-cp36m-manylinux1_x86_64.whl (640kB)\n",
            "\u001b[K     |████████████████████████████████| 645kB 46.7MB/s \n",
            "\u001b[?25hRequirement already satisfied: numpy>=1.17 in /usr/local/lib/python3.6/dist-packages (from gammapy) (1.19.5)\n",
            "Requirement already satisfied: scipy>=1.2 in /usr/local/lib/python3.6/dist-packages (from gammapy) (1.4.1)\n",
            "Requirement already satisfied: dataclasses>=0.6; python_version < \"3.7\" in /usr/local/lib/python3.6/dist-packages (from pydantic>=1.0->gammapy) (0.8)\n",
            "Requirement already satisfied: six in /usr/local/lib/python3.6/dist-packages (from regions>=0.4->gammapy) (1.15.0)\n",
            "Building wheels for collected packages: gammapy\n",
            "  Building wheel for gammapy (PEP 517) ... \u001b[?25l\u001b[?25hdone\n",
            "  Created wheel for gammapy: filename=gammapy-0.18.2-cp36-cp36m-linux_x86_64.whl size=726418 sha256=26750e787fe3edb8c6c9bc415831218205580db7ed04821f166a4e660b3e4e43\n",
            "  Stored in directory: /root/.cache/pip/wheels/17/b3/1e/d3567858ee1a64459d0bec04f1f256c16dcfe750312bda0219\n",
            "Successfully built gammapy\n",
            "Building wheels for collected packages: regions\n",
            "  Building wheel for regions (setup.py) ... \u001b[?25l\u001b[?25hdone\n",
            "  Created wheel for regions: filename=regions-0.4-cp36-cp36m-linux_x86_64.whl size=963120 sha256=26eda13db4ac5fb52612f87cfbcee4730fcbcb40ae6da47b9c1efb3b66b5df89\n",
            "  Stored in directory: /root/.cache/pip/wheels/64/40/0b/b4c2110e9d8fe132da7010597bb1e408bea60ef2a64b5a5058\n",
            "Successfully built regions\n",
            "Installing collected packages: pydantic, regions, pyyaml, gammapy\n",
            "  Found existing installation: PyYAML 3.13\n",
            "    Uninstalling PyYAML-3.13:\n",
            "      Successfully uninstalled PyYAML-3.13\n",
            "Successfully installed gammapy-0.18.2 pydantic-1.7.3 pyyaml-5.4.1 regions-0.4\n"
          ],
          "name": "stdout"
        }
      ]
    },
    {
      "cell_type": "code",
      "metadata": {
        "colab": {
          "base_uri": "https://localhost:8080/"
        },
        "id": "FYzkgPo8j7aZ",
        "outputId": "b5a7b739-7030-452e-af18-6258021c189b"
      },
      "source": [
        "from google.colab import drive\n",
        "drive.mount('/content/drive')"
      ],
      "execution_count": null,
      "outputs": [
        {
          "output_type": "stream",
          "text": [
            "Mounted at /content/drive\n"
          ],
          "name": "stdout"
        }
      ]
    },
    {
      "cell_type": "code",
      "metadata": {
        "id": "K_2h3yI7Thl-"
      },
      "source": [
        "import matplotlib.pyplot as plt\n",
        "import matplotlib\n",
        "import numpy as np\n",
        "import pandas as pd \n",
        "import random\n",
        "import scipy\n",
        "from scipy.stats import norm\n",
        "import astropy\n",
        "from astropy.io import fits\n",
        "import seaborn as sns\n",
        "import time\n",
        "import tqdm\n",
        "from tqdm.auto import tqdm, trange\n",
        "from matplotlib.patches import Rectangle\n",
        "from matplotlib.collections import PatchCollection\n",
        "\n"
      ],
      "execution_count": null,
      "outputs": []
    },
    {
      "cell_type": "code",
      "metadata": {
        "id": "ZgjkWUqsW9mS",
        "colab": {
          "base_uri": "https://localhost:8080/"
        },
        "outputId": "ba949d58-f8fd-49ce-a6ab-a5465a0144b2"
      },
      "source": [
        "print (sns.__version__)"
      ],
      "execution_count": null,
      "outputs": [
        {
          "output_type": "stream",
          "text": [
            "0.11.0\n"
          ],
          "name": "stdout"
        }
      ]
    },
    {
      "cell_type": "markdown",
      "metadata": {
        "id": "JsoHL8J2OFeE"
      },
      "source": [
        "# The parameters\n"
      ]
    },
    {
      "cell_type": "code",
      "metadata": {
        "id": "QY3p9xFITi-o"
      },
      "source": [
        "roi = 5                       ## Our range of interest in degrees\n",
        "TeV = 10**-6                  ## Convertion rate\n",
        "energy_start_bin = 3\n",
        "offset = 0                    ## The offset of the telescope. We assume we look at the target directly\n",
        "pre_normalisation = 1\n",
        "parsec = 3.08567758 * 10**18\n",
        "Sun_to_centrum = 8122 * parsec\n",
        "time_obs = 500 * 3600\n",
        "pixel_size = (np.pi / 180)**2 * 0.5**2\n",
        "\n"
      ],
      "execution_count": null,
      "outputs": []
    },
    {
      "cell_type": "markdown",
      "metadata": {
        "id": "L-X_Rx2kOWbP"
      },
      "source": [
        "For our analysis we can use two different Fermi Bubble models; $F_{min}$ and $F_{max}$. The option can be set here.\n",
        "\n",
        "\n",
        "\n",
        "We are also including an option to mismodel te gas correlated emmision with different maps. This option can also be set here.\n"
      ]
    },
    {
      "cell_type": "code",
      "metadata": {
        "id": "AKNRAH3vpAzi"
      },
      "source": [
        "Fermi_min = True\n",
        "mismodelling = False\n",
        "dark_matter_s = False                     \n",
        "\n",
        "MC_times = 4                               ### The amount of monte carlo simulations.\n",
        "ss_steps = 30                                ### The amount of signal steps we use.\n",
        "\n",
        "all_injection_plots = True              ### If true it runs all the different types of injection spectra.\n",
        "At_injection_spectra = 1                    ### The injection spectra we look at, only used when \"all_injection_plots\" is False."
      ],
      "execution_count": null,
      "outputs": []
    },
    {
      "cell_type": "markdown",
      "metadata": {
        "id": "EBr00oeBTslt"
      },
      "source": [
        "# Data"
      ]
    },
    {
      "cell_type": "code",
      "metadata": {
        "id": "1gsp797VOIIx"
      },
      "source": [
        "## The Energy is saved as a tuple, via this way we make it a normal list\n",
        "\n",
        "ring_path = \"/content/drive/My Drive/Colab Notebooks/master_project/rings_background/\"\n",
        "energy_list1 = np.array(fits.getdata(ring_path + 'ics_ring_1.fits', ext=1))\n",
        "energies = []\n",
        "for energy in energy_list1:\n",
        "    E = float(str(energy)[1:-2])\n",
        "    energies.append(E)\n",
        "energies = np.array(energies)\n",
        "energies = energies * TeV   \n"
      ],
      "execution_count": null,
      "outputs": []
    },
    {
      "cell_type": "markdown",
      "metadata": {
        "id": "pmXa_MCio2Lz"
      },
      "source": [
        "## The raw data\n"
      ]
    },
    {
      "cell_type": "markdown",
      "metadata": {
        "id": "leo2KE689YzA"
      },
      "source": [
        "### Cosmic Ray data\n"
      ]
    },
    {
      "cell_type": "code",
      "metadata": {
        "id": "yR8s9UfI9bYg",
        "colab": {
          "base_uri": "https://localhost:8080/"
        },
        "outputId": "4148a721-51e6-48e9-8006-728e316c83d9"
      },
      "source": [
        "pre_path = \"/content/drive/My Drive/Colab Notebooks/master_project/\"\n",
        "irf_filename = pre_path + 'irf_file.fits'\n",
        "bkg = Background3D.read(irf_filename, hdu='BACKGROUND')\n",
        "\n",
        "def background(E):\n",
        "  return bkg.evaluate(energy_reco = str(E)+ 'TeV', fov_lon = str(1) + 'deg',  fov_lat = str(1) + 'deg').to(\"TeV-1 s-1 sr-1\")\n",
        "\n",
        "\n",
        "background_counts = []\n",
        "\n",
        "for i in range(len(energies)-1):\n",
        "  tot_count = 0\n",
        "  E1 = energies[i]\n",
        "  E2 = energies[i+1]\n",
        "  E = (E1*E2)**0.5\n",
        "  dE = E2-E1\n",
        "  counts = background(E) * dE \n",
        "  background_counts.append(counts)\n",
        "\n",
        "\n",
        "total_bgcounts = np.array(background_counts) * time_obs * pixel_size * (4*roi*4*roi)\n",
        "\n",
        "plt.step(energies[:-1],total_bgcounts)\n",
        "plt.yscale('log')\n",
        "plt.xscale('log')\n",
        "\n",
        "res_back = []\n",
        "for counts in total_bgcounts:\n",
        "  res_back.append(np.full((4*roi,4*roi), counts / (4*roi*4*roi)))\n",
        "\n",
        "res_back = np.array(res_back)\n",
        "\n"
      ],
      "execution_count": null,
      "outputs": [
        {
          "output_type": "stream",
          "text": [
            "Invalid unit found in background table! Assuming (s-1 MeV-1 sr-1)\n"
          ],
          "name": "stderr"
        },
        {
          "output_type": "display_data",
          "data": {
            "image/png": "[encoded data removed]",
            "text/plain": [
              "<Figure size 504x360 with 1 Axes>"
            ]
          },
          "metadata": {
            "tags": [],
            "needs_background": "light"
          }
        }
      ]
    },
    {
      "cell_type": "markdown",
      "metadata": {
        "id": "ALwx1Gpj2851"
      },
      "source": [
        "### Original model"
      ]
    },
    {
      "cell_type": "code",
      "metadata": {
        "id": "AkIDGUD2VlbY"
      },
      "source": [
        "pre_path = \"/content/drive/My Drive/Colab Notebooks/master_project/\"\n",
        "ring_path = \"/content/drive/My Drive/Colab Notebooks/master_project/rings_background/\"\n",
        "\n",
        "\n",
        "### Here we get the diffusive emission maps:\n",
        "ics_ring_maps = []\n",
        "GCE_ring_maps = []\n",
        "for i in range(1,5):\n",
        "  ics = np.roll(fits.getdata(ring_path + 'ics_ring_'+str(i) +'_new.fits', ext=0), 360, axis=2)[:, (180 - roi * 2):(180 + roi * 2), (360 - roi * 2):(360 + roi * 2)]\n",
        "  brems = np.roll(fits.getdata(ring_path + 'bremss_ring_'+ str(i) +'_new.fits', ext=0), 360, axis=2)[:, (180 - roi * 2):(180 + roi * 2), (360 - roi * 2):(360 + roi * 2)]\n",
        "  pion = np.roll(fits.getdata(ring_path + 'pion_ring_'+ str(i) +'_new.fits', ext=0), 360, axis=2)[:, (180 - roi * 2):(180 + roi * 2), (360 - roi * 2):(360 + roi * 2)]\n",
        "  ics_ring_maps.append(ics)\n",
        "  GCE_ring_maps.append(brems + pion)\n",
        "\n",
        "GDE_maps = []\n",
        "GDE_maps.append(ics_ring_maps)\n",
        "GDE_maps.append(GCE_ring_maps)\n",
        "GDE_maps = np.array(GDE_maps)\n",
        "\n",
        "tot_ics = np.array(ics_ring_maps[0] + ics_ring_maps[1] + ics_ring_maps[2] + ics_ring_maps[3])\n",
        "tot_gce = np.array(GCE_ring_maps[0] + GCE_ring_maps[1] + GCE_ring_maps[2] + GCE_ring_maps[3])\n"
      ],
      "execution_count": null,
      "outputs": []
    },
    {
      "cell_type": "markdown",
      "metadata": {
        "id": "EnrP4BnP3wy6"
      },
      "source": [
        "### GCE extrapolated from fermi"
      ]
    },
    {
      "cell_type": "code",
      "metadata": {
        "id": "8ulXW9xz31L_"
      },
      "source": [
        "path = \"/content/drive/My Drive/Colab Notebooks/data_txt_files/\"\n",
        "\n",
        "df_ics = pd.read_table(path+ 'ICS_spectra_40x40_roi_Abazajian_etal_2020.dat', skiprows=1, sep = ' '\n",
        "  , header = None,  names= ['Emin', 'Emax','Ecenter',  'E^2dN/dE', 'error'])\n",
        "\n",
        "df_gce = pd.read_table(path+ 'GasCorrelated_spectra_40x40_roi_Abazajian_etal_2020.dat', skiprows=1, sep = ' '\n",
        "  , header = None,  names= ['Emin', 'Emax','Ecenter',  'E^2dN/dE', 'error'])\n",
        "\n",
        "Fermi_eneriges_ics = df_ics['Ecenter'] /1000\n",
        "Fermi_flux_ics = df_ics['E^2dN/dE']/1000\n",
        "error1 = df_ics['error']/1000\n",
        "\n",
        "Fermi_eneriges_gce = df_gce['Ecenter']/1000\n",
        "Fermi_flux_gce = df_gce['E^2dN/dE']/1000\n",
        "error2 = df_gce['error']/1000\n",
        "\n",
        "def func(E, *param):\n",
        "  return (param[0] * E**-param[1])\n",
        "\n",
        "param,errors = scipy.optimize.curve_fit(func,Fermi_eneriges_gce, Fermi_flux_gce,p0 = [[10**-8,2]])\n",
        "fit_func1 = [func(E,*param) for E in Fermi_eneriges_gce]\n",
        "fit_func2 = [func(E,*param) for E in energies]\n",
        "\n",
        "energy_bin = 10\n",
        "GCE_ring_1_temp = GCE_ring_maps[0][energy_bin] / np.mean(tot_gce[energy_bin]) \n",
        "GCE_ring_2_temp = GCE_ring_maps[1][energy_bin] / np.mean(tot_gce[energy_bin]) \n",
        "GCE_ring_3_temp = GCE_ring_maps[2][energy_bin] / np.mean(tot_gce[energy_bin]) \n",
        "GCE_ring_4_temp = GCE_ring_maps[3][energy_bin] / np.mean(tot_gce[energy_bin]) \n",
        "\n",
        "new_GCE_1 = []\n",
        "new_GCE_2 = []\n",
        "new_GCE_3 = []\n",
        "new_GCE_4 = []\n",
        "\n",
        "param2 = [param[0], param[1] +2]\n",
        "for E in energies:\n",
        "  new_GCE_1.append(GCE_ring_1_temp * func(E, *param2))\n",
        "  new_GCE_2.append(GCE_ring_2_temp * func(E, *param2))\n",
        "  new_GCE_3.append(GCE_ring_3_temp * func(E, *param2))\n",
        "  new_GCE_4.append(GCE_ring_4_temp * func(E, *param2))\n",
        "\n",
        "new_GCE_1 = np.array(new_GCE_1)\n",
        "new_GCE_2 = np.array(new_GCE_2)\n",
        "new_GCE_3 = np.array(new_GCE_3)\n",
        "new_GCE_4 = np.array(new_GCE_4)\n",
        "\n",
        "tot_new_GCE = new_GCE_1 + new_GCE_2 + new_GCE_3 + new_GCE_4 "
      ],
      "execution_count": null,
      "outputs": []
    },
    {
      "cell_type": "markdown",
      "metadata": {
        "id": "Eb0P3-Qq30eA"
      },
      "source": [
        "### The fermi maps"
      ]
    },
    {
      "cell_type": "code",
      "metadata": {
        "id": "2SHb-ci2hbKz"
      },
      "source": [
        "fermi_map = fits.getdata(pre_path + 'fig12_bubbles_template_3compSCA_40x40deg_inpaint.fits')[(40 - 2*roi):(40 + 2 * roi),(40 - 2*roi):(40 + 2 * roi)]\n",
        "fermi_map = fermi_map / np.mean(fermi_map)\n",
        "\n",
        "def fermi_function_min(E):\n",
        "  phi0 = 0.5 * 10**-8\n",
        "  sigma = 1.9\n",
        "  E_co = 1\n",
        "\n",
        "  fluxq = phi0 * np.exp(-E/E_co) * E**-sigma\n",
        "  return fluxq\n",
        "\n",
        "def fermi_function_max(E):\n",
        "  phi0 = 1 * 10**-8\n",
        "  sigma = 1.9\n",
        "  E_co = 20\n",
        "\n",
        "  fluxq = phi0 * np.exp(-E/E_co) * E**-sigma\n",
        "  return fluxq\n",
        "\n",
        "\n",
        "fermi_binned_min = []\n",
        "fermi_binned_max = []\n",
        "\n",
        "for E in energies:\n",
        "  fermi_binned_min.append(fermi_map * fermi_function_min(E))\n",
        "  fermi_binned_max.append(fermi_map * fermi_function_max(E))\n",
        "\n",
        "\n",
        "fermi_binned_min = np.array(fermi_binned_min)\n",
        "fermi_binned_max = np.array(fermi_binned_max)\n",
        "\n"
      ],
      "execution_count": null,
      "outputs": []
    },
    {
      "cell_type": "code",
      "metadata": {
        "id": "ptE5Q1FV7t3A",
        "colab": {
          "base_uri": "https://localhost:8080/"
        },
        "outputId": "f5b84484-9705-423a-afa2-eddbae3e0108"
      },
      "source": [
        "print (energies)"
      ],
      "execution_count": null,
      "outputs": [
        {
          "output_type": "stream",
          "text": [
            "[1.00000000e-02 1.25892541e-02 1.58489319e-02 1.99526231e-02\n",
            " 2.51188643e-02 3.16227766e-02 3.98107171e-02 5.01187234e-02\n",
            " 6.30957344e-02 7.94328235e-02 1.00000000e-01 1.25892541e-01\n",
            " 1.58489319e-01 1.99526231e-01 2.51188643e-01 3.16227766e-01\n",
            " 3.98107171e-01 5.01187234e-01 6.30957344e-01 7.94328235e-01\n",
            " 1.00000000e+00 1.25892541e+00 1.58489319e+00 1.99526231e+00\n",
            " 2.51188643e+00 3.16227766e+00 3.98107171e+00 5.01187234e+00\n",
            " 6.30957344e+00 7.94328235e+00 1.00000000e+01 1.25892541e+01\n",
            " 1.58489319e+01 1.99526231e+01 2.51188643e+01 3.16227766e+01\n",
            " 3.98107171e+01 5.01187234e+01 6.30957344e+01 7.94328235e+01\n",
            " 1.00000000e+02 1.25892541e+02 1.58489319e+02 1.99526231e+02\n",
            " 2.51188643e+02 3.16227766e+02 3.98107171e+02]\n"
          ],
          "name": "stdout"
        }
      ]
    },
    {
      "cell_type": "code",
      "metadata": {
        "id": "QNN0oNRN7ajb"
      },
      "source": [
        ""
      ],
      "execution_count": null,
      "outputs": []
    },
    {
      "cell_type": "markdown",
      "metadata": {
        "id": "JCJkqAtg7a71"
      },
      "source": [
        "$dN/dE=N_0\\; (E/{\\rm 1\\; TeV})^{-\\Gamma}\\exp(-E/{E_{cut}})$\n",
        "\n"
      ]
    },
    {
      "cell_type": "markdown",
      "metadata": {
        "id": "CQ1Nfp-a3AQ6"
      },
      "source": [
        "### Alternative model"
      ]
    },
    {
      "cell_type": "code",
      "metadata": {
        "id": "NuTMkL9LpNDy",
        "colab": {
          "base_uri": "https://localhost:8080/"
        },
        "outputId": "a9eb7e2e-b796-4908-9f3d-8e01ac525c79"
      },
      "source": [
        "pre_path_alt = '/content/drive/My Drive/Colab Notebooks/master_project/Alternative_GDE/'\n",
        "\n",
        "dust_pos =fits.getdata(pre_path_alt + 'DustPositive_Normalized.fits')[(40 - roi * 2):(40 + roi * 2), (40 - roi * 2):(40 + roi * 2)]\n",
        "dust_neg =fits.getdata(pre_path_alt + 'DustNegative_Normalized.fits')[(40 - roi * 2):(40 + roi * 2), (40 - roi * 2):(40 + roi * 2)]\n",
        "\n",
        "dust_neg = np.array(dust_neg)\n",
        "dust_pos = np.array(dust_pos)\n",
        "\n",
        "\n",
        "\n",
        "H1_maps = []\n",
        "H2_maps = []\n",
        "for ring in range(1,5):\n",
        "  map_H2 = fits.getdata(pre_path_alt + f'H2_pohl_ring_{ring}_Normalized.fits')[(40 - roi * 2):(40 + roi * 2), (40 - roi * 2):(40 + roi * 2)]\n",
        "  map_H1 = fits.getdata(pre_path_alt + f'HI_pohl_T150K_ring_{ring}_Normalized.fits')[(180 - roi * 2):(180 + roi * 2), (360 - roi * 2):(360 + roi * 2)]\n",
        "  H1_maps.append(map_H1)\n",
        "  H2_maps.append(map_H2)\n",
        "\n",
        "\n",
        "initial_norm_factor = (np.sum(H1_maps) + np.sum(H2_maps) + np.sum(dust_neg + dust_pos) ) / np.sum(GCE_ring_maps) \n",
        "\n",
        "\n",
        "H1_norm = []\n",
        "H2_norm = []\n",
        "dust_pos_norm = dust_pos / initial_norm_factor\n",
        "dust_neg_norm = dust_neg / initial_norm_factor\n",
        "\n",
        "for i in range(0,4):\n",
        "  H1_norm.append(H1_maps[i] / initial_norm_factor )\n",
        "  H2_norm.append(H1_maps[i] / initial_norm_factor )\n",
        "import scipy\n",
        "\n",
        "tot_alter = np.sum(H1_maps) + np.sum(H1_maps) + np.sum(dust_pos)+ np.sum(dust_neg) \n",
        "sum_gce = np.sum(tot_gce)\n",
        "\n",
        "l2 = []\n",
        "for i in range(47):\n",
        "  l2.append(np.sum(tot_gce[i]))\n",
        "\n",
        "def func(E,a,b,c):\n",
        "  return (a * (E/b)**-c)\n",
        "\n",
        "p1,p2 = scipy.optimize.curve_fit(func,energies, l2)\n",
        "\n",
        "\n",
        "norm_factor = sum_gce / tot_alter\n",
        "\n",
        "def func(E):\n",
        "  b = float(0.2)\n",
        "  c = float(2.5)\n",
        "\n",
        "  return ((E/b)**-c * norm_factor *10**-3.8)\n",
        "\n",
        "\n",
        "\n",
        "H1_1_binned = []\n",
        "H1_2_binned = []\n",
        "H1_3_binned = []\n",
        "H1_4_binned = []\n",
        "\n",
        "H2_1_binned = []\n",
        "H2_2_binned = []\n",
        "H2_3_binned = []\n",
        "H2_4_binned = []\n",
        "\n",
        "dust_binned_pos = []\n",
        "dust_binned_neg = []\n",
        "\n",
        "for E in energies:\n",
        "  H1_1_binned.append(H1_maps[0] * func(E))\n",
        "  H1_2_binned.append(H1_maps[1] * func(E))\n",
        "  H1_3_binned.append(H1_maps[2] * func(E))\n",
        "  H1_4_binned.append(H1_maps[3] * func(E))\n",
        "\n",
        "  H2_1_binned.append(H2_maps[0] * func(E))\n",
        "  H2_2_binned.append(H2_maps[1] * func(E))\n",
        "  H2_3_binned.append(H2_maps[2] * func(E))\n",
        "  H2_4_binned.append(H2_maps[3] * func(E))\n",
        "\n",
        "  dust_binned_pos.append(dust_pos * func(E))\n",
        "  dust_binned_neg.append(dust_neg * func(E))\n",
        "\n",
        "tot_alt = [H1_1_binned,H1_2_binned, H1_3_binned, H1_4_binned, H2_1_binned,H2_2_binned, H2_3_binned, H2_4_binned,dust_binned_pos,dust_binned_neg]\n",
        "tot_alt = np.array(tot_alt)\n",
        "\n",
        "tot_gce_alt = np.sum(tot_alt, axis = 0)\n",
        "\n",
        "\n",
        "H1_1_binned = np.array(H1_1_binned)\n",
        "H1_2_binned = np.array(H1_2_binned)\n",
        "H1_3_binned = np.array(H1_3_binned)\n",
        "H1_4_binned = np.array(H1_4_binned)\n",
        "\n",
        "H2_1_binned = np.array(H2_1_binned)\n",
        "H2_2_binned = np.array(H2_2_binned)\n",
        "H2_3_binned = np.array(H2_3_binned)\n",
        "H2_4_binned = np.array(H2_4_binned)\n",
        "\n",
        "dust_binned_pos = np.array(dust_binned_pos)\n",
        "dust_binned_neg = np.array(dust_binned_neg)\n"
      ],
      "execution_count": null,
      "outputs": [
        {
          "output_type": "stream",
          "text": [
            "/usr/local/lib/python3.6/dist-packages/ipykernel_launcher.py:41: RuntimeWarning: invalid value encountered in power\n"
          ],
          "name": "stderr"
        }
      ]
    },
    {
      "cell_type": "markdown",
      "metadata": {
        "id": "cQJQoLCCGdm-"
      },
      "source": [
        "### Signal maps"
      ]
    },
    {
      "cell_type": "code",
      "metadata": {
        "id": "QkxcO85G1ZH5"
      },
      "source": [
        "path_to_signal = '/content/drive/My Drive/Colab Notebooks/data_txt_files/NB_and_F98/'\n",
        "\n",
        "NB_ring_maps = []\n",
        "F98_ring_maps = []\n",
        "\n",
        "for i in range(0,5):\n",
        "  NB_map = np.roll(fits.getdata(path_to_signal + 'ics_anisotropic_mapcube_56_F98bar_inj' + str(i) +'.gz', ext=0), 360, axis=2)[:, (180 - roi * 2):(180 + roi * 2), (360 - roi * 2):(360 + roi * 2)]\n",
        "  F98_map = np.roll(fits.getdata(path_to_signal + 'ics_anisotropic_mapcube_56_NB_inj' + str(i) +'.gz', ext=0), 360, axis=2)[:, (180 - roi * 2):(180 + roi * 2), (360 - roi * 2):(360 + roi * 2)]\n",
        "  NB_ring_maps.append(NB_map)\n",
        "  F98_ring_maps.append(F98_map)\n",
        "\n",
        "\n",
        "NB_ring_maps = np.array(NB_ring_maps)\n",
        "F98_ring_maps = np.array(F98_ring_maps)\n",
        "\n",
        "signals = NB_ring_maps + F98_ring_maps\n"
      ],
      "execution_count": null,
      "outputs": []
    },
    {
      "cell_type": "code",
      "metadata": {
        "id": "SDuX4hyasTzF"
      },
      "source": [
        "dark_matter = np.roll(fits.getdata(path_to_signal + 'ics_anisotropic_mapcube_56_NFW_inj0.gz', ext=0), 360, axis=2)[:, (180 - roi * 2):(180 + roi * 2), (360 - roi * 2):(360 + roi * 2)]\n",
        "\n",
        "dark_matter = np.array(dark_matter)\n"
      ],
      "execution_count": null,
      "outputs": []
    },
    {
      "cell_type": "markdown",
      "metadata": {
        "id": "Ps-d-bhQvC8k"
      },
      "source": [
        "We have the following Background flux maps\n",
        "\n",
        "* 4 rings of ics maps 47 * 20 * 20\n",
        "* 4 rings of GCE maps 47 * 20 * 20\n",
        "* 1 Fermi min map 47 * 20 * 20\n",
        "* 1 Fermi max map 47 * 20 * 20\n",
        "\n",
        "An alternative GCE map extrapolated from Fermi dataL\n",
        "\n",
        "* 4 rings of GCE maps 47 * 20 * 20\n",
        "\n",
        "\n",
        "And for the alternative model:\n",
        "\n",
        "* 4 ring maps H1 40 * 40\n",
        "* 4 ring maps H2 40 * 40\n",
        "* 2 dust maps 20 * 20\n",
        "\n",
        "And the Following signal - maps:\n",
        "\n",
        "* 5  injection spectra NB signal map 47 * 20 * 20\n",
        "* 5  injection spectra F98 map 47 * 20 * 20"
      ]
    },
    {
      "cell_type": "markdown",
      "metadata": {
        "id": "tD174Kr5VpdJ"
      },
      "source": [
        "## Convolved data"
      ]
    },
    {
      "cell_type": "code",
      "metadata": {
        "id": "0ovN3T-2V7Hr"
      },
      "source": [
        "files_paths = '/content/drive/My Drive/Colab Notebooks/data_txt_files/'\n",
        "\n",
        "orig_shape = (9, 47, 20, 20)\n",
        "original_file = files_paths + 'Model_new.txt.txt'\n",
        "simulated_backgrounds = np.loadtxt(original_file).reshape(orig_shape)\n",
        "\n",
        "ics_rings = np.loadtxt(files_paths + 'ice_file.txt').reshape(4,46,20,20)\n",
        "gce_rings = np.loadtxt(files_paths + 'gce_file.txt').reshape(4,46,20,20)\n",
        "gce2_rings = np.loadtxt(files_paths + 'gce2_file.txt').reshape(4,46,20,20)\n",
        "NB_rings = np.loadtxt(files_paths + 'NB_file.txt').reshape(5,46,20,20)\n",
        "F98_rings = np.loadtxt(files_paths + 'F98_file.txt').reshape(5,46,20,20)\n",
        "signal_rings = np.loadtxt(files_paths + 'signal_file.txt').reshape(5,46,20,20)\n",
        "alternative_gce = np.loadtxt(files_paths + 'Alternative_gce.txt').reshape(10,46,20,20)\n",
        "fermi_maps = np.loadtxt(files_paths + 'fermi_map').reshape(2,46,20,20)\n",
        "fermi_bubble = simulated_backgrounds[-1][:-1] * 137\n",
        "dark_matter_map = np.loadtxt(files_paths + 'dark_matter_map').reshape(46,20,20)\n",
        "\n",
        "\n",
        "signal_inj_list = signal_rings\n",
        "all_backgrounds = np.array([ics_rings[0], ics_rings[1], ics_rings[2], ics_rings[3], gce_rings[0], gce_rings[1], gce_rings[2], gce_rings[3],fermi_bubble])\n"
      ],
      "execution_count": null,
      "outputs": []
    },
    {
      "cell_type": "markdown",
      "metadata": {
        "id": "WOSFo193EYmp"
      },
      "source": [
        "We have the following Background Count maps\n",
        "\n",
        "* 4 rings of ics maps 46 * 20 * 20\n",
        "* 4 rings of GCE maps 46 * 20 * 20\n",
        "* 2 Fermi maps 46 * 20 * 20\n",
        "\n",
        "\n",
        "And for the alternative model:\n",
        "\n",
        "\n",
        "* 4 ring maps H1 46 * 40 * 40\n",
        "* 4 ring maps H2 46 * 40 * 40\n",
        "* 4 rings of ics 46 * 20 * 20\n",
        "* 2 dust maps 46 * 20 * 20\n",
        "* 2 Fermi maps 46 * 20 * 20\n",
        "\n",
        "And the Following signal - maps:\n",
        "\n",
        "* 5  injection spectra NB signal map 46 * 20 * 20\n",
        "* 5  injection spectra F98 map 46 * 20 * 20"
      ]
    },
    {
      "cell_type": "markdown",
      "metadata": {
        "id": "QdGuKFqbpmqO"
      },
      "source": [
        "###Alternative mask matrix"
      ]
    },
    {
      "cell_type": "code",
      "metadata": {
        "id": "nBG_fD5opmFs",
        "colab": {
          "base_uri": "https://localhost:8080/"
        },
        "outputId": "30760d5d-a44b-4086-fe4c-ebf2927e5bab"
      },
      "source": [
        "def mask_matrix_fu():\n",
        "\n",
        "  catalog = fits.open(pre_path + 'gll_psch_v13.fit')\n",
        "\n",
        "  ptsrc_long = []\n",
        "  ptsrc_lat = []\n",
        "\n",
        "  # Here is load all the point sources in our range of interest:\n",
        "  for i in range(len(catalog[1].data)):\n",
        "      if(catalog[1].data[i][9] > 4.0 and catalog[1].data[i][33] == ''):\n",
        "          if(-roi + 180 <= catalog[1].data[i][3] <= roi + 180):\n",
        "              if(-roi <= catalog[1].data[i][4] <= roi):\n",
        "                  ptsrc_long.append(catalog[1].data[i][3])\n",
        "                  ptsrc_lat.append(catalog[1].data[i][4])\n",
        "\n",
        "  # Here I make a matrix that has a zero on all the positions that are +/- 0.25 degrees away from\n",
        "  # a Fermi high energy source. Also the galactic ridge (+/- 0.3 degrees lattitude) are maskt.\n",
        "  mask_matrix = []\n",
        "  y_coor = 0\n",
        "  x_min = 180 - roi\n",
        "  x_max = 180 + roi\n",
        "  y_min = - roi\n",
        "  y_max = roi\n",
        "  y_steps = 4 * roi\n",
        "  x_steps = 4 * roi\n",
        "\n",
        "  for y in np.linspace(y_max, y_min, y_steps):\n",
        "      mask_matrix.append([])\n",
        "      for x in np.linspace(x_min, x_max, x_steps):\n",
        "          mark = 0\n",
        "          for i in range(len(ptsrc_long)):\n",
        "              ps_x = ptsrc_long[i]\n",
        "              ps_y = ptsrc_lat[i]\n",
        "              if abs(ps_x - x) < 0.25:\n",
        "                  if abs(ps_y - y) < 0.25:\n",
        "                      mark = 1\n",
        "                      break\n",
        "  #            if ((ps_x - x)**2 + (ps_y - y)**2)**0.5  < 0.25:\n",
        "  #                mark = 0\n",
        "          if abs(y) < 0.3:\n",
        "              mark = 1\n",
        "          mask_matrix[y_coor].append(mark)\n",
        "      y_coor += 1\n",
        "\n",
        "  mask_matrix = np.array(mask_matrix)\n",
        "  return mask_matrix\n",
        "\n",
        "mask_matrix = mask_matrix_fu()\n",
        "\n",
        "x = np.arange(-roi,roi,0.5)\n",
        "y = np.arange(-roi,roi,0.5)\n",
        "xx, yy = np.meshgrid(x, y, sparse=True)\n",
        "#dist = np.sqrt(xx**2 + yy**2)\n",
        "dist = np.sqrt((xx-1.29)**2 + (yy-0.64)**2) #for a disk at (x,y)=(0.5,0.5)\n",
        "mask_matrix[dist<0.4] = 1.\n",
        "\n",
        "\n",
        "\n",
        "\n",
        "\n",
        "mask2 = []\n",
        "\n",
        "for i in range(11):\n",
        "  mask2.append(mask_matrix)\n",
        "\n",
        "mask2 = np.array(mask2)\n",
        "\n",
        "plt.figure(figsize=(9,7))\n",
        "plt.xlabel(\"Gal. Long. [deg]\",fontsize=18)\n",
        "plt.ylabel(\"Gal. Lat. [deg]\",fontsize=18)\n",
        "plt.xticks(fontsize=18)\n",
        "plt.yticks(fontsize=18)\n",
        "plt.imshow(mask2[0], extent = [roi,-roi,-roi,roi])\n",
        "plt.colorbar()\n",
        "plt.show()\n"
      ],
      "execution_count": null,
      "outputs": [
        {
          "output_type": "display_data",
          "data": {
            "image/png": "[encoded data removed]",
            "text/plain": [
              "<Figure size 648x504 with 2 Axes>"
            ]
          },
          "metadata": {
            "tags": [],
            "needs_background": "light"
          }
        }
      ]
    },
    {
      "cell_type": "markdown",
      "metadata": {
        "id": "Uk1h3jpYBvPM"
      },
      "source": [
        "## Compressing again to 11 rings"
      ]
    },
    {
      "cell_type": "code",
      "metadata": {
        "id": "f20-qQZYL5BL"
      },
      "source": [
        "res_back_template = []\n",
        "\n",
        "Ics_ring_1_template = []\n",
        "Ics_ring_2_template = []\n",
        "Ics_ring_3_template = []\n",
        "Ics_ring_4_template = []\n",
        "GCE_ring_1_template = []\n",
        "GCE_ring_2_template = []\n",
        "GCE_ring_3_template = []\n",
        "GCE_ring_4_template = []\n",
        "\n",
        "fermi_template = []\n",
        "\n",
        "signal_0_template = []\n",
        "signal_1_template = []\n",
        "signal_2_template = []\n",
        "signal_3_template = []\n",
        "signal_4_template = []\n",
        "\n",
        "\n",
        "H1_ring_1_template = []\n",
        "H1_ring_2_template = []\n",
        "H1_ring_3_template = []\n",
        "H1_ring_4_template = []\n",
        "\n",
        "H2_ring_1_template = []\n",
        "H2_ring_2_template = []\n",
        "H2_ring_3_template = []\n",
        "H2_ring_4_template = []\n",
        "\n",
        "dust_pos_template = []\n",
        "dust_neg_template = []\n",
        "\n",
        "dark_matter_template = []\n",
        "\n",
        "new_energies = []\n",
        "\n",
        "for j in range(0,11):\n",
        "  i = 2+j*4\n",
        "  new_energies.append(energies[i])\n",
        "\n",
        "  res_back_template.append(np.sum(res_back[i:i+4], axis = 0))\n",
        "\n",
        "  Ics_ring_1_template.append(np.sum(ics_rings[0][i:i+4], axis = 0))\n",
        "  Ics_ring_2_template.append(np.sum(ics_rings[1][i:i+4], axis = 0))\n",
        "  Ics_ring_3_template.append(np.sum(ics_rings[2][i:i+4], axis = 0))\n",
        "  Ics_ring_4_template.append(np.sum(ics_rings[3][i:i+4], axis = 0))\n",
        "\n",
        "  GCE_ring_1_template.append(np.sum(gce_rings[0][i:i+4], axis = 0))\n",
        "  GCE_ring_2_template.append(np.sum(gce_rings[1][i:i+4], axis = 0))\n",
        "  GCE_ring_3_template.append(np.sum(gce_rings[2][i:i+4], axis = 0))\n",
        "  GCE_ring_4_template.append(np.sum(gce_rings[3][i:i+4], axis = 0))\n",
        "\n",
        "  if Fermi_min:\n",
        "    fermi_template.append(np.sum(fermi_maps[0][i:i+4], axis = 0))\n",
        "  else:\n",
        "    fermi_template.append(np.sum(fermi_maps[1][i:i+4], axis = 0))\n",
        "\n",
        "  signal_0_template.append(np.sum(signal_rings[0][i:i+4], axis = 0))\n",
        "  signal_1_template.append(np.sum(signal_rings[1][i:i+4], axis = 0))\n",
        "  signal_2_template.append(np.sum(signal_rings[2][i:i+4], axis = 0))\n",
        "  signal_3_template.append(np.sum(signal_rings[3][i:i+4], axis = 0))\n",
        "  signal_4_template.append(np.sum(signal_rings[4][i:i+4], axis = 0))\n",
        "\n",
        "  dark_matter_template.append(np.sum(dark_matter_map[i:i+4], axis = 0))\n",
        "\n",
        "\n",
        "  H1_ring_1_template.append(np.sum(alternative_gce[0][i:i+4], axis = 0))\n",
        "  H1_ring_2_template.append(np.sum(alternative_gce[1][i:i+4], axis = 0))\n",
        "  H1_ring_3_template.append(np.sum(alternative_gce[2][i:i+4], axis = 0))\n",
        "  H1_ring_4_template.append(np.sum(alternative_gce[3][i:i+4], axis = 0))\n",
        "\n",
        "  H2_ring_1_template.append(np.sum(alternative_gce[4][i:i+4], axis = 0))\n",
        "  H2_ring_2_template.append(np.sum(alternative_gce[5][i:i+4], axis = 0))\n",
        "  H2_ring_3_template.append(np.sum(alternative_gce[6][i:i+4], axis = 0))\n",
        "  H2_ring_4_template.append(np.sum(alternative_gce[7][i:i+4], axis = 0))\n",
        "\n",
        "  dust_pos_template.append(np.sum(alternative_gce[8][i:i+4], axis = 0))\n",
        "  dust_neg_template.append(np.sum(alternative_gce[9][i:i+4], axis = 0))\n",
        "\n",
        "\n",
        "\n",
        "res_back_template = np.array(res_back_template )\n",
        "\n",
        "Ics_ring_1_template = np.array(Ics_ring_1_template)\n",
        "Ics_ring_2_template = np.array(Ics_ring_2_template)\n",
        "Ics_ring_3_template = np.array(Ics_ring_3_template)\n",
        "Ics_ring_4_template = np.array(Ics_ring_4_template)\n",
        "GCE_ring_1_template = np.array(GCE_ring_1_template)\n",
        "GCE_ring_2_template = np.array(GCE_ring_2_template)\n",
        "GCE_ring_3_template = np.array(GCE_ring_3_template)\n",
        "GCE_ring_4_template = np.array(GCE_ring_4_template)\n",
        "\n",
        "fermi_template = np.array(fermi_template)\n",
        "\n",
        "signal_0_template = np.array(signal_0_template)\n",
        "signal_1_template = np.array(signal_1_template)\n",
        "signal_2_template = np.array(signal_2_template)\n",
        "signal_3_template = np.array(signal_3_template)\n",
        "signal_4_template = np.array(signal_4_template)\n",
        "\n",
        "signal_templates = np.array([signal_0_template, signal_1_template, signal_2_template, signal_3_template, signal_4_template])\n",
        "\n",
        "\n",
        "H1_ring_1_template = np.array(H1_ring_1_template)\n",
        "H1_ring_2_template = np.array(H1_ring_2_template)\n",
        "H1_ring_3_template = np.array(H1_ring_3_template)\n",
        "H1_ring_4_template = np.array(H1_ring_4_template)\n",
        "\n",
        "H2_ring_1_template = np.array(H2_ring_1_template)\n",
        "H2_ring_2_template = np.array(H2_ring_2_template)\n",
        "H2_ring_3_template = np.array(H2_ring_3_template)\n",
        "H2_ring_4_template = np.array(H2_ring_4_template)\n",
        "\n",
        "dust_pos_template = np.array(dust_pos_template)\n",
        "dust_neg_template = np.array(dust_neg_template)\n",
        "\n",
        "dark_matter_template = np.array(dark_matter_template)"
      ],
      "execution_count": null,
      "outputs": []
    },
    {
      "cell_type": "markdown",
      "metadata": {
        "id": "BKe23BuPx8xq"
      },
      "source": [
        "# Creating the synthetic data"
      ]
    },
    {
      "cell_type": "markdown",
      "metadata": {
        "id": "uCEwlZoahVZH"
      },
      "source": [
        "### the sythentic data"
      ]
    },
    {
      "cell_type": "code",
      "metadata": {
        "id": "06meLxK-RYkg",
        "colab": {
          "base_uri": "https://localhost:8080/"
        },
        "outputId": "dc54c0fc-6a69-4a92-e39d-9b918ff6b159"
      },
      "source": [
        "all_backgrounds = [res_back_template, Ics_ring_1_template, Ics_ring_2_template, Ics_ring_3_template, Ics_ring_4_template,\n",
        "                GCE_ring_1_template, GCE_ring_2_template, GCE_ring_3_template, GCE_ring_4_template, fermi_template]\n",
        "\n",
        "\n",
        "for i in all_backgrounds:\n",
        "  print (i.shape)\n",
        "\n",
        "signal_strengts = np.logspace(-2.5,1,ss_steps)      \n",
        "injection_spectra = 0                             ### signal injection type \n",
        "\n",
        "signal_conv = signal_templates[injection_spectra]\n",
        "all_backgrounds = np.array(all_backgrounds)\n",
        "\n",
        "\n",
        "def random_counts_with_signal(signal_strength, all_backgrounds, signal_conv):\n",
        "  \"\"\"  Function that creates a synthetic background map\n",
        "\n",
        "  inputs:\n",
        "  --------------\n",
        "  all_backgrounds: 'n*20*20 array' array with all the different background maps\n",
        "  signal_conv: '20*20 array' count map of the background signal\n",
        "\n",
        "  output:\n",
        "  --------------\n",
        "  count matrix: '20*20 array' a synthetic data map for CTA\n",
        "  \"\"\"\n",
        "\n",
        "  count_matrix = np.zeros(signal_conv.shape)\n",
        "  for mapn in all_backgrounds:\n",
        "    after_norm = np.random.poisson(mapn)\n",
        "    count_matrix += after_norm\n",
        "\n",
        "  signal_norm = signal_conv * signal_strength\n",
        "  count_matrix += np.random.poisson(signal_norm)\n",
        "\n",
        "  return count_matrix\n",
        "\n",
        "\n",
        "### Creating array with a range of simulated data \n",
        "all_simulated_background = []\n",
        "for ss in signal_strengts:\n",
        "  list_MC = []\n",
        "  for _ in range(MC_times):\n",
        "    a = random_counts_with_signal(ss, all_backgrounds, signal_conv)\n",
        "    list_MC.append(np.ma.array(a, mask=mask2))    ### Mask the data\n",
        "  all_simulated_background.append(list_MC)\n",
        "\n",
        "\n",
        "## PLotting an example\n",
        "fig,ax = plt.subplots(figsize = (7,5))\n",
        "a = ax.imshow(np.sum(all_backgrounds, axis = 0)[0])\n",
        "ax.set(xlabel = \"Gal. Long. [deg]\", ylabel = \"Gal. Lat. [deg]\",  title = f'All backgrounds combined')\n",
        "fig.colorbar(a, ax = ax)\n",
        "plt.show()\n",
        "\n",
        "fig,ax = plt.subplots(1,2,figsize = (20,5))\n",
        "\n",
        "for i in range(2):\n",
        "  a = ax[i].imshow(all_simulated_background[0][i][0])\n",
        "  ax[i].set(xlabel = \"Gal. Long. [deg]\", ylabel = \"Gal. Lat. [deg]\",  title = f'Synthetic background {i}')\n",
        "  fig.colorbar(a, ax = ax[i])\n",
        "\n",
        "fig.tight_layout()\n",
        "\n",
        "plt.show()\n",
        "\n"
      ],
      "execution_count": null,
      "outputs": [
        {
          "output_type": "stream",
          "text": [
            "(11, 20, 20)\n",
            "(11, 20, 20)\n",
            "(11, 20, 20)\n",
            "(11, 20, 20)\n",
            "(11, 20, 20)\n",
            "(11, 20, 20)\n",
            "(11, 20, 20)\n",
            "(11, 20, 20)\n",
            "(11, 20, 20)\n",
            "(11, 20, 20)\n"
          ],
          "name": "stdout"
        },
        {
          "output_type": "display_data",
          "data": {
            "image/png": "[encoded data removed]",
            "text/plain": [
              "<Figure size 504x360 with 2 Axes>"
            ]
          },
          "metadata": {
            "tags": [],
            "needs_background": "light"
          }
        },
        {
          "output_type": "display_data",
          "data": {
            "image/png": "[encoded data removed]",
            "text/plain": [
              "<Figure size 1440x360 with 4 Axes>"
            ]
          },
          "metadata": {
            "tags": [],
            "needs_background": "light"
          }
        }
      ]
    },
    {
      "cell_type": "code",
      "metadata": {
        "id": "ylvOSIB2BwW-"
      },
      "source": [
        ""
      ],
      "execution_count": null,
      "outputs": []
    },
    {
      "cell_type": "markdown",
      "metadata": {
        "id": "lisg_evkFSc-"
      },
      "source": [
        "#The bin by bin analysis class"
      ]
    },
    {
      "cell_type": "code",
      "metadata": {
        "id": "TpFWdlayFY27"
      },
      "source": [
        "class analysis:\n",
        "\n",
        "  def __init__(self, signal_strength, model_backgrounds,signal1,data_map, dm_map = []):\n",
        "    self.signal_strength = signal_strength\n",
        "    self.counts_m = data_map\n",
        "    self.all_backgrounds = model_backgrounds\n",
        "    self.signal_conv = signal1\n",
        "    self.signal1 = signal1\n",
        "    self.energy_bin =  energy_bin\n",
        "    self.variance = np.std(data_map)**2\n",
        "    self.dm_map = dm_map\n",
        "\n",
        "\n",
        "  def L0_model_long(self, params):\n",
        "    \"\"\"\n",
        "    The background only model: H0\n",
        "\n",
        "    input:\n",
        "    --------------\n",
        "    params: 'list' list of normalisation values.\n",
        "\n",
        "    output:\n",
        "    --------------\n",
        "    tot_back: '20*20 array' total map predicted by the map for a given set of normalisations.\n",
        "    \"\"\"\n",
        "\n",
        "\n",
        "\n",
        "\n",
        "    tot_back = np.sum(params[:len(self.all_backgrounds)][:, None, None] * self.all_backgrounds, axis = 0)\n",
        "    \n",
        "    if dark_matter_s:\n",
        "      tot_back += params[-1] * self.signal1\n",
        "      \n",
        "\n",
        "    return tot_back\n",
        "    \n",
        "\n",
        "  def L1_model_long(self, params):\n",
        "    \"\"\"\n",
        "    The background only model: H0\n",
        "\n",
        "    input:\n",
        "    --------------\n",
        "    params: 'list' list of normalisation values.\n",
        "\n",
        "    output:\n",
        "    --------------\n",
        "    tot_back: '20*20 array' total map predicted by the map for a given set of normalisations.\n",
        "    \"\"\"\n",
        "\n",
        "    \n",
        "\n",
        "    tot_back = np.sum(params[:len(self.all_backgrounds)][:, None, None] * self.all_backgrounds, axis = 0)\n",
        "\n",
        "    if dark_matter_s:\n",
        "      tot_back += params[-2] * self.dm_map \n",
        "\n",
        "    tot_back += params[-1] * self.signal1\n",
        "\n",
        "    \n",
        "    return tot_back\n",
        "\n",
        "\n",
        "  \n",
        "  def lik0(self,params):\n",
        "    \"\"\"\n",
        "    Function that computes the likelihood for a given set of parameters  of the background only model\n",
        "\n",
        "\n",
        "    input:\n",
        "    -------------\n",
        "    params: 'list' list of normalisation values\n",
        "\n",
        "    output:\n",
        "    -------------\n",
        "    li: 'float' total likelihood of the model for a given set of normalisations\n",
        "\n",
        "    \"\"\"\n",
        "    counts = self.counts_m\n",
        "    counts_model = self.L0_model_long(params)\n",
        "\n",
        "    li = np.sum((counts - counts_model)**2) / self.variance\n",
        "    return 0.5*li\n",
        "\n",
        "\n",
        "\n",
        "  def lik1(self,params):\n",
        "    \"\"\"\n",
        "    Function that computes the likelihood for a given set of parameters of the background + signal model\n",
        "\n",
        "    input:\n",
        "    -------------\n",
        "    params: 'list' list of normalisation values\n",
        "\n",
        "    output:\n",
        "    -------------\n",
        "    li: 'float' total likelihood of the model for a given set of normalisations\n",
        "\n",
        "    \"\"\"\n",
        "    p_sum = 0\n",
        "    counts = self.counts_m\n",
        "    counts_model = self.L1_model_long(params)\n",
        "\n",
        "    li = np.sum((counts - counts_model)**2) / self.variance\n",
        "    return 0.5*li\n",
        "  \n",
        "  def Test_stat(self):\n",
        "    \"\"\"\n",
        "    Function that calculated the maximum likelihood for two models\n",
        "\n",
        "    output:\n",
        "    -------------\n",
        "    T: 'float' test statistic\n",
        "    c,m_0: gives the strength of the maximum likelihood analysis of the null hypothesis\n",
        "    d,m_1: gives the strength of the maximum likelihood analysis of the alternative hypothesis with a signal\n",
        "\n",
        "    \"\"\"\n",
        "\n",
        "    init_gues0 = [1 for __ in range(len(self.all_backgrounds))]\n",
        "    init_gues1 = [1 for __ in range(len(self.all_backgrounds))]\n",
        "    range0 = (0, 100)\n",
        "    range1 = (0, 100)\n",
        "    limit_list1 = [range0 for __ in range(len(self.all_backgrounds))]\n",
        "    limit_list2 = [range1 for __ in range(len(self.all_backgrounds))]\n",
        "\n",
        "    limit_list2.append((0, None))\n",
        "    init_gues1.append(self.signal_strength)\n",
        "    \n",
        "    if dark_matter_s:\n",
        "      limit_list1.append((0, None))\n",
        "      init_gues0.append(self.signal_strength)\n",
        "\n",
        "      limit_list2.append((0, None))\n",
        "      init_gues1.append(self.signal_strength)\n",
        "   \n",
        "    \n",
        "    m_0 = Minuit.from_array_func(self.lik0, init_gues0, error = 0.1, limit= limit_list1, errordef=0.5)\n",
        "    m_1 = Minuit.from_array_func(self.lik1, init_gues1, error = 0.1, limit= limit_list2, errordef=0.5)\n",
        "    c = m_0.migrad() \n",
        "    d = m_1.migrad()\n",
        "    a = -m_0.fval \n",
        "    b = -m_1.fval\n",
        "    T = -2*(a-b)\n",
        "    return T, c,d,m_0,m_1\n"
      ],
      "execution_count": null,
      "outputs": []
    },
    {
      "cell_type": "markdown",
      "metadata": {
        "id": "D8yXCNqLNU0Y"
      },
      "source": [
        "# Doing the analysis"
      ]
    },
    {
      "cell_type": "code",
      "metadata": {
        "id": "JQaLQekBSBZI",
        "colab": {
          "base_uri": "https://localhost:8080/",
          "height": 351,
          "referenced_widgets": [
            "a119710e323441d2aa9cbfc50a38636f",
            "0b5e14d7d2704f93a304493753cf7e52",
            "bcb01db6fec5419a886846c054b80045",
            "5a0365194488434187f89d59512aacc5",
            "039388471642424ca21fb55017cc3ec9",
            "709ccb95b5574cd4b55977fd0bbdd76f",
            "8f2ccb4b01a042a88090ebb8ce5c71cb",
            "9c536b11479d497d8736efb38783e68d",
            "c99c4c07cc0247bfaa4a18fd72e9d7f3",
            "808dd1622ca442c188710ce09cf09636",
            "66e3297556fb45cc93d0d4a115c7317e",
            "e606b7f085444640911be8a00b961add",
            "1a5f2a1de99045bc92749072edfc3b84",
            "a692e4c5a0c349cfbd0e4c0e96519322",
            "f1025821a1ce48d5baa1285040061b19",
            "8d7ce80664e74e1ea49987864b86a0b6",
            "41c388a0657e43df9f2930b292eb54a1",
            "40159b0febb34f44a7c018901545f9f1",
            "ae2e75c41c6244028403b77f50077f59",
            "0c9157845f7e46f7bdaa83e9c64ce91a",
            "268f0b56768245149cc807826599c19c",
            "ab4c23aed02049a38e8383e8420c1157",
            "fa2c86f1cf51465e852e4ab865032313",
            "39ed47e00ed8478ba72835dd55a4b25d",
            "389ab31996394593b11fc13cf0df491c",
            "408217193e24496ca208d099f03e822b",
            "9e7e3dd968c74451bd032f8a4df4f8cc",
            "25c3b3e3ecc1437e8aa1c41680a7af90",
            "81e588dfd3e44900ba807e33fd4016c2",
            "b7597a30cd234c7eb7a07e29dc9ccedc",
            "3d2ce91189ee48caae96155ff8b1f41f",
            "6c99c25fe25e4ef8867a97b1a1d18919",
            "c19cb8652d5e4ff085cf3583b742c1bd",
            "4f32adfb75a04d889d9c7433e5da093f",
            "a822e06e15374a8dbee0456f56d96aaf",
            "8b485e67e0484a42a0505a8abafc27dd",
            "710fe8ffaa9d4e538a4da847a8273119",
            "0dc223d9e7844eb2a9810f77c6961a96",
            "6cadec403ae64900ab2c2e53a5703ebf",
            "73e868e42f0b4419906fa354ba6aa7a5"
          ]
        },
        "outputId": "bfa31acc-6b29-4a28-9fc6-94e0a58af608"
      },
      "source": [
        "def likelihood_analysis(injection_spectra):\n",
        "\n",
        "  \"\"\"\n",
        "  Function that applies the likelihood analysis to the data \n",
        "\n",
        "  input:\n",
        "  --------------\n",
        "  injection_spectra: 'integer' the injection spectra for which we find the extracted signal.\n",
        "\n",
        "  output:\n",
        "  --------------\n",
        "\n",
        "  all_T : '11*20 array'                          array with all extracted TS signals\n",
        "  all_f : '11*20*background_maps array'          array with all extracted normalisation vectors\n",
        "  all_T_std : '11*20 array'                      array with all errors on the extracted TS signals\n",
        "  all_f_Std : '11*20*background_maps array'      array with all errors on the extracted normalisation vectors\n",
        "\n",
        "\n",
        "  \"\"\"\n",
        "\n",
        "\n",
        "  all_backgrounds = [res_back_template, Ics_ring_1_template, Ics_ring_2_template, Ics_ring_3_template, Ics_ring_4_template,\n",
        "                GCE_ring_1_template, GCE_ring_2_template, GCE_ring_3_template, GCE_ring_4_template, fermi_template]\n",
        "  signal_conv = signal_templates[injection_spectra]\n",
        "  all_backgrounds = np.array(all_backgrounds)\n",
        "\n",
        "  if injection_spectra == 2:\n",
        "    signal_strengts = np.logspace(-2,3,ss_steps)  \n",
        "  elif injection_spectra == 1:\n",
        "    signal_strengts = np.logspace(-2.8,2,ss_steps)  \n",
        "  else:\n",
        "    signal_strengts = np.logspace(-2.5,2.5,ss_steps)  \n",
        "\n",
        "\n",
        "\n",
        "  ### Creating array with a range of simulated data \n",
        "  all_simulated_background = []\n",
        "  for ss in signal_strengts:\n",
        "    list_MC = []\n",
        "    for _ in range(MC_times):\n",
        "      a = random_counts_with_signal(ss, all_backgrounds, signal_conv)\n",
        "      list_MC.append(np.ma.array(a, mask=mask2))    ### Mask the data\n",
        "    all_simulated_background.append(list_MC)\n",
        "\n",
        "\n",
        "  all_T = []\n",
        "  all_T_std = []\n",
        "  all_f = []\n",
        "  all_f_Std = []\n",
        "\n",
        "  print (f\"Calculating for injection spectra {injection_spectra}:\")\n",
        "\n",
        "  for k in tqdm(range(0,11)):     ## We do the analysis for all 11 energy bins\n",
        "\n",
        "    fit_values = []\n",
        "    T_values = []\n",
        "    energy_bin = k\n",
        "    for signal_bin in range(ss_steps):    ### For every injected signal strength\n",
        "      ss = signal_strengts[signal_bin]\n",
        "      local_fit_values = []\n",
        "      local_T_values = []\n",
        "\n",
        "      for MC in range(MC_times):                 ### Monte carlo analysis\n",
        "\n",
        "\n",
        "          if mismodelling:\n",
        "            model_backgrounds = np.array([res_back_template[energy_bin], Ics_ring_1_template[energy_bin] + Ics_ring_2_template[energy_bin] +  Ics_ring_3_template[energy_bin] + Ics_ring_4_template[energy_bin],\n",
        "                                          H1_ring_1_template[energy_bin], H1_ring_2_template[energy_bin], H1_ring_3_template[energy_bin],H1_ring_4_template[energy_bin],\n",
        "                                          H2_ring_1_template[energy_bin], H2_ring_2_template[energy_bin], H2_ring_3_template[energy_bin],H2_ring_4_template[energy_bin],\n",
        "                                          dust_pos_template[energy_bin] + dust_neg_template[energy_bin], fermi_template[energy_bin]])\n",
        "          else: \n",
        "            model_backgrounds = np.array([res_back_template[energy_bin], Ics_ring_1_template[energy_bin] + Ics_ring_2_template[energy_bin] +  Ics_ring_3_template[energy_bin] + Ics_ring_4_template[energy_bin],\n",
        "                                          GCE_ring_1_template[energy_bin], GCE_ring_2_template[energy_bin], GCE_ring_3_template[energy_bin], GCE_ring_4_template[energy_bin],\n",
        "                                          fermi_template[energy_bin]])\n",
        "\n",
        "\n",
        "\n",
        "          if dark_matter_s:\n",
        "            dm_map = dark_matter_template[energy_bin]\n",
        "\n",
        "          signal1 = signal_templates[injection_spectra][energy_bin]\n",
        "          data_map = all_simulated_background[signal_bin][MC][energy_bin]\n",
        "\n",
        "          if dark_matter_s:          \n",
        "            M = analysis(ss, model_backgrounds,signal1,data_map, dm_map = dm_map)\n",
        "          else:\n",
        "            M = analysis(ss, model_backgrounds,signal1,data_map)\n",
        "            \n",
        "          T, c,d,m_0,m_1 = M.Test_stat()\n",
        "          a = [m_1.values[x] for x in range(len(m_1.values))]\n",
        "\n",
        "\n",
        "          local_fit_values.append(a)\n",
        "          local_T_values.append(T)\n",
        "\n",
        "      fit_values.append(local_fit_values)\n",
        "      T_values.append(local_T_values)\n",
        "\n",
        "\n",
        "\n",
        "\n",
        "    fit_values = np.array(fit_values)\n",
        "    T_values = np.array(T_values)\n",
        "\n",
        "\n",
        "    a = np.mean(fit_values, axis = 1)\n",
        "    b = np.std(fit_values, axis = 1)\n",
        "    c = np.mean(T_values, axis = 1)\n",
        "    d = np.std(T_values, axis = 1) \n",
        "    \n",
        "    all_T.append(c)\n",
        "    all_T_std.append(d)\n",
        "    all_f.append(a)\n",
        "    all_f_Std.append(b)\n",
        "\n",
        "  return all_T, all_f, all_T_std, all_f_Std\n",
        "\n",
        "\n",
        "\n",
        "\n",
        "if all_injection_plots:\n",
        "\n",
        "  all_T_tot = []\n",
        "  all_T_std_tot = []\n",
        "  all_f_tot = []\n",
        "  all_f_Std_tot = []\n",
        "\n",
        "  for injection_spectra in range(5):\n",
        "    all_T, all_f, all_T_std, all_f_Std = likelihood_analysis(injection_spectra)\n",
        "    all_T_tot.append(all_T)\n",
        "    all_T_std_tot.append(all_T_std)\n",
        "    all_f_tot.append(all_f)\n",
        "    all_f_Std_tot.append(all_f_Std)\n",
        "\n",
        "\n",
        "  all_T_tot = np.array(all_T_tot)\n",
        "  all_f_tot = np.array(all_f_tot)\n",
        "  all_T_std_tot = np.array(all_T_std_tot)\n",
        "  all_f_Std_tot = np.array(all_f_Std_tot)\n",
        "\n",
        "\n",
        "else:\n",
        "\n",
        "  all_T, all_f, all_T_std, all_f_Std = likelihood_analysis(At_injection_spectra)\n",
        "  all_T = np.array(all_T)\n",
        "  all_f = np.array(all_f)\n",
        "  all_T_std = np.array(all_T_std)\n",
        "  all_f_Std = np.array(all_f_Std)\n",
        "\n",
        "\n",
        "\n",
        "\n"
      ],
      "execution_count": null,
      "outputs": [
        {
          "output_type": "stream",
          "text": [
            "Calculating for injection spectra 0:\n"
          ],
          "name": "stdout"
        },
        {
          "output_type": "display_data",
          "data": {
            "application/vnd.jupyter.widget-view+json": {
              "model_id": "a119710e323441d2aa9cbfc50a38636f",
              "version_minor": 0,
              "version_major": 2
            },
            "text/plain": [
              "HBox(children=(FloatProgress(value=0.0, max=11.0), HTML(value='')))"
            ]
          },
          "metadata": {
            "tags": []
          }
        },
        {
          "output_type": "stream",
          "text": [
            "\n",
            "Calculating for injection spectra 1:\n"
          ],
          "name": "stdout"
        },
        {
          "output_type": "display_data",
          "data": {
            "application/vnd.jupyter.widget-view+json": {
              "model_id": "c99c4c07cc0247bfaa4a18fd72e9d7f3",
              "version_minor": 0,
              "version_major": 2
            },
            "text/plain": [
              "HBox(children=(FloatProgress(value=0.0, max=11.0), HTML(value='')))"
            ]
          },
          "metadata": {
            "tags": []
          }
        },
        {
          "output_type": "stream",
          "text": [
            "\n",
            "Calculating for injection spectra 2:\n"
          ],
          "name": "stdout"
        },
        {
          "output_type": "display_data",
          "data": {
            "application/vnd.jupyter.widget-view+json": {
              "model_id": "41c388a0657e43df9f2930b292eb54a1",
              "version_minor": 0,
              "version_major": 2
            },
            "text/plain": [
              "HBox(children=(FloatProgress(value=0.0, max=11.0), HTML(value='')))"
            ]
          },
          "metadata": {
            "tags": []
          }
        },
        {
          "output_type": "stream",
          "text": [
            "\n",
            "Calculating for injection spectra 3:\n"
          ],
          "name": "stdout"
        },
        {
          "output_type": "display_data",
          "data": {
            "application/vnd.jupyter.widget-view+json": {
              "model_id": "389ab31996394593b11fc13cf0df491c",
              "version_minor": 0,
              "version_major": 2
            },
            "text/plain": [
              "HBox(children=(FloatProgress(value=0.0, max=11.0), HTML(value='')))"
            ]
          },
          "metadata": {
            "tags": []
          }
        },
        {
          "output_type": "stream",
          "text": [
            "\n",
            "Calculating for injection spectra 4:\n"
          ],
          "name": "stdout"
        },
        {
          "output_type": "display_data",
          "data": {
            "application/vnd.jupyter.widget-view+json": {
              "model_id": "c19cb8652d5e4ff085cf3583b742c1bd",
              "version_minor": 0,
              "version_major": 2
            },
            "text/plain": [
              "HBox(children=(FloatProgress(value=0.0, max=11.0), HTML(value='')))"
            ]
          },
          "metadata": {
            "tags": []
          }
        },
        {
          "output_type": "stream",
          "text": [
            "\n"
          ],
          "name": "stdout"
        }
      ]
    },
    {
      "cell_type": "markdown",
      "metadata": {
        "id": "hf9VhlfP5cm0"
      },
      "source": [
        "## Putting it in txt files"
      ]
    },
    {
      "cell_type": "code",
      "metadata": {
        "id": "7BvRk4Ea3QZ7"
      },
      "source": [
        "#files_paths = '/content/drive/My Drive/Colab Notebooks/Fits_values/'\n",
        "#file1 = open(files_paths + f'all_T_inj_{injection_spectra}', \"w\")\n",
        "#file2 = open(files_paths + f'all_f_inj_{injection_spectra}', \"w\")\n",
        "\n",
        "#file3 = open(files_paths + f'all_T_inj_{injection_spectra}_std', \"w\")\n",
        "#file4 = open(files_paths + f'all_f_inj_{injection_spectra}_std', \"w\")\n",
        "\n",
        "#for i in np.ndindex(all_T.shape):\n",
        "#  np.savetxt(file1, [all_T[i]])\n",
        "\n",
        "#for i in np.ndindex(all_f.shape):\n",
        "#  np.savetxt(file2, [all_f[i]])\n",
        "\n",
        "#for i in np.ndindex(all_T_std.shape):\n",
        "#  np.savetxt(file3, [all_T_std[i]])\n",
        "\n",
        "#for i in np.ndindex(all_f.shape):\n",
        "#  np.savetxt(file4, [all_f_Std[i]])\n",
        "\n",
        "\n",
        "#file1.close()\n",
        "#file2.close()  \n",
        "#file3.close()\n",
        "#file4.close()  "
      ],
      "execution_count": null,
      "outputs": []
    },
    {
      "cell_type": "code",
      "metadata": {
        "id": "ywTfva1b4DQo"
      },
      "source": [
        "#injection_spectra = 0\n",
        "\n",
        "#files_paths = '/content/drive/My Drive/Colab Notebooks/Fits_values/'\n",
        "#all_T = np.loadtxt(files_paths + f'all_T_inj_{injection_spectra}').reshape(11,ss_steps)\n",
        "#all_f = np.loadtxt(files_paths + f'all_f_inj_{injection_spectra}').reshape(11,ss_steps, 7)\n",
        "#all_T_std = np.loadtxt(files_paths + f'all_T_inj_{injection_spectra}_std').reshape(11,ss_steps)\n",
        "#all_f_Std = np.loadtxt(files_paths + f'all_f_inj_{injection_spectra}_std').reshape(11,ss_steps, 7)"
      ],
      "execution_count": null,
      "outputs": []
    },
    {
      "cell_type": "markdown",
      "metadata": {
        "id": "DXuCwKKO5hj5"
      },
      "source": [
        "# Plotting the results\n"
      ]
    },
    {
      "cell_type": "markdown",
      "metadata": {
        "id": "vROF8d7tNBgJ"
      },
      "source": [
        "### The plot settings"
      ]
    },
    {
      "cell_type": "code",
      "metadata": {
        "id": "Byo5z196M9kN"
      },
      "source": [
        "import matplotlib as mpl\n",
        "\n",
        "def plot_setttings_1():\n",
        "  sns.reset_orig()\n",
        "  mpl.rcParams['font.size'] = 17.0\n",
        "  mpl.rcParams['lines.linewidth'] = 1.5\n",
        "  mpl.rcParams['lines.linestyle'] = '-'\n",
        "  mpl.rcParams['axes.linewidth'] = 1.0\n",
        "  mpl.rcParams['axes.labelsize'] = 15.0\n",
        "  mpl.rcParams['xtick.major.size'] = 6\n",
        "  mpl.rcParams['xtick.major.width'] = 1\n",
        "  mpl.rcParams['xtick.minor.size'] = 3\n",
        "  mpl.rcParams['xtick.minor.width'] = 1\n",
        "  mpl.rcParams['ytick.major.size'] = 6\n",
        "  mpl.rcParams['ytick.major.width'] = 1\n",
        "  mpl.rcParams['ytick.minor.size'] = 3\n",
        "  mpl.rcParams['ytick.minor.width'] = 1\n",
        "  mpl.rcParams['xtick.direction'] = 'in'\n",
        "  mpl.rcParams['ytick.direction'] = 'in'\n",
        "  mpl.rcParams['xtick.top'] = True\n",
        "  mpl.rcParams['ytick.right'] = True\n",
        "  mpl.rcParams['legend.fontsize'] = 'small'\n",
        "  mpl.rcParams['figure.figsize'] = (7, 5)\n",
        "  mpl.rcParams['savefig.bbox'] = 'tight'\n",
        "  mpl.rcParams['savefig.pad_inches'] = 0.1\n",
        "\n",
        "def plot_settings_2():\n",
        "  sns.reset_orig()\n",
        "  mpl.rcParams['font.size'] = 17.0\n",
        "  mpl.rcParams['lines.linewidth'] = 1.5\n",
        "  mpl.rcParams['lines.linestyle'] = '-'\n",
        "  mpl.rcParams['axes.linewidth'] = 1.0\n",
        "  mpl.rcParams['axes.labelsize'] = 18.0\n",
        "  mpl.rcParams['xtick.major.size'] = 6\n",
        "  mpl.rcParams['xtick.major.width'] = 1\n",
        "  mpl.rcParams['xtick.minor.size'] = 3\n",
        "  mpl.rcParams['xtick.minor.width'] = 1\n",
        "  mpl.rcParams['ytick.major.size'] = 6\n",
        "  mpl.rcParams['ytick.major.width'] = 1\n",
        "  mpl.rcParams['ytick.minor.size'] = 3\n",
        "  mpl.rcParams['ytick.minor.width'] = 1\n",
        "  mpl.rcParams['xtick.direction'] = 'in'\n",
        "  mpl.rcParams['ytick.direction'] = 'in'\n",
        "  mpl.rcParams['xtick.top'] = True\n",
        "  mpl.rcParams['ytick.right'] = True\n",
        "  mpl.rcParams['legend.fontsize'] = 'small'\n",
        "  mpl.rcParams['figure.figsize'] = (7, 5)\n",
        "  mpl.rcParams['savefig.bbox'] = 'tight'\n",
        "  mpl.rcParams['savefig.pad_inches'] = 0.1\n",
        "\n",
        "def plot_settings_3():\n",
        "  sns.reset_orig()\n",
        "  mpl.rcParams['font.size'] = 15.0\n",
        "  mpl.rcParams['lines.linewidth'] = 1.5\n",
        "  mpl.rcParams['lines.linestyle'] = '-'\n",
        "  mpl.rcParams['axes.linewidth'] = 1.0\n",
        "  mpl.rcParams['axes.labelsize'] = 16.0\n",
        "  mpl.rcParams['xtick.major.size'] = 6\n",
        "  mpl.rcParams['xtick.major.width'] = 1\n",
        "  mpl.rcParams['xtick.minor.size'] = 3\n",
        "  mpl.rcParams['xtick.minor.width'] = 1\n",
        "  mpl.rcParams['ytick.major.size'] = 6\n",
        "  mpl.rcParams['ytick.major.width'] = 1\n",
        "  mpl.rcParams['ytick.minor.size'] = 3\n",
        "  mpl.rcParams['ytick.minor.width'] = 1\n",
        "  mpl.rcParams['xtick.direction'] = 'in'\n",
        "  mpl.rcParams['ytick.direction'] = 'in'\n",
        "  mpl.rcParams['xtick.top'] = True\n",
        "  mpl.rcParams['ytick.right'] = True\n",
        "  mpl.rcParams['legend.fontsize'] = 'small'\n",
        "  mpl.rcParams['savefig.bbox'] = 'tight'\n",
        "  mpl.rcParams['savefig.pad_inches'] = 0.1\n",
        "\n"
      ],
      "execution_count": null,
      "outputs": []
    },
    {
      "cell_type": "markdown",
      "metadata": {
        "id": "bx88Fz9qNEb3"
      },
      "source": [
        "### TS values"
      ]
    },
    {
      "cell_type": "code",
      "metadata": {
        "id": "w_FWPHNfY7-c",
        "colab": {
          "base_uri": "https://localhost:8080/",
          "height": 1000
        },
        "outputId": "065bcd4b-0dfa-4183-a4a8-2d84b8b43feb"
      },
      "source": [
        "plot_setttings_1()\n",
        "\n",
        "def TS_plot(injection_spectra):\n",
        "\n",
        "  \"\"\"\n",
        "  Function that makes the results of the analysis ready to plot\n",
        "\n",
        "  input:\n",
        "  --------------\n",
        "  injection_spectra: 'integer' the injection spectra for which we find the extracted signal.\n",
        "\n",
        "  output:\n",
        "  --------------\n",
        "\n",
        "  total_T :\n",
        "  error_T : \n",
        "  total_injected :\n",
        "  total_recovered :\n",
        "  tot_error :\n",
        "  thresh_lum :\n",
        "  signal :\n",
        "\n",
        "  \"\"\"\n",
        "\n",
        "  \n",
        "  if injection_spectra == 2:\n",
        "    signal_strengts = np.logspace(-2,3,ss_steps)  \n",
        "  elif injection_spectra == 1:\n",
        "    signal_strengts = np.logspace(-2.8,2,ss_steps)  \n",
        "  else:\n",
        "    signal_strengts = np.logspace(-2.5,2.5,ss_steps)  \n",
        "\n",
        "  extracted = []\n",
        "  error = []\n",
        "\n",
        "  if all_injection_plots:\n",
        "    all_f_l = all_f_tot[injection_spectra]\n",
        "    all_f_Std_l = all_f_Std_tot[injection_spectra]\n",
        "    all_T_l = all_T_tot[injection_spectra]\n",
        "    all_T_std_l = all_T_std_tot[injection_spectra]\n",
        "  \n",
        "  else:\n",
        "    all_f_l = all_f\n",
        "    all_f_Std_l = all_f_Std\n",
        "    all_T_l = all_T\n",
        "    all_T_std_l = all_T_std\n",
        "\n",
        "\n",
        "\n",
        "  for i in all_f_l:\n",
        "    a = [x[-1] for x in i]\n",
        "    extracted.append(a)\n",
        "\n",
        "  for i in all_f_Std_l:\n",
        "    a = [x[-1] for x in i]\n",
        "    error.append(a)\n",
        "\n",
        "  extracted = np.array(extracted)\n",
        "  error = np.array(error)\n",
        "\n",
        "  ####### Converting to 11 energy bins #######\n",
        "  a = signals[injection_spectra]\n",
        "  signal_per_new_bin = []\n",
        "  for i in range(11):\n",
        "    j = 2+4*i\n",
        "    signal_per_new_bin.append(np.sum(a[j]) + np.sum(a[j+1]) + np.sum(a[j+2])+ np.sum(a[j+3]))\n",
        "\n",
        "\n",
        "  ####### Converting to Luminosity #######\n",
        "  erg = 1.602\n",
        "  total_T = np.sum(all_T_l, axis = 0)\n",
        "  error_T = np.sum(all_T_std_l, axis = 0)\n",
        "  signal_signal_per_new_bin = []\n",
        "  range_oi = 10*10 * (np.pi/180)**2\n",
        "\n",
        "  for i in range(46):\n",
        "    signal_signal_per_new_bin.append(np.mean(signals[injection_spectra][i])*(energies[i+1] - energies[i]) * 10**6 * range_oi * (energies[i+1] * energies[i])**0.5 * erg * 4 * np.pi * Sun_to_centrum**2 )\n",
        "\n",
        "  #### Total signal\n",
        "  signal = np.sum(signal_signal_per_new_bin)\n",
        "  #### In 11 energy bins\n",
        "  signal_per_new_bin = [np.sum(signal_signal_per_new_bin[2 + 4*i:4*i+6]) for i in range(11)]\n",
        "\n",
        "\n",
        "  #### multiplying the signal with the normalisation factors #####\n",
        "  total_injected = np.sum([signal_strengts * signal_per_new_bin[i] for i in range(11)] ,axis = 0)\n",
        "  total_recovered = np.sum([extracted[i] * signal_per_new_bin[i] for i in range(11)] ,axis = 0)\n",
        "  tot_error = np.sum([error[i] * signal_per_new_bin[i] for i in range(11)] ,axis = 0)\n",
        "\n",
        "\n",
        "  ##### find Threshhold luminosity\n",
        "  thresh_lum = 0\n",
        "  for i,T in enumerate(total_T):\n",
        "    if T> 41:\n",
        "      thresh_lum = total_injected[i-1]\n",
        "      print (signal_strengts[i-1])\n",
        "      break\n",
        "  print (thresh_lum)\n",
        "\n",
        "  return total_T, error_T, total_injected, total_recovered, tot_error, thresh_lum,signal,extracted\n",
        "\n",
        "\n",
        "\n",
        "if all_injection_plots:\n",
        "  fig,ax = plt.subplots(5,2,figsize= (16,25)) \n",
        "\n",
        "  for injection_spectra in range(5):\n",
        "      \n",
        "    if injection_spectra == 2:\n",
        "      signal_strengts = np.logspace(-2,3,ss_steps)  \n",
        "    elif injection_spectra == 1:\n",
        "      signal_strengts = np.logspace(-2.8,2,ss_steps)  \n",
        "    else:\n",
        "      signal_strengts = np.logspace(-2.5,2.5,ss_steps)   \n",
        "\n",
        "    total_T, error_T, total_injected, total_recovered, tot_error, thresh_lum,signal,extracted = TS_plot(injection_spectra)\n",
        "\n",
        "    ax[injection_spectra][0].plot(signal_strengts * signal, total_T)\n",
        "    ax[injection_spectra][0].fill_between(signal_strengts * signal, total_T-error_T, total_T+error_T, alpha = 0.5)\n",
        "    ax[injection_spectra][0].set_xscale('log')\n",
        "    ax[injection_spectra][0].set_yscale('log')\n",
        "    ax[injection_spectra][0].axhline(41, linestyle = ':', color = 'g')\n",
        "    #ax[injection_spectra][0].set_xlabel(r'Injected Luminosity [erg/s] )')\n",
        "    ax[injection_spectra][0].set_ylabel('Test statistic')\n",
        "\n",
        "    ax[injection_spectra][0].annotate('$5\\sigma$ significance ', (float(1.65 * 10**35), 44), size = 13)\n",
        "\n",
        "\n",
        "    ax[injection_spectra][0].set_xlim(float(1.5 * 10**34),float(10**38))\n",
        "    \n",
        "    if injection_spectra ==0:\n",
        "      ax[injection_spectra][1].plot(total_injected,total_injected, color = 'r', alpha = 1, label = 'Baseline')\n",
        "    else:\n",
        "      ax[injection_spectra][1].plot(total_injected,total_injected, color = 'r', alpha = 1, label = f'Inj{injection_spectra}')\n",
        "\n",
        "\n",
        "\n",
        "    ax[injection_spectra][1].plot(total_injected,total_injected, color = 'r', alpha = 0.5)\n",
        "    ax[injection_spectra][1].fill_between(total_injected, (total_recovered - tot_error), (total_recovered + tot_error), alpha = 0.5)\n",
        "    ax[injection_spectra][1].set(yscale ='log', xscale = 'log')\n",
        "    ax[injection_spectra][1].axvline(thresh_lum, color = 'g', linestyle = ':',label= '$5\\sigma$ significance')\n",
        "    #ax[injection_spectra][1].set_xlabel(r'Injected Luminosity [erg/s]')\n",
        "    ax[injection_spectra][1].set_ylabel(r'Recovered Luminosity[erg/s]')\n",
        "    #ax1.set_ylim(33,37)\n",
        "    ax[injection_spectra][1].legend(loc = 2)\n",
        "    ax[injection_spectra][1].set_xlim(float(1.5 * 10**34),float(10**38))\n",
        "    ax[injection_spectra][1].set_ylim(float(1.5 * 10**34),float(10**38))\n",
        "    \n",
        "\n",
        "  ax[4][1].set_xlabel(r'Injected Luminosity [erg/s]')\n",
        "  ax[4][0].set_xlabel(r'Injected Luminosity [erg/s]')\n",
        "\n",
        "\n",
        "  if Fermi_min:\n",
        "    if mismodelling:\n",
        "      title = r'FB$_{\\rm min}$, mismodeling of the GDE'\n",
        "    else:\n",
        "      title = r'FB$_{\\rm min}$, Perfect GDE'\n",
        "  else:\n",
        "    if mismodelling:\n",
        "      title = r'FB$_{\\rm max}$, mismodeling of the GDE'\n",
        "    else:\n",
        "      title = r'FB$_{\\rm max}$, Perfect GDE'\n",
        "\n",
        "\n",
        "  fig.suptitle(title,y=0.90, fontsize=20)\n",
        "\n",
        "  plt.savefig(f\"all_TS_mis={mismodelling}_Fermi_min={Fermi_min}.pdf\",bbox_inches='tight')\n",
        "  plt.show()\n",
        "\n",
        "else: \n",
        "\n",
        "  if injection_spectra == 2:\n",
        "    signal_strengts = np.logspace(-2,3,ss_steps)  \n",
        "  elif injection_spectra == 1:\n",
        "    signal_strengts = np.logspace(-2.8,2,ss_steps)  \n",
        "  else:\n",
        "    signal_strengts = np.logspace(-2.5,2.5,ss_steps)  \n",
        "\n",
        "  fig,ax = plt.subplots(1,2,figsize= (16,5)) \n",
        "  total_T, error_T, total_injected, total_recovered, tot_error, thresh_lum, signal,extracted = TS_plot(At_injection_spectra)\n",
        "  ax[0].plot(signal_strengts * signal, total_T, color = 'b')\n",
        "  ax[0].fill_between(signal_strengts * signal, total_T-error_T, total_T+error_T, alpha = 0.5)\n",
        "  ax[0].set_xscale('log')\n",
        "  ax[0].set_yscale('log')\n",
        "  ax[0].axhline(41, linestyle = ':', color = 'g')\n",
        "  #ax[injection_spectra][0].set_xlabel(r'Injected Luminosity [erg/s] )')\n",
        "  ax[0].set_ylabel('Test statistic')\n",
        "\n",
        "  ax[0].annotate('$5\\sigma$ significance ', (float(1.65 * 10**35), 44), size = 13)\n",
        "\n",
        "\n",
        "  ax[0].set_xlim(float(1.5 * 10**34),float(10**38))\n",
        "\n",
        "  if injection_spectra ==0:\n",
        "    ax[1].plot(total_injected,total_injected, color = 'r', alpha = 1, label = 'Baseline')\n",
        "  else:\n",
        "    ax[1].plot(total_injected,total_injected, color = 'r', alpha = 1, label = f'Inj{injection_spectra}')\n",
        "\n",
        "\n",
        "\n",
        "  ax[1].plot(total_injected,total_injected, color = 'r', alpha = 0.5)\n",
        "  ax[1].fill_between(total_injected, (total_recovered - tot_error), (total_recovered + tot_error), alpha = 0.5)\n",
        "  ax[1].set(yscale ='log', xscale = 'log')\n",
        "  if thresh_lum != 0:\n",
        "    ax[1].axvline(thresh_lum, color = 'g', linestyle = ':',label= '$5\\sigma$ significance')\n",
        "  else:\n",
        "    pass\n",
        "  #ax[injection_spectra][1].set_xlabel(r'Injected Luminosity [erg/s]')\n",
        "  ax[1].set_ylabel(r'Recovered Luminosity[erg/s]')\n",
        "  #ax1.set_ylim(33,37)\n",
        "  ax[1].legend(loc = 2)\n",
        "  ax[1].set_xlim(float(1.5 * 10**34),float(10**38))\n",
        "  ax[1].set_ylim(float(1.5 * 10**34),float(10**38))\n",
        "\n",
        "\n",
        "  ax[1].set_xlabel(r'Injected Luminosity [erg/s]')\n",
        "  ax[0].set_xlabel(r'Injected Luminosity [erg/s]')\n",
        "\n",
        "\n",
        "  if Fermi_min:\n",
        "    if mismodelling:\n",
        "      title = r'FB$_{\\rm min}$, mismodeling of the GDE'\n",
        "    else:\n",
        "      title = r'FB$_{\\rm min}$, Perfect GDE'\n",
        "  else:\n",
        "    if mismodelling:\n",
        "      title = r'FB$_{\\rm max}$, mismodeling of the GDE'\n",
        "    else:\n",
        "      title = r'FB$_{\\rm max}$, Perfect GDE'\n",
        "\n",
        "\n",
        "  fig.suptitle(title, fontsize=20)\n",
        "\n",
        "  plt.savefig(f\"all_TS_mis={mismodelling}_Fermi_min={Fermi_min}.pdf\",bbox_inches='tight')\n",
        "  plt.show()\n",
        "\n",
        "  \n"
      ],
      "execution_count": null,
      "outputs": [
        {
          "output_type": "stream",
          "text": [
            "0.5512889788770678\n",
            "8.520333401390866e+35\n",
            "0.15353482437682273\n",
            "4.272064596350383e+35\n",
            "18.873918221350976\n",
            "2.1776381363145643e+36\n",
            "1.2195704601594415\n",
            "1.6347260444600895e+36\n",
            "0.5512889788770678\n",
            "8.660503212602166e+35\n"
          ],
          "name": "stdout"
        },
        {
          "output_type": "display_data",
          "data": {
            "image/png": "[encoded data removed]",
            "text/plain": [
              "<Figure size 1152x1800 with 10 Axes>"
            ]
          },
          "metadata": {
            "tags": [],
            "needs_background": "light"
          }
        }
      ]
    },
    {
      "cell_type": "code",
      "metadata": {
        "id": "SefEE-qw7kLY",
        "colab": {
          "base_uri": "https://localhost:8080/"
        },
        "outputId": "5b836450-86cf-4a9b-d7c6-d969fb037315"
      },
      "source": [
        "print (signal_strengts[13])"
      ],
      "execution_count": null,
      "outputs": [
        {
          "output_type": "stream",
          "text": [
            "0.5512889788770678\n"
          ],
          "name": "stdout"
        }
      ]
    },
    {
      "cell_type": "code",
      "metadata": {
        "id": "UaPaJRHb3eVa",
        "colab": {
          "base_uri": "https://localhost:8080/"
        },
        "outputId": "8ccff8dd-0711-4bca-8c39-b771d0ec56e5"
      },
      "source": [
        "####### Converting to Luminosity #######\n",
        "erg = 1.602\n",
        "signal_signal_per_new_bin = []\n",
        "range_oi = 10*10 * (np.pi/180)**2\n",
        "injection_spectra = 1\n",
        "\n",
        "for i in range(46):\n",
        "  signal_signal_per_new_bin.append(np.mean(signals[injection_spectra][i])*(energies[i+1] - energies[i]) * 10**6 * range_oi * (energies[i+1] * energies[i])**0.5 * erg * 4 * np.pi * Sun_to_centrum**2 )\n",
        "\n",
        "#### Total signal\n",
        "signal = np.sum(signal_signal_per_new_bin)\n",
        "#### In 11 energy bins\n",
        "signal_per_new_bin = [np.sum(signal_signal_per_new_bin[2 + 4*i:4*i+6]) for i in range(11)]\n",
        "\n",
        "\n",
        "#### multiplying the signal with the normalisation factors #####\n",
        "total_injected = np.sum([signal_per_new_bin[i] for i in range(11)] ,axis = 0)\n",
        "\n",
        "print (total_injected)"
      ],
      "execution_count": null,
      "outputs": [
        {
          "output_type": "stream",
          "text": [
            "2.782472715027435e+36\n"
          ],
          "name": "stdout"
        }
      ]
    },
    {
      "cell_type": "markdown",
      "metadata": {
        "id": "NsD6wiAaqAIQ"
      },
      "source": [
        "### Plot for the dark matter case:"
      ]
    },
    {
      "cell_type": "code",
      "metadata": {
        "id": "PDyQNfu2H_1L"
      },
      "source": [
        "if dark_matter_s:\n",
        "  \n",
        "  extracted = []\n",
        "  error = []\n",
        "  for i in all_f:\n",
        "    a = [x[-1] for x in i]\n",
        "    extracted.append(a)\n",
        "\n",
        "  dm_extracted = []\n",
        "  error2 = []\n",
        "  for i in all_f:\n",
        "    a = [x[-2] for x in i]\n",
        "    dm_extracted.append(a)\n",
        "\n",
        "\n",
        "  for i in all_f_Std:\n",
        "    a = [x[-1] for x in i]\n",
        "    error.append(a)\n",
        "\n",
        "  for i in all_f_Std:\n",
        "    a = [x[-2] for x in i]\n",
        "    error2.append(a)\n",
        "\n",
        "  extracted = np.array(extracted)\n",
        "  dm_extracted = np.array(dm_extracted)\n",
        "  error = np.array(error)\n",
        "  error2 = np.array(error2)\n",
        "\n",
        "  a = signals[injection_spectra]\n",
        "  signal_per_new_bin = []\n",
        "  for i in range(11):\n",
        "    j = 2+4*i\n",
        "    signal_per_new_bin.append(np.sum(a[j]) + np.sum(a[j+1]) + np.sum(a[j+2])+ np.sum(a[j+3]))\n",
        "\n",
        "  erg = 1.602\n",
        "\n",
        "  total_T = np.sum(all_T, axis = 0)\n",
        "  error_T = np.sum(all_T_std, axis = 0)\n",
        "\n",
        "  signal_signal_per_new_bin = []\n",
        "  dm_per_new_bin = []\n",
        "  range_oi = 10*10 * (np.pi/180)**2\n",
        "\n",
        "\n",
        "\n",
        "  for i in range(46):\n",
        "    signal_signal_per_new_bin.append(np.mean(signals[injection_spectra][i])*(energies[i+1] - energies[i]) * 10**6 * range_oi * (energies[i+1] * energies[i])**0.5 * erg * 4 * np.pi * Sun_to_centrum**2 )\n",
        "\n",
        "\n",
        "  for i in range(46):\n",
        "    dm_per_new_bin.append(np.mean(dark_matter[i])*(energies[i+1] - energies[i]) * 10**6 * range_oi * (energies[i+1] * energies[i])**0.5 * erg * 4 * np.pi * Sun_to_centrum**2 )\n",
        "\n",
        "\n",
        "  signal = np.sum(signal_signal_per_new_bin)\n",
        "  signal_per_new_bin = [np.sum(signal_signal_per_new_bin[2 + 4*i:4*i+6]) for i in range(11)]\n",
        "  dm_signal_per_new_bin = [np.sum(signal_signal_per_new_bin[2 + 4*i:4*i+6]) for i in range(11)]\n",
        "\n",
        "  total_injected = np.sum([signal_strengts * signal_per_new_bin[i] for i in range(11)] ,axis = 0)\n",
        "  total_recovered = np.sum([extracted[i] * signal_per_new_bin[i] for i in range(11)] ,axis = 0)\n",
        "  dm_recovered = np.sum([dm_extracted[i] * dm_signal_per_new_bin[i] for i in range(11)] ,axis = 0)\n",
        "  tot_error = np.sum([error[i] * signal_per_new_bin[i] for i in range(11)] ,axis = 0)\n",
        "  tot_error2 = np.sum([error2[i] * dm_signal_per_new_bin[i] for i in range(11)] ,axis = 0)\n",
        "\n",
        "\n",
        "\n",
        "\n",
        "  print (f\"The plot for MC = {MC_times} and injection spectra {injection_spectra}\")\n",
        "\n",
        "  plot_settings_2()\n",
        "\n",
        "  fig,[ax,ax1] = plt.subplots(1,2,figsize= (18,6)) \n",
        "  ax.plot(signal_strengts * signal, total_T, color = 'g')\n",
        "  ax.fill_between(signal_strengts * signal, total_T-error_T, total_T+error_T, color = 'g', alpha = 0.4)\n",
        "  ax.set_xscale('log')\n",
        "  ax.set_yscale('log')\n",
        "  ax.axhline(41, linestyle = ':', color = 'g', label = \"Detection threshold ($5\\sigma$)\")\n",
        "  ax.set_xlabel(r'Injected Luminosity [erg/s] )')\n",
        "  ax.set_ylabel('Test statistic')\n",
        "  ax.set_xlim(float(1.5 * 10**35),float(10**38))\n",
        "  ax.legend()\n",
        "\n",
        "  ax1.fill_between(total_injected, (total_recovered - tot_error), (total_recovered + tot_error), alpha = 0.5)\n",
        "  ax1.plot(total_injected,total_injected, label = 'injected signal', color = 'r')\n",
        "  ax1.plot(total_injected,total_recovered, label = 'recovered MSP signal', color = 'blue', alpha = 0.5)\n",
        "  \n",
        "  ax1.fill_between(total_injected, (dm_recovered - tot_error2), (dm_recovered + tot_error2), alpha = 0.4, color = 'g')\n",
        "  ax1.plot(total_injected,dm_recovered, label = 'Recovered DM signal', color = 'g')\n",
        "  ax1.set(yscale ='log', xscale = 'log')\n",
        "  ax1.set_xlabel(r'Injected Luminosity [erg/s]')\n",
        "  ax1.set_ylabel(r'Recovered Luminosity[erg/s]')\n",
        "  ax1.set_xlim(float(1.5 * 10**35),float(10**38))\n",
        "  ax1.set_ylim(float(1.5 * 10**35),float(10**38))\n",
        "  ax1.legend()\n",
        "\n",
        "  if Fermi_min:\n",
        "    if mismodelling:\n",
        "      title = r'FB$_{\\rm min}$, mismodeling of the GDE'\n",
        "    else:\n",
        "      title = r'FB$_{\\rm min}$, Perfect GDE'\n",
        "  else:\n",
        "    if mismodelling:\n",
        "      title = r'FB$_{\\rm max}$, mismodeling of the GDE'\n",
        "    else:\n",
        "      title = r'FB$_{\\rm max}$, Perfect GDE'\n",
        "\n",
        "\n",
        "  fig.suptitle(title, fontsize=20)\n",
        "\n",
        "\n",
        "  plt.savefig(f\"TS_dm_mis={mismodelling}_Fermi_min={Fermi_min}.pdf\",bbox_inches='tight')\n",
        "  plt.show()\n"
      ],
      "execution_count": null,
      "outputs": []
    },
    {
      "cell_type": "markdown",
      "metadata": {
        "id": "Uf845IZyNF3N"
      },
      "source": [
        "### Recovered per energy bin"
      ]
    },
    {
      "cell_type": "markdown",
      "metadata": {
        "id": "lla4xodCIFuh"
      },
      "source": [
        "## Fluxes"
      ]
    },
    {
      "cell_type": "markdown",
      "metadata": {
        "id": "uHDLFbrFI-Ui"
      },
      "source": [
        "### Signal plot\n"
      ]
    },
    {
      "cell_type": "code",
      "metadata": {
        "id": "2x4bGS70MP7E",
        "colab": {
          "base_uri": "https://localhost:8080/",
          "height": 976
        },
        "outputId": "32331086-ec5f-47d4-ab52-8637391a88d0"
      },
      "source": [
        "def signal_plot(injection_spectra):\n",
        "\n",
        "  \"\"\"\n",
        "  Function that finds the extracted signal strength per energy bin. \n",
        "\n",
        "  input:\n",
        "  --------------\n",
        "  injection_spectra: 'integer' the injection spectra for which we find the extracted signal.\n",
        "\n",
        "  output:\n",
        "  --------------\n",
        "\n",
        "  SI_l : '1*11 array'     array with the injected signal strength per energy bin.\n",
        "  lower_l : '1*11 array'  the lower limit of the extracted signal.\n",
        "  upper_l : '1*11 array'  the upper limit of the extracted signal.\n",
        "\n",
        "  \"\"\"\n",
        "\n",
        "  extracted = []\n",
        "  error = []\n",
        "\n",
        "  if all_injection_plots:\n",
        "    all_f_l = all_f_tot[injection_spectra]\n",
        "    all_f_Std_l = all_f_Std_tot[injection_spectra]\n",
        "  else:\n",
        "    all_f_l = all_f \n",
        "    all_f_Std_l = all_f_Std\n",
        "  \n",
        "  for i in range(len(all_f_l)):\n",
        "    extracted.append([x[-1] for x in all_f_l[i]])\n",
        "    error.append([x[-1] for x in all_f_Std_l[i]])\n",
        "\n",
        "  extracted = np.array(extracted)\n",
        "  error = np.array(error)\n",
        "\n",
        "  if injection_spectra == 2:\n",
        "    signal_strengts = np.logspace(-2,3,ss_steps)  \n",
        "  elif injection_spectra == 1:\n",
        "    signal_strengts = np.logspace(-2.8,2,ss_steps)  \n",
        "  else:\n",
        "    signal_strengts = np.logspace(-2.5,2.5,ss_steps)  \n",
        "\n",
        "\n",
        "  total_T = np.sum(all_T, axis = 0)\n",
        "  \n",
        "  for i,T in enumerate(total_T):\n",
        "    if T > 41:\n",
        "      signal_bin = i\n",
        "      break\n",
        "  SI_l = []\n",
        "  for i in range(47):\n",
        "    S1 = np.mean((signals[injection_spectra][i])) * energies[i]**2 * 10**6 * signal_strengts[signal_bin]\n",
        "    SI_l.append(S1)\n",
        "    #\n",
        "  SI_l2 = []\n",
        "  SI_le = []\n",
        "  for energy_bin in range(11):\n",
        "    j = 1+energy_bin*4\n",
        "    S1 = (np.mean(signals[injection_spectra][j]) * energies[j]**2 + np.mean(signals[injection_spectra][j+1]) * energies[j+1]**2\n",
        "          + np.mean(signals[injection_spectra][j+2]) * energies[j+2]**2 + np.mean(signals[injection_spectra][j+3]) * energies[j+3]**2) /4 * 10**6 * extracted[energy_bin][signal_bin]\n",
        "    SI_l2.append(S1)\n",
        "\n",
        "    S1_e = (np.mean(signals[injection_spectra][j]) * energies[j]**2 + np.mean(signals[injection_spectra][j+1]) * energies[j+1]**2\n",
        "        + np.mean(signals[injection_spectra][j+2]) * energies[j+2]**2 + np.mean(signals[injection_spectra][j+3]) * energies[j+3]**2) /4 * 10**6 * error[energy_bin][signal_bin]\n",
        "    SI_le.append(S1_e)\n",
        "\n",
        "  upper_l = []\n",
        "  lower_l = []\n",
        "  for i in range(len(new_energies)):\n",
        "    upper_l.append(SI_l2[i] + SI_le[i])\n",
        "    lower_l.append(SI_l2[i] - SI_le[i])\n",
        "\n",
        "  return SI_l, lower_l, upper_l\n",
        "\n",
        "plot_settings_2()\n",
        "\n",
        "\n",
        "\n",
        "if all_injection_plots:\n",
        "  plot_settings_3()\n",
        "  fig, ax = plt.subplots(3,2,figsize = (15,16))\n",
        "  for injection_spectra in range(5):\n",
        "\n",
        "    SI_l, lower_l, upper_l = signal_plot(injection_spectra)\n",
        "    if injection_spectra == 0:\n",
        "      ax[injection_spectra//2][injection_spectra % 2].plot(energies,SI_l, label = f'injected baseline signal', color = 'r')\n",
        "\n",
        "\n",
        "    else:\n",
        "      ax[injection_spectra//2][injection_spectra % 2].plot(energies,SI_l, label = f'injected signal {injection_spectra}',color = 'r')\n",
        "    ax[injection_spectra//2][injection_spectra % 2].fill_between(new_energies, lower_l, upper_l, alpha = 0.5, label = f'extracted signal')\n",
        "\n",
        "    ax[injection_spectra//2][injection_spectra % 2].set_ylim(10**-13,10**-7)\n",
        "    ax[injection_spectra//2][injection_spectra % 2].set_xlim(0.04,150)\n",
        "    ax[injection_spectra//2][injection_spectra % 2].set_yscale('log')\n",
        "    ax[injection_spectra//2][injection_spectra % 2].set_xscale('log')\n",
        "    ax[2][0].set_xlabel(r'Energy [TeV]')\n",
        "    ax[1][1].set_xlabel(r'Energy [TeV]')\n",
        "    if injection_spectra % 2 == 0:\n",
        "      ax[injection_spectra//2][injection_spectra % 2].set_ylabel(r'E$^{2}$ dN/dE [TeV cm$^{-2}$ s$^{-1}$ sr$^{-1}]$')\n",
        "    ax[injection_spectra//2][injection_spectra % 2].legend()\n",
        "  \n",
        "  if Fermi_min:\n",
        "    if mismodelling:\n",
        "      title = r'FB$_{\\rm min}$, mismodeling of the GDE'\n",
        "    else:\n",
        "      title = r'FB$_{\\rm min}$, Perfect GDE'\n",
        "  else:\n",
        "    if mismodelling:\n",
        "      title = r'FB$_{\\rm max}$, mismodeling of the GDE'\n",
        "    else:\n",
        "      title = r'FB$_{\\rm max}$, Perfect GDE'\n",
        "\n",
        "  \n",
        "  fig.suptitle(title,y=0.91, fontsize=20)\n",
        "  fig.delaxes(ax[2][1])\n",
        "\n",
        "else:\n",
        "  plot_settings_2()\n",
        "  fig, ax = plt.subplots(1,1,figsize = (10,7))\n",
        "  SI_l, lower_l, upper_l = signal_plot(At_injection_spectra)\n",
        "  ax.plot(energies,SI_l, label = f'injected signal {injection_spectra}')\n",
        "  ax.fill_between(new_energies, lower_l, upper_l, alpha = 0.5, label = f'extracted signal {injection_spectra}')\n",
        "\n",
        "  ax.set_ylim(10**-13,10**-7)\n",
        "  ax.set_xlim(0.04,150)\n",
        "  ax.set_yscale('log')\n",
        "  ax.set_xscale('log')\n",
        "  ax.set_ylabel(r'E$^{2}$ dN/dE [TeV cm$^{-2}$ s$^{-1}$ sr$^{-1}]$')\n",
        "  ax.set_xlabel(r'Energy [TeV]')\n",
        "plt.legend()\n",
        "\n",
        "if all_injection_plots:\n",
        "  plt.savefig(f\"all_signal_spectra_mis={mismodelling}_Fermi_min-{Fermi_min}.pdf\", bbox_inches = 'tight')\n",
        "else:\n",
        "  plt.savefig(f\"signal_{At_injection_spectra}_spectra.pdf\", bbox_inches = 'tight')\n",
        "\n",
        "plt.show()\n",
        "\n",
        "\n",
        "\n"
      ],
      "execution_count": null,
      "outputs": [
        {
          "output_type": "display_data",
          "data": {
            "image/png": "[encoded data removed]",
            "text/plain": [
              "<Figure size 1080x1152 with 5 Axes>"
            ]
          },
          "metadata": {
            "tags": [],
            "needs_background": "light"
          }
        }
      ]
    },
    {
      "cell_type": "code",
      "metadata": {
        "id": "hUYJ1HMwCYxE",
        "colab": {
          "base_uri": "https://localhost:8080/"
        },
        "outputId": "32c1d3c8-711a-42e5-f836-0035bf6ffb8f"
      },
      "source": [
        "3%2\n"
      ],
      "execution_count": null,
      "outputs": [
        {
          "output_type": "execute_result",
          "data": {
            "text/plain": [
              "1"
            ]
          },
          "metadata": {
            "tags": []
          },
          "execution_count": 164
        }
      ]
    }
  ]
}