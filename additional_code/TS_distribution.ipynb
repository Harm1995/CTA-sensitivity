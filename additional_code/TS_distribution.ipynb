{
  "nbformat": 4,
  "nbformat_minor": 0,
  "metadata": {
    "colab": {
      "name": "TS_distribution.ipynb",
      "provenance": [],
      "collapsed_sections": [
        "EBr00oeBTslt",
        "tD174Kr5VpdJ",
        "Uk1h3jpYBvPM"
      ],
      "toc_visible": true,
      "mount_file_id": "1F9ew89rxBz85Ltop5V8o-R5ctsFzYOGq",
      "authorship_tag": "ABX9TyOWyIW73HK+2upa0vylHZJa",
      "include_colab_link": true
    },
    "kernelspec": {
      "name": "python3",
      "display_name": "Python 3"
    },
    "widgets": {
      "application/vnd.jupyter.widget-state+json": {
        "6217971b68ee44448a12d453bfdfed5f": {
          "model_module": "@jupyter-widgets/controls",
          "model_name": "HBoxModel",
          "state": {
            "_view_name": "HBoxView",
            "_dom_classes": [],
            "_model_name": "HBoxModel",
            "_view_module": "@jupyter-widgets/controls",
            "_model_module_version": "1.5.0",
            "_view_count": null,
            "_view_module_version": "1.5.0",
            "box_style": "",
            "layout": "IPY_MODEL_7d1520ddaf5b44199da6df9dcb9f422c",
            "_model_module": "@jupyter-widgets/controls",
            "children": [
              "IPY_MODEL_3e7808a0271f4104b8dd0529c3b83298",
              "IPY_MODEL_46739cba74554385b32879518fdd5ce2"
            ]
          }
        },
        "7d1520ddaf5b44199da6df9dcb9f422c": {
          "model_module": "@jupyter-widgets/base",
          "model_name": "LayoutModel",
          "state": {
            "_view_name": "LayoutView",
            "grid_template_rows": null,
            "right": null,
            "justify_content": null,
            "_view_module": "@jupyter-widgets/base",
            "overflow": null,
            "_model_module_version": "1.2.0",
            "_view_count": null,
            "flex_flow": null,
            "width": null,
            "min_width": null,
            "border": null,
            "align_items": null,
            "bottom": null,
            "_model_module": "@jupyter-widgets/base",
            "top": null,
            "grid_column": null,
            "overflow_y": null,
            "overflow_x": null,
            "grid_auto_flow": null,
            "grid_area": null,
            "grid_template_columns": null,
            "flex": null,
            "_model_name": "LayoutModel",
            "justify_items": null,
            "grid_row": null,
            "max_height": null,
            "align_content": null,
            "visibility": null,
            "align_self": null,
            "height": null,
            "min_height": null,
            "padding": null,
            "grid_auto_rows": null,
            "grid_gap": null,
            "max_width": null,
            "order": null,
            "_view_module_version": "1.2.0",
            "grid_template_areas": null,
            "object_position": null,
            "object_fit": null,
            "grid_auto_columns": null,
            "margin": null,
            "display": null,
            "left": null
          }
        },
        "3e7808a0271f4104b8dd0529c3b83298": {
          "model_module": "@jupyter-widgets/controls",
          "model_name": "FloatProgressModel",
          "state": {
            "_view_name": "ProgressView",
            "style": "IPY_MODEL_bfc8ea7c92224bf49f9f872b44fe53e1",
            "_dom_classes": [],
            "description": "100%",
            "_model_name": "FloatProgressModel",
            "bar_style": "success",
            "max": 1000,
            "_view_module": "@jupyter-widgets/controls",
            "_model_module_version": "1.5.0",
            "value": 1000,
            "_view_count": null,
            "_view_module_version": "1.5.0",
            "orientation": "horizontal",
            "min": 0,
            "description_tooltip": null,
            "_model_module": "@jupyter-widgets/controls",
            "layout": "IPY_MODEL_04083055583a4c60ae147a46cccf0fe7"
          }
        },
        "46739cba74554385b32879518fdd5ce2": {
          "model_module": "@jupyter-widgets/controls",
          "model_name": "HTMLModel",
          "state": {
            "_view_name": "HTMLView",
            "style": "IPY_MODEL_4b9ad4f7e04045df9f64b084d4391009",
            "_dom_classes": [],
            "description": "",
            "_model_name": "HTMLModel",
            "placeholder": "​",
            "_view_module": "@jupyter-widgets/controls",
            "_model_module_version": "1.5.0",
            "value": " 1000/1000 [1:16:46&lt;00:00,  4.61s/it]",
            "_view_count": null,
            "_view_module_version": "1.5.0",
            "description_tooltip": null,
            "_model_module": "@jupyter-widgets/controls",
            "layout": "IPY_MODEL_03310583654645c18ffe4bb62099bc2b"
          }
        },
        "bfc8ea7c92224bf49f9f872b44fe53e1": {
          "model_module": "@jupyter-widgets/controls",
          "model_name": "ProgressStyleModel",
          "state": {
            "_view_name": "StyleView",
            "_model_name": "ProgressStyleModel",
            "description_width": "initial",
            "_view_module": "@jupyter-widgets/base",
            "_model_module_version": "1.5.0",
            "_view_count": null,
            "_view_module_version": "1.2.0",
            "bar_color": null,
            "_model_module": "@jupyter-widgets/controls"
          }
        },
        "04083055583a4c60ae147a46cccf0fe7": {
          "model_module": "@jupyter-widgets/base",
          "model_name": "LayoutModel",
          "state": {
            "_view_name": "LayoutView",
            "grid_template_rows": null,
            "right": null,
            "justify_content": null,
            "_view_module": "@jupyter-widgets/base",
            "overflow": null,
            "_model_module_version": "1.2.0",
            "_view_count": null,
            "flex_flow": null,
            "width": null,
            "min_width": null,
            "border": null,
            "align_items": null,
            "bottom": null,
            "_model_module": "@jupyter-widgets/base",
            "top": null,
            "grid_column": null,
            "overflow_y": null,
            "overflow_x": null,
            "grid_auto_flow": null,
            "grid_area": null,
            "grid_template_columns": null,
            "flex": null,
            "_model_name": "LayoutModel",
            "justify_items": null,
            "grid_row": null,
            "max_height": null,
            "align_content": null,
            "visibility": null,
            "align_self": null,
            "height": null,
            "min_height": null,
            "padding": null,
            "grid_auto_rows": null,
            "grid_gap": null,
            "max_width": null,
            "order": null,
            "_view_module_version": "1.2.0",
            "grid_template_areas": null,
            "object_position": null,
            "object_fit": null,
            "grid_auto_columns": null,
            "margin": null,
            "display": null,
            "left": null
          }
        },
        "4b9ad4f7e04045df9f64b084d4391009": {
          "model_module": "@jupyter-widgets/controls",
          "model_name": "DescriptionStyleModel",
          "state": {
            "_view_name": "StyleView",
            "_model_name": "DescriptionStyleModel",
            "description_width": "",
            "_view_module": "@jupyter-widgets/base",
            "_model_module_version": "1.5.0",
            "_view_count": null,
            "_view_module_version": "1.2.0",
            "_model_module": "@jupyter-widgets/controls"
          }
        },
        "03310583654645c18ffe4bb62099bc2b": {
          "model_module": "@jupyter-widgets/base",
          "model_name": "LayoutModel",
          "state": {
            "_view_name": "LayoutView",
            "grid_template_rows": null,
            "right": null,
            "justify_content": null,
            "_view_module": "@jupyter-widgets/base",
            "overflow": null,
            "_model_module_version": "1.2.0",
            "_view_count": null,
            "flex_flow": null,
            "width": null,
            "min_width": null,
            "border": null,
            "align_items": null,
            "bottom": null,
            "_model_module": "@jupyter-widgets/base",
            "top": null,
            "grid_column": null,
            "overflow_y": null,
            "overflow_x": null,
            "grid_auto_flow": null,
            "grid_area": null,
            "grid_template_columns": null,
            "flex": null,
            "_model_name": "LayoutModel",
            "justify_items": null,
            "grid_row": null,
            "max_height": null,
            "align_content": null,
            "visibility": null,
            "align_self": null,
            "height": null,
            "min_height": null,
            "padding": null,
            "grid_auto_rows": null,
            "grid_gap": null,
            "max_width": null,
            "order": null,
            "_view_module_version": "1.2.0",
            "grid_template_areas": null,
            "object_position": null,
            "object_fit": null,
            "grid_auto_columns": null,
            "margin": null,
            "display": null,
            "left": null
          }
        }
      }
    }
  },
  "cells": [
    {
      "cell_type": "markdown",
      "metadata": {
        "id": "view-in-github",
        "colab_type": "text"
      },
      "source": [
        "<a href=\"https://colab.research.google.com/github/Harm1995/CTA-sensitivity/blob/master/TS_distribution.ipynb\" target=\"_parent\"><img src=\"https://colab.research.google.com/assets/colab-badge.svg\" alt=\"Open In Colab\"/></a>"
      ]
    },
    {
      "cell_type": "markdown",
      "metadata": {
        "id": "zxCHnzgSToXK",
        "colab_type": "text"
      },
      "source": [
        "# The packages"
      ]
    },
    {
      "cell_type": "code",
      "metadata": {
        "id": "w23lGxAMK3Gn",
        "colab_type": "code",
        "colab": {}
      },
      "source": [
        "try:\n",
        "  import iminuit\n",
        "  from iminuit import Minuit\n",
        "\n",
        "except:\n",
        "  !pip install iminuit"
      ],
      "execution_count": 2,
      "outputs": []
    },
    {
      "cell_type": "code",
      "metadata": {
        "id": "K_2h3yI7Thl-",
        "colab_type": "code",
        "colab": {
          "base_uri": "https://localhost:8080/",
          "height": 51
        },
        "outputId": "b79880a7-ee95-44c6-fde0-2d0fa59f528b"
      },
      "source": [
        "import matplotlib.pyplot as plt\n",
        "import numpy as np\n",
        "import pandas as pd \n",
        "import random\n",
        "import scipy\n",
        "from scipy.stats import norm\n",
        "import astropy\n",
        "from astropy.io import fits\n",
        "import seaborn as sns\n",
        "import time\n",
        "from tqdm.auto import tqdm, trange\n",
        "\n",
        "\n",
        "\n",
        "\n",
        "time = 1"
      ],
      "execution_count": 3,
      "outputs": [
        {
          "output_type": "stream",
          "text": [
            "/usr/local/lib/python3.6/dist-packages/statsmodels/tools/_testing.py:19: FutureWarning: pandas.util.testing is deprecated. Use the functions in the public API at pandas.testing instead.\n",
            "  import pandas.util.testing as tm\n"
          ],
          "name": "stderr"
        }
      ]
    },
    {
      "cell_type": "code",
      "metadata": {
        "id": "QY3p9xFITi-o",
        "colab_type": "code",
        "colab": {}
      },
      "source": [
        "roi = 5                       ## Our range of interest in degrees\n",
        "TeV = 10**-6                  ## Convertion rate\n",
        "energy_start_bin = 3\n",
        "offset = 0                    ## The offset of the telescope. We assume we look at the target directly\n",
        "pre_normalisation = 1\n",
        "energy_bin = 0\n",
        "\n",
        "parsec = 3.08567758 * 10**18\n",
        "Sun_to_centrum = 8122 * parsec"
      ],
      "execution_count": 4,
      "outputs": []
    },
    {
      "cell_type": "code",
      "metadata": {
        "id": "AKNRAH3vpAzi",
        "colab_type": "code",
        "colab": {}
      },
      "source": [
        "## The Energy is saved as a tuple, via this way we make it a normal list\n",
        "\n",
        "ring_path = \"/content/drive/My Drive/Colab Notebooks/master_project/rings_background/\"\n",
        "energy_list1 = np.array(fits.getdata(ring_path + 'ics_ring_1.fits', ext=1))\n",
        "energies = []\n",
        "for energy in energy_list1:\n",
        "    E = float(str(energy)[1:-2])\n",
        "    energies.append(E)\n",
        "energies = np.array(energies)\n",
        "energies = energies * TeV   \n"
      ],
      "execution_count": 5,
      "outputs": []
    },
    {
      "cell_type": "markdown",
      "metadata": {
        "id": "EBr00oeBTslt",
        "colab_type": "text"
      },
      "source": [
        "# Data"
      ]
    },
    {
      "cell_type": "markdown",
      "metadata": {
        "id": "tD174Kr5VpdJ",
        "colab_type": "text"
      },
      "source": [
        "## Convolved data"
      ]
    },
    {
      "cell_type": "code",
      "metadata": {
        "id": "0ovN3T-2V7Hr",
        "colab_type": "code",
        "colab": {}
      },
      "source": [
        "files_paths = '/content/drive/My Drive/Colab Notebooks/data_txt_files/'\n",
        "\n",
        "orig_shape = (9, 47, 20, 20)\n",
        "original_file = files_paths + 'Model_new.txt.txt'\n",
        "simulated_backgrounds = np.loadtxt(original_file).reshape(orig_shape)\n",
        "\n",
        "ics_rings = np.loadtxt(files_paths + 'ice_file.txt').reshape(4,46,20,20)\n",
        "gce_rings = np.loadtxt(files_paths + 'gce_file.txt').reshape(4,46,20,20)\n",
        "gce2_rings = np.loadtxt(files_paths + 'gce2_file.txt').reshape(4,46,20,20)\n",
        "NB_rings = np.loadtxt(files_paths + 'NB_file.txt').reshape(5,46,20,20)\n",
        "F98_rings = np.loadtxt(files_paths + 'F98_file.txt').reshape(5,46,20,20)\n",
        "signal_rings = np.loadtxt(files_paths + 'signal_file.txt').reshape(5,46,20,20)\n",
        "alternative_gce = np.loadtxt(files_paths + 'Alternative_gce.txt').reshape(10,46,20,20)\n",
        "fermi_maps = np.loadtxt(files_paths + 'fermi_map').reshape(2,46,20,20)\n",
        "fermi_bubble = simulated_backgrounds[-1][:-1] * 137\n",
        "dark_matter_map = np.loadtxt(files_paths + 'dark_matter_map').reshape(46,20,20)\n",
        "\n",
        "\n",
        "signal_inj_list = signal_rings\n",
        "all_backgrounds = np.array([ics_rings[0], ics_rings[1], ics_rings[2], ics_rings[3], gce_rings[0], gce_rings[1], gce_rings[2], gce_rings[3],fermi_bubble])\n"
      ],
      "execution_count": 6,
      "outputs": []
    },
    {
      "cell_type": "markdown",
      "metadata": {
        "id": "WOSFo193EYmp",
        "colab_type": "text"
      },
      "source": [
        "We have the following Background Count maps\n",
        "\n",
        "* 4 rings of ics maps 46 * 20 * 20\n",
        "* 4 rings of GCE maps 46 * 20 * 20\n",
        "* 2 Fermi maps 46 * 20 * 20\n",
        "\n",
        "\n",
        "And for the alternative model:\n",
        "\n",
        "\n",
        "* 4 ring maps H1 46 * 40 * 40\n",
        "* 4 ring maps H2 46 * 40 * 40\n",
        "* 4 rings of ics 46 * 20 * 20\n",
        "* 2 dust maps 46 * 20 * 20\n",
        "* 2 Fermi maps 46 * 20 * 20\n",
        "\n",
        "And the Following signal - maps:\n",
        "\n",
        "* 5  injection spectra NB signal map 46 * 20 * 20\n",
        "* 5  injection spectra F98 map 46 * 20 * 20"
      ]
    },
    {
      "cell_type": "markdown",
      "metadata": {
        "id": "Uk1h3jpYBvPM",
        "colab_type": "text"
      },
      "source": [
        "## Compressing again to 11 rings"
      ]
    },
    {
      "cell_type": "code",
      "metadata": {
        "id": "f20-qQZYL5BL",
        "colab_type": "code",
        "colab": {}
      },
      "source": [
        "Ics_ring_1_template = []\n",
        "Ics_ring_2_template = []\n",
        "Ics_ring_3_template = []\n",
        "Ics_ring_4_template = []\n",
        "GCE_ring_1_template = []\n",
        "GCE_ring_2_template = []\n",
        "GCE_ring_3_template = []\n",
        "GCE_ring_4_template = []\n",
        "\n",
        "fermi_template = []\n",
        "\n",
        "signal_0_template = []\n",
        "signal_1_template = []\n",
        "signal_2_template = []\n",
        "signal_3_template = []\n",
        "signal_4_template = []\n",
        "\n",
        "\n",
        "H1_ring_1_template = []\n",
        "H1_ring_2_template = []\n",
        "H1_ring_3_template = []\n",
        "H1_ring_4_template = []\n",
        "\n",
        "H2_ring_1_template = []\n",
        "H2_ring_2_template = []\n",
        "H2_ring_3_template = []\n",
        "H2_ring_4_template = []\n",
        "\n",
        "dust_pos_template = []\n",
        "dust_neg_template = []\n",
        "\n",
        "dark_matter_template = []\n",
        "\n",
        "new_energies = []\n",
        "\n",
        "for j in range(0,11):\n",
        "  i = 2+j*4\n",
        "  new_energies.append(energies[i])\n",
        "\n",
        "\n",
        "  Ics_ring_1_template.append(np.sum(ics_rings[0][i:i+4], axis = 0))\n",
        "  Ics_ring_2_template.append(np.sum(ics_rings[1][i:i+4], axis = 0))\n",
        "  Ics_ring_3_template.append(np.sum(ics_rings[2][i:i+4], axis = 0))\n",
        "  Ics_ring_4_template.append(np.sum(ics_rings[3][i:i+4], axis = 0))\n",
        "\n",
        "  GCE_ring_1_template.append(np.sum(gce_rings[0][i:i+4], axis = 0))\n",
        "  GCE_ring_2_template.append(np.sum(gce_rings[1][i:i+4], axis = 0))\n",
        "  GCE_ring_3_template.append(np.sum(gce_rings[2][i:i+4], axis = 0))\n",
        "  GCE_ring_4_template.append(np.sum(gce_rings[3][i:i+4], axis = 0))\n",
        "\n",
        "  fermi_template.append(np.sum(fermi_maps[0][i:i+4], axis = 0))\n",
        "\n",
        "  signal_0_template.append(np.sum(signal_rings[0][i:i+4], axis = 0))\n",
        "  signal_1_template.append(np.sum(signal_rings[1][i:i+4], axis = 0))\n",
        "  signal_2_template.append(np.sum(signal_rings[2][i:i+4], axis = 0))\n",
        "  signal_3_template.append(np.sum(signal_rings[3][i:i+4], axis = 0))\n",
        "  signal_4_template.append(np.sum(signal_rings[4][i:i+4], axis = 0))\n",
        "\n",
        "  dark_matter_template.append(np.sum(dark_matter_map[i:i+4], axis = 0))\n",
        "\n",
        "\n",
        "  H1_ring_1_template.append(np.sum(alternative_gce[0][i:i+4], axis = 0))\n",
        "  H1_ring_2_template.append(np.sum(alternative_gce[1][i:i+4], axis = 0))\n",
        "  H1_ring_3_template.append(np.sum(alternative_gce[2][i:i+4], axis = 0))\n",
        "  H1_ring_4_template.append(np.sum(alternative_gce[3][i:i+4], axis = 0))\n",
        "\n",
        "  H2_ring_1_template.append(np.sum(alternative_gce[4][i:i+4], axis = 0))\n",
        "  H2_ring_2_template.append(np.sum(alternative_gce[5][i:i+4], axis = 0))\n",
        "  H2_ring_3_template.append(np.sum(alternative_gce[6][i:i+4], axis = 0))\n",
        "  H2_ring_4_template.append(np.sum(alternative_gce[7][i:i+4], axis = 0))\n",
        "\n",
        "  dust_pos_template.append(np.sum(alternative_gce[8][i:i+4], axis = 0))\n",
        "  dust_neg_template.append(np.sum(alternative_gce[9][i:i+4], axis = 0))\n",
        "\n",
        "\n",
        "\n",
        "Ics_ring_1_template = np.array(Ics_ring_1_template)\n",
        "Ics_ring_2_template = np.array(Ics_ring_2_template)\n",
        "Ics_ring_3_template = np.array(Ics_ring_3_template)\n",
        "Ics_ring_4_template = np.array(Ics_ring_4_template)\n",
        "GCE_ring_1_template = np.array(GCE_ring_1_template)\n",
        "GCE_ring_2_template = np.array(GCE_ring_2_template)\n",
        "GCE_ring_3_template = np.array(GCE_ring_3_template)\n",
        "GCE_ring_4_template = np.array(GCE_ring_4_template)\n",
        "\n",
        "fermi_template = np.array(fermi_template)\n",
        "\n",
        "signal_0_template = np.array(signal_0_template)\n",
        "signal_1_template = np.array(signal_1_template)\n",
        "signal_2_template = np.array(signal_2_template)\n",
        "signal_3_template = np.array(signal_3_template)\n",
        "signal_4_template = np.array(signal_4_template)\n",
        "\n",
        "signal_templates = np.array([signal_0_template, signal_1_template, signal_2_template, signal_3_template, signal_4_template])\n",
        "\n",
        "\n",
        "H1_ring_1_template = np.array(H1_ring_1_template)\n",
        "H1_ring_2_template = np.array(H1_ring_2_template)\n",
        "H1_ring_3_template = np.array(H1_ring_3_template)\n",
        "H1_ring_4_template = np.array(H1_ring_4_template)\n",
        "\n",
        "H2_ring_1_template = np.array(H2_ring_1_template)\n",
        "H2_ring_2_template = np.array(H2_ring_2_template)\n",
        "H2_ring_3_template = np.array(H2_ring_3_template)\n",
        "H2_ring_4_template = np.array(H2_ring_4_template)\n",
        "\n",
        "dust_pos_template = np.array(dust_pos_template)\n",
        "dust_neg_template = np.array(dust_neg_template)\n",
        "\n",
        "dark_matter_template = np.array(dark_matter_template)"
      ],
      "execution_count": 7,
      "outputs": []
    },
    {
      "cell_type": "code",
      "metadata": {
        "id": "qEcZyIXHt9wT",
        "colab_type": "code",
        "colab": {
          "base_uri": "https://localhost:8080/",
          "height": 0
        },
        "outputId": "0604f5bd-f923-4167-dae4-c1a3f9e5a848"
      },
      "source": [
        "dark_matter_template.shape"
      ],
      "execution_count": 8,
      "outputs": [
        {
          "output_type": "execute_result",
          "data": {
            "text/plain": [
              "(11, 20, 20)"
            ]
          },
          "metadata": {
            "tags": []
          },
          "execution_count": 8
        }
      ]
    },
    {
      "cell_type": "code",
      "metadata": {
        "id": "L_yADqOAv565",
        "colab_type": "code",
        "colab": {}
      },
      "source": [
        ""
      ],
      "execution_count": 8,
      "outputs": []
    },
    {
      "cell_type": "markdown",
      "metadata": {
        "id": "BKe23BuPx8xq",
        "colab_type": "text"
      },
      "source": [
        "# Creating the synthetic data"
      ]
    },
    {
      "cell_type": "markdown",
      "metadata": {
        "id": "q1vr81CahSmO",
        "colab_type": "text"
      },
      "source": [
        "### The parameters we use"
      ]
    },
    {
      "cell_type": "code",
      "metadata": {
        "id": "InVleOxI799c",
        "colab_type": "code",
        "colab": {}
      },
      "source": [
        "MC_times = 1000\n",
        "ss_steps = 1\n",
        "signal_strengts = [0]\n",
        "injection_spectra = 0\n",
        "sigma = 0.3"
      ],
      "execution_count": 24,
      "outputs": []
    },
    {
      "cell_type": "markdown",
      "metadata": {
        "id": "uCEwlZoahVZH",
        "colab_type": "text"
      },
      "source": [
        "### the sythentic data"
      ]
    },
    {
      "cell_type": "code",
      "metadata": {
        "id": "06meLxK-RYkg",
        "colab_type": "code",
        "colab": {
          "base_uri": "https://localhost:8080/",
          "height": 703
        },
        "outputId": "42372521-d81b-4d0f-93bc-4d59e650683a"
      },
      "source": [
        "all_backgrounds = [Ics_ring_1_template, Ics_ring_2_template, Ics_ring_3_template, Ics_ring_4_template,\n",
        "                GCE_ring_1_template, GCE_ring_2_template, GCE_ring_3_template, GCE_ring_4_template, fermi_template]\n",
        "signal_conv = signal_templates[injection_spectra]\n",
        "all_backgrounds = np.array(all_backgrounds)\n",
        "\n",
        "\n",
        "def random_counts_with_signal(signal_strength,sigma, all_backgrounds, signal_conv):\n",
        "  count_matrix = np.zeros(signal_conv.shape)\n",
        "  for mapn in all_backgrounds:\n",
        "    after_norm = np.random.normal(1, sigma) * mapn\n",
        "    after_norm = after_norm.clip(0)\n",
        "    count_matrix += after_norm\n",
        "  signal_norm = signal_conv * signal_strength\n",
        "  count_matrix += signal_norm\n",
        "\n",
        "  count_matrix = np.random.poisson(count_matrix)\n",
        "\n",
        "  return count_matrix\n",
        "\n",
        "all_simulated_background = []\n",
        "for ss in signal_strengts:\n",
        "  list_MC = []\n",
        "  for _ in range(MC_times):\n",
        "    a = random_counts_with_signal(ss,sigma, all_backgrounds, signal_conv)\n",
        "    list_MC.append(a)\n",
        "  all_simulated_background.append(list_MC)\n",
        "\n",
        "\n",
        "\n",
        "all_simulated_background = np.array(all_simulated_background)\n",
        "sns.set()\n",
        "\n",
        "## PLotting an example\n",
        "fig,ax = plt.subplots(figsize = (7,5))\n",
        "a = ax.imshow(np.sum(all_backgrounds, axis = 0)[0])\n",
        "ax.set(xlabel = \"Gal. Long. [deg]\", ylabel = \"Gal. Lat. [deg]\",  title = f'All backgrounds combined')\n",
        "fig.colorbar(a, ax = ax)\n",
        "plt.show()\n",
        "\n",
        "fig,ax = plt.subplots(1,4,figsize = (20,5))\n",
        "\n",
        "for i in range(4):\n",
        "  a = ax[i].imshow(all_simulated_background[0][i][5])\n",
        "  ax[i].set(xlabel = \"Gal. Long. [deg]\", ylabel = \"Gal. Lat. [deg]\",  title = f'Synthetic background {i}')\n",
        "  fig.colorbar(a, ax = ax[i])\n",
        "\n",
        "fig.tight_layout()\n",
        "\n",
        "plt.show()\n",
        "\n"
      ],
      "execution_count": 46,
      "outputs": [
        {
          "output_type": "display_data",
          "data": {
            "image/png": "[encoded data removed]",
            "text/plain": [
              "<Figure size 504x360 with 2 Axes>"
            ]
          },
          "metadata": {
            "tags": []
          }
        },
        {
          "output_type": "display_data",
          "data": {
            "image/png": "[encoded data removed]",
            "text/plain": [
              "<Figure size 1440x360 with 8 Axes>"
            ]
          },
          "metadata": {
            "tags": []
          }
        }
      ]
    },
    {
      "cell_type": "code",
      "metadata": {
        "id": "Vu6rtWHbhjXh",
        "colab_type": "code",
        "colab": {}
      },
      "source": [
        ""
      ],
      "execution_count": 10,
      "outputs": []
    },
    {
      "cell_type": "markdown",
      "metadata": {
        "id": "lisg_evkFSc-",
        "colab_type": "text"
      },
      "source": [
        "#The bin by bin analysis class"
      ]
    },
    {
      "cell_type": "code",
      "metadata": {
        "id": "TpFWdlayFY27",
        "colab_type": "code",
        "colab": {}
      },
      "source": [
        "class analysis:\n",
        "\n",
        "  def __init__(self, signal_strength, model_backgrounds,signal1,data_map):\n",
        "    self.signal_strength = signal_strength\n",
        "    self.counts_m = data_map\n",
        "    self.all_backgrounds = model_backgrounds\n",
        "    self.signal_conv = signal1\n",
        "    self.signal1 = signal1\n",
        "    self.sigma = sigma\n",
        "    self.energy_bin =  energy_bin\n",
        "\n",
        "\n",
        "\n",
        "\n",
        "  def L0_model_long(self, params, i,j):\n",
        "    \"\"\"\n",
        "    The background only model\n",
        "    \"\"\"\n",
        "\n",
        "    tot_back = 0\n",
        "    for a in range(len(self.all_backgrounds)):\n",
        "      tot_back += params[a] * self.all_backgrounds[a][i][j]\n",
        "    \n",
        "    return tot_back\n",
        "\n",
        "  def L1_model_long(self, params, i,j):\n",
        "    \"\"\"\n",
        "    The background plus signal model\n",
        "    \"\"\"\n",
        "\n",
        "    tot_back = 0\n",
        "    for a in range(len(self.all_backgrounds)):\n",
        "      tot_back += params[a] * self.all_backgrounds[a][i][j]  \n",
        "    \n",
        "    tot_back += params[-1] * self.signal1[i][j]\n",
        "    \n",
        "    return tot_back\n",
        "\n",
        "\n",
        "  \n",
        "  def lik0(self,params):\n",
        "    \"\"\"\n",
        "    Function that computes the likelihood for a given set of parameters  of the background only model\n",
        "    \"\"\"\n",
        "    p_sum = 0\n",
        "    for i,j in np.ndindex(self.signal_conv.shape):\n",
        "      counts = self.counts_m[i][j]\n",
        "      counts_model = self.L0_model_long(params, i,j)\n",
        "      if counts_model > 0:  \n",
        "        p = counts * np.log(counts_model) - counts_model\n",
        "        p_sum += p\n",
        "    return -p_sum\n",
        "\n",
        "\n",
        "\n",
        "  def lik1(self,params):\n",
        "    \"\"\"\n",
        "    Function that computes the likelihood for a given set of parameters of the background + signal model\n",
        "    \"\"\"\n",
        "    p_sum = 0\n",
        "    for i,j in np.ndindex(self.signal_conv.shape):\n",
        "      counts = self.counts_m[i][j]\n",
        "      counts_model = self.L1_model_long(params, i,j)\n",
        "      if counts_model > 0:  \n",
        "        p = counts * np.log(counts_model) - counts_model\n",
        "        p_sum += p\n",
        "    return -p_sum\n",
        "\n",
        "\n",
        "  \n",
        "  def Test_stat(self):\n",
        "    init_gues0 = [1 for __ in range(len(self.all_backgrounds))]\n",
        "    init_gues1 = [1 for __ in range(len(self.all_backgrounds))]\n",
        "    range0 = (0, 10)\n",
        "    range1 = (0, 10)\n",
        "    limit_list1 = [range0 for __ in range(len(self.all_backgrounds))]\n",
        "    limit_list2 = [range1 for __ in range(len(self.all_backgrounds))]\n",
        "\n",
        "    limit_list2.append((0, None))\n",
        "    init_gues1.append(self.signal_strength)\n",
        "\n",
        "\n",
        "    m_0 = Minuit.from_array_func(self.lik0, init_gues0, error = 0.1, limit= limit_list1, errordef=0.5)\n",
        "    m_1 = Minuit.from_array_func(self.lik1, init_gues1, error = 0.1, limit= limit_list2, errordef=0.5)\n",
        "    c = m_0.migrad() \n",
        "    d = m_1.migrad()\n",
        "    a = -m_0.fval \n",
        "    b = -m_1.fval\n",
        "    T = -2*(a-b)\n",
        "    return T, c,d,m_0,m_1\n"
      ],
      "execution_count": 11,
      "outputs": []
    },
    {
      "cell_type": "code",
      "metadata": {
        "id": "AS9DN3Ep9WqJ",
        "colab_type": "code",
        "colab": {}
      },
      "source": [
        ""
      ],
      "execution_count": 11,
      "outputs": []
    },
    {
      "cell_type": "markdown",
      "metadata": {
        "id": "D8yXCNqLNU0Y",
        "colab_type": "text"
      },
      "source": [
        "# Doing the analysis"
      ]
    },
    {
      "cell_type": "markdown",
      "metadata": {
        "id": "RnMVlZF3UaYn",
        "colab_type": "text"
      },
      "source": [
        "## One energy bin"
      ]
    },
    {
      "cell_type": "markdown",
      "metadata": {
        "id": "YKrciqeTtu68",
        "colab_type": "text"
      },
      "source": [
        "This is for 1 energy bin, so L1 has 1 additional degree of freedom"
      ]
    },
    {
      "cell_type": "code",
      "metadata": {
        "id": "5dwFGRQyUUeP",
        "colab_type": "code",
        "colab": {
          "base_uri": "https://localhost:8080/",
          "height": 66,
          "referenced_widgets": [
            "6217971b68ee44448a12d453bfdfed5f",
            "7d1520ddaf5b44199da6df9dcb9f422c",
            "3e7808a0271f4104b8dd0529c3b83298",
            "46739cba74554385b32879518fdd5ce2",
            "bfc8ea7c92224bf49f9f872b44fe53e1",
            "04083055583a4c60ae147a46cccf0fe7",
            "4b9ad4f7e04045df9f64b084d4391009",
            "03310583654645c18ffe4bb62099bc2b"
          ]
        },
        "outputId": "2062e2e1-84cc-4ceb-92c0-ca76f91e1946"
      },
      "source": [
        "local_T = []\n",
        "local_check = []\n",
        "local_check2 = []\n",
        "energy_bin = 5\n",
        "signal_bin = 0\n",
        "for MC in tqdm(range(MC_times)):                 ### Monte carlo analysis\n",
        "\n",
        "\n",
        "  model_backgrounds = np.array([Ics_ring_1_template[energy_bin] + Ics_ring_2_template[energy_bin] +  Ics_ring_3_template[energy_bin] + Ics_ring_4_template[energy_bin],\n",
        "                                GCE_ring_1_template[energy_bin] + GCE_ring_2_template[energy_bin] + GCE_ring_3_template[energy_bin] + GCE_ring_4_template[energy_bin], fermi_template[energy_bin]])\n",
        "\n",
        "  signal1 = signal_templates[injection_spectra][energy_bin]\n",
        "  data_map = all_simulated_background[signal_bin][MC][energy_bin]\n",
        "\n",
        "  M = analysis(ss, model_backgrounds,signal1,data_map)\n",
        "  T, c,d,m_0,m_1 = M.Test_stat()\n",
        "\n",
        "#    if d.fmin.is_valid == True and c.fmin.is_valid == True:\n",
        "#      good_T_values.append(T)\n",
        "#    else:\n",
        "#      bad_T_values.append(T)\n",
        "  local_T.append(T)\n",
        "  local_check.append(d)\n",
        "  local_check2.append(c)\n",
        "\n"
      ],
      "execution_count": 27,
      "outputs": [
        {
          "output_type": "display_data",
          "data": {
            "application/vnd.jupyter.widget-view+json": {
              "model_id": "6217971b68ee44448a12d453bfdfed5f",
              "version_minor": 0,
              "version_major": 2
            },
            "text/plain": [
              "HBox(children=(FloatProgress(value=0.0, max=1000.0), HTML(value='')))"
            ]
          },
          "metadata": {
            "tags": []
          }
        },
        {
          "output_type": "stream",
          "text": [
            "\n"
          ],
          "name": "stdout"
        }
      ]
    },
    {
      "cell_type": "code",
      "metadata": {
        "id": "696wkGxaU6CN",
        "colab_type": "code",
        "colab": {
          "base_uri": "https://localhost:8080/",
          "height": 51
        },
        "outputId": "07f0930f-84bd-47c1-d3e2-e4751ddae1b7"
      },
      "source": [
        "all_good_T = []\n",
        "\n",
        "for e in range(len(local_check)):\n",
        "  if local_check[e].fmin.is_valid and local_check2[e].fmin.is_valid:\n",
        "    all_good_T.append(local_T[e])\n"
      ],
      "execution_count": 36,
      "outputs": [
        {
          "output_type": "stream",
          "text": [
            "1000\n",
            "1000\n"
          ],
          "name": "stdout"
        }
      ]
    },
    {
      "cell_type": "code",
      "metadata": {
        "id": "Y-1YD5LNZGTr",
        "colab_type": "code",
        "colab": {
          "base_uri": "https://localhost:8080/",
          "height": 252
        },
        "outputId": "02361eae-d2ff-4c6e-aebd-c32695738340"
      },
      "source": [
        "local_check[802]"
      ],
      "execution_count": 37,
      "outputs": [
        {
          "output_type": "execute_result",
          "data": {
            "text/html": [
              "<table>\n",
              "<tr> <td colspan=\"2\" style=\"text-align:center\" title=\"Minimum value of function\"> FCN = -3.377e+06 </td> <td colspan=\"3\" title=\"No. of calls in last algorithm and total number of calls\"> Ncalls = 300 (300 total) </td> </tr>\n",
              "<tr> <td colspan=\"2\" style=\"text-align:center\" title=\"Estimated distance to minimum and target threshold\"> EDM = 0.000136 (Goal: 0.0001) </td> <td colspan=\"3\" title=\"Increase in FCN which corresponds to 1 standard deviation\"> up = 0.5 </td> </tr>\n",
              "<tr> <td title=\"Validity of the migrad call\"> Valid Min. </td> <td title=\"Validity of parameters\"> Valid Param. </td> <td title=\"Is EDM above goal EDM?\"> Above EDM </td> <td colspan=\"2\" title=\"Did last migrad call reach max call limit?\"> Reached call limit </td> </tr>\n",
              "<tr> <td style=\"background-color:#92CCA6;\"> True </td> <td style=\"background-color:#92CCA6;\"> True </td> <td style=\"background-color:#92CCA6;\"> False </td> <td colspan=\"2\" style=\"background-color:#92CCA6;\"> False </td> </tr>\n",
              "<tr> <td title=\"Did Hesse fail?\"> Hesse failed </td> <td title=\"Has covariance matrix\"> Has cov. </td> <td title=\"Is covariance matrix accurate?\"> Accurate </td> <td title=\"Is covariance matrix positive definite?\"> Pos. def. </td> <td title=\"Was positive definiteness enforced by Minuit?\"> Forced </td> </tr>\n",
              "<tr> <td style=\"background-color:#92CCA6;\"> False </td> <td style=\"background-color:#92CCA6;\"> True </td> <td style=\"background-color:#92CCA6;\"> True </td> <td style=\"background-color:#92CCA6;\"> True </td> <td style=\"background-color:#92CCA6;\"> False </td> </tr>\n",
              "</table>\n",
              "<table>\n",
              "<tr style=\"background-color:#F4F4F4;\"> <td/> <th title=\"Variable name\"> Name </th> <th title=\"Value of parameter\"> Value </th> <th title=\"Hesse error\"> Hesse Error </th> <th title=\"Minos lower error\"> Minos Error- </th> <th title=\"Minos upper error\"> Minos Error+ </th> <th title=\"Lower limit of the parameter\"> Limit- </th> <th title=\"Upper limit of the parameter\"> Limit+ </th> <th title=\"Is the parameter fixed in the fit\"> Fixed </th> </tr>\n",
              "<tr style=\"background-color:#FFFFFF;\"> <th> 0 </th> <td> x0 </td> <td> 1.00 </td> <td> 0.05 </td> <td>  </td> <td>  </td> <td> 0 </td> <td> 10 </td> <td>  </td> </tr>\n",
              "<tr style=\"background-color:#F4F4F4;\"> <th> 1 </th> <td> x1 </td> <td> 0.92 </td> <td> 0.10 </td> <td>  </td> <td>  </td> <td> 0 </td> <td> 10 </td> <td>  </td> </tr>\n",
              "<tr style=\"background-color:#FFFFFF;\"> <th> 2 </th> <td> x2 </td> <td> 1.570 </td> <td> 0.004 </td> <td>  </td> <td>  </td> <td> 0 </td> <td> 10 </td> <td>  </td> </tr>\n",
              "<tr style=\"background-color:#F4F4F4;\"> <th> 3 </th> <td> x3 </td> <td> 0.000 </td> <td> 0.008 </td> <td>  </td> <td>  </td> <td> 0 </td> <td>  </td> <td>  </td> </tr>\n",
              "</table>\n"
            ],
            "text/plain": [
              "------------------------------------------------------------------\n",
              "| FCN = -3.377e+06              |     Ncalls=300 (300 total)     |\n",
              "| EDM = 0.000136 (Goal: 0.0001) |            up = 0.5            |\n",
              "------------------------------------------------------------------\n",
              "|  Valid Min.   | Valid Param.  | Above EDM | Reached call limit |\n",
              "------------------------------------------------------------------\n",
              "|     True      |     True      |   False   |       False        |\n",
              "------------------------------------------------------------------\n",
              "| Hesse failed  |   Has cov.    | Accurate  | Pos. def. | Forced |\n",
              "------------------------------------------------------------------\n",
              "|     False     |     True      |   True    |   True    | False  |\n",
              "------------------------------------------------------------------\n",
              "------------------------------------------------------------------------------------------\n",
              "|   | Name |   Value   | Hesse Err | Minos Err- | Minos Err+ | Limit-  | Limit+  | Fixed |\n",
              "------------------------------------------------------------------------------------------\n",
              "| 0 | x0   |   1.00    |   0.05    |            |            |    0    |   10    |       |\n",
              "| 1 | x1   |   0.92    |   0.10    |            |            |    0    |   10    |       |\n",
              "| 2 | x2   |   1.570   |   0.004   |            |            |    0    |   10    |       |\n",
              "| 3 | x3   |   0.000   |   0.008   |            |            |    0    |         |       |\n",
              "------------------------------------------------------------------------------------------"
            ]
          },
          "metadata": {
            "tags": []
          },
          "execution_count": 37
        }
      ]
    },
    {
      "cell_type": "code",
      "metadata": {
        "id": "gOVb-f39Thla",
        "colab_type": "code",
        "colab": {
          "base_uri": "https://localhost:8080/",
          "height": 1000
        },
        "outputId": "6eeb7afc-ac2c-4beb-83a5-7fba288b8e64"
      },
      "source": [
        "np.sort(all_good_T)"
      ],
      "execution_count": 40,
      "outputs": [
        {
          "output_type": "execute_result",
          "data": {
            "text/plain": [
              "array([-2.50584818e-03, -1.25726312e-03, -1.03316456e-03, -8.39361921e-04,\n",
              "       -7.30326399e-04, -6.16735779e-04, -5.49785793e-04, -5.13839535e-04,\n",
              "       -5.07899560e-04, -5.04867174e-04, -5.02165407e-04, -4.78916802e-04,\n",
              "       -3.95793468e-04, -3.71255912e-04, -3.19818966e-04, -3.00114974e-04,\n",
              "       -2.96538696e-04, -2.94080935e-04, -2.89253891e-04, -2.66566873e-04,\n",
              "       -2.57832929e-04, -2.56574713e-04, -2.52427533e-04, -2.50197016e-04,\n",
              "       -2.42384151e-04, -2.41149217e-04, -2.25607306e-04, -2.12186947e-04,\n",
              "       -2.08090991e-04, -1.98202208e-04, -1.96096487e-04, -1.88464299e-04,\n",
              "       -1.82015821e-04, -1.77863054e-04, -1.67057849e-04, -1.65806152e-04,\n",
              "       -1.61028467e-04, -1.60383992e-04, -1.57869421e-04, -1.54506415e-04,\n",
              "       -1.54398382e-04, -1.52642839e-04, -1.51249580e-04, -1.44801103e-04,\n",
              "       -1.44619495e-04, -1.43531710e-04, -1.40734948e-04, -1.37488358e-04,\n",
              "       -1.35835260e-04, -1.33188441e-04, -1.26359984e-04, -1.18500553e-04,\n",
              "       -1.13630667e-04, -1.11633912e-04, -1.08827837e-04, -1.08310953e-04,\n",
              "       -1.02219172e-04, -1.01500191e-04, -1.00419857e-04, -9.94754955e-05,\n",
              "       -9.78522003e-05, -8.80034640e-05, -8.18930566e-05, -7.85924494e-05,\n",
              "       -7.66804442e-05, -7.40932301e-05, -6.91562891e-05, -6.89066947e-05,\n",
              "       -6.41569495e-05, -6.39520586e-05, -5.96707687e-05, -5.65107912e-05,\n",
              "       -5.21689653e-05, -4.90667298e-05, -4.89894301e-05, -4.71333042e-05,\n",
              "       -4.56441194e-05, -4.44892794e-05, -4.35942784e-05, -4.17912379e-05,\n",
              "       -3.93521041e-05, -3.82959843e-05, -3.23681161e-05, -3.03573906e-05,\n",
              "       -3.00472602e-05, -2.80626118e-05, -2.39349902e-05, -2.14204192e-05,\n",
              "       -2.10069120e-05, -2.08457932e-05, -2.02748924e-05, -1.97710469e-05,\n",
              "       -1.62906945e-05, -1.49821863e-05, -1.13751739e-05, -1.09421089e-05,\n",
              "       -9.47900116e-06, -8.69482756e-06, -8.55699182e-06, -6.44661486e-06,\n",
              "       -5.67780808e-06, -5.34765422e-06, -5.11109829e-06, -3.61818820e-06,\n",
              "       -3.20933759e-06, -5.16884029e-07, -7.45058060e-09, -0.00000000e+00,\n",
              "       -0.00000000e+00, -0.00000000e+00, -0.00000000e+00, -0.00000000e+00,\n",
              "       -0.00000000e+00, -0.00000000e+00, -0.00000000e+00, -0.00000000e+00,\n",
              "       -0.00000000e+00, -0.00000000e+00, -0.00000000e+00, -0.00000000e+00,\n",
              "       -0.00000000e+00, -0.00000000e+00, -0.00000000e+00, -0.00000000e+00,\n",
              "       -0.00000000e+00, -0.00000000e+00, -0.00000000e+00, -0.00000000e+00,\n",
              "       -0.00000000e+00, -0.00000000e+00, -0.00000000e+00, -0.00000000e+00,\n",
              "       -0.00000000e+00, -0.00000000e+00, -0.00000000e+00, -0.00000000e+00,\n",
              "       -0.00000000e+00, -0.00000000e+00, -0.00000000e+00, -0.00000000e+00,\n",
              "       -0.00000000e+00, -0.00000000e+00, -0.00000000e+00, -0.00000000e+00,\n",
              "       -0.00000000e+00, -0.00000000e+00, -0.00000000e+00, -0.00000000e+00,\n",
              "       -0.00000000e+00, -0.00000000e+00, -0.00000000e+00, -0.00000000e+00,\n",
              "       -0.00000000e+00, -0.00000000e+00, -0.00000000e+00, -0.00000000e+00,\n",
              "       -0.00000000e+00, -0.00000000e+00, -0.00000000e+00, -0.00000000e+00,\n",
              "       -0.00000000e+00, -0.00000000e+00, -0.00000000e+00, -0.00000000e+00,\n",
              "       -0.00000000e+00, -0.00000000e+00, -0.00000000e+00, -0.00000000e+00,\n",
              "       -0.00000000e+00, -0.00000000e+00, -0.00000000e+00, -0.00000000e+00,\n",
              "       -0.00000000e+00, -0.00000000e+00, -0.00000000e+00, -0.00000000e+00,\n",
              "       -0.00000000e+00, -0.00000000e+00, -0.00000000e+00, -0.00000000e+00,\n",
              "       -0.00000000e+00, -0.00000000e+00, -0.00000000e+00, -0.00000000e+00,\n",
              "       -0.00000000e+00, -0.00000000e+00, -0.00000000e+00, -0.00000000e+00,\n",
              "       -0.00000000e+00, -0.00000000e+00, -0.00000000e+00, -0.00000000e+00,\n",
              "       -0.00000000e+00, -0.00000000e+00, -0.00000000e+00, -0.00000000e+00,\n",
              "       -0.00000000e+00, -0.00000000e+00, -0.00000000e+00, -0.00000000e+00,\n",
              "       -0.00000000e+00, -0.00000000e+00, -0.00000000e+00, -0.00000000e+00,\n",
              "       -0.00000000e+00, -0.00000000e+00, -0.00000000e+00, -0.00000000e+00,\n",
              "       -0.00000000e+00, -0.00000000e+00, -0.00000000e+00, -0.00000000e+00,\n",
              "       -0.00000000e+00, -0.00000000e+00, -0.00000000e+00, -0.00000000e+00,\n",
              "       -0.00000000e+00, -0.00000000e+00, -0.00000000e+00, -0.00000000e+00,\n",
              "       -0.00000000e+00, -0.00000000e+00, -0.00000000e+00, -0.00000000e+00,\n",
              "       -0.00000000e+00, -0.00000000e+00, -0.00000000e+00, -0.00000000e+00,\n",
              "       -0.00000000e+00, -0.00000000e+00, -0.00000000e+00, -0.00000000e+00,\n",
              "       -0.00000000e+00, -0.00000000e+00, -0.00000000e+00, -0.00000000e+00,\n",
              "       -0.00000000e+00, -0.00000000e+00, -0.00000000e+00, -0.00000000e+00,\n",
              "       -0.00000000e+00, -0.00000000e+00, -0.00000000e+00, -0.00000000e+00,\n",
              "       -0.00000000e+00, -0.00000000e+00, -0.00000000e+00, -0.00000000e+00,\n",
              "       -0.00000000e+00, -0.00000000e+00, -0.00000000e+00, -0.00000000e+00,\n",
              "       -0.00000000e+00, -0.00000000e+00, -0.00000000e+00, -0.00000000e+00,\n",
              "       -0.00000000e+00, -0.00000000e+00, -0.00000000e+00, -0.00000000e+00,\n",
              "       -0.00000000e+00, -0.00000000e+00, -0.00000000e+00, -0.00000000e+00,\n",
              "       -0.00000000e+00, -0.00000000e+00, -0.00000000e+00, -0.00000000e+00,\n",
              "       -0.00000000e+00, -0.00000000e+00, -0.00000000e+00, -0.00000000e+00,\n",
              "       -0.00000000e+00, -0.00000000e+00, -0.00000000e+00, -0.00000000e+00,\n",
              "       -0.00000000e+00, -0.00000000e+00, -0.00000000e+00, -0.00000000e+00,\n",
              "       -0.00000000e+00, -0.00000000e+00, -0.00000000e+00, -0.00000000e+00,\n",
              "       -0.00000000e+00, -0.00000000e+00, -0.00000000e+00, -0.00000000e+00,\n",
              "       -0.00000000e+00, -0.00000000e+00, -0.00000000e+00, -0.00000000e+00,\n",
              "       -0.00000000e+00, -0.00000000e+00, -0.00000000e+00, -0.00000000e+00,\n",
              "       -0.00000000e+00, -0.00000000e+00, -0.00000000e+00, -0.00000000e+00,\n",
              "       -0.00000000e+00, -0.00000000e+00, -0.00000000e+00, -0.00000000e+00,\n",
              "       -0.00000000e+00, -0.00000000e+00, -0.00000000e+00, -0.00000000e+00,\n",
              "       -0.00000000e+00, -0.00000000e+00, -0.00000000e+00, -0.00000000e+00,\n",
              "       -0.00000000e+00, -0.00000000e+00, -0.00000000e+00, -0.00000000e+00,\n",
              "       -0.00000000e+00, -0.00000000e+00, -0.00000000e+00, -0.00000000e+00,\n",
              "       -0.00000000e+00, -0.00000000e+00, -0.00000000e+00, -0.00000000e+00,\n",
              "       -0.00000000e+00, -0.00000000e+00, -0.00000000e+00, -0.00000000e+00,\n",
              "       -0.00000000e+00, -0.00000000e+00, -0.00000000e+00, -0.00000000e+00,\n",
              "       -0.00000000e+00, -0.00000000e+00, -0.00000000e+00, -0.00000000e+00,\n",
              "       -0.00000000e+00, -0.00000000e+00, -0.00000000e+00, -0.00000000e+00,\n",
              "       -0.00000000e+00, -0.00000000e+00, -0.00000000e+00, -0.00000000e+00,\n",
              "       -0.00000000e+00, -0.00000000e+00, -0.00000000e+00, -0.00000000e+00,\n",
              "       -0.00000000e+00, -0.00000000e+00, -0.00000000e+00, -0.00000000e+00,\n",
              "       -0.00000000e+00, -0.00000000e+00, -0.00000000e+00, -0.00000000e+00,\n",
              "       -0.00000000e+00, -0.00000000e+00, -0.00000000e+00, -0.00000000e+00,\n",
              "       -0.00000000e+00, -0.00000000e+00, -0.00000000e+00, -0.00000000e+00,\n",
              "       -0.00000000e+00, -0.00000000e+00, -0.00000000e+00, -0.00000000e+00,\n",
              "       -0.00000000e+00, -0.00000000e+00, -0.00000000e+00, -0.00000000e+00,\n",
              "       -0.00000000e+00, -0.00000000e+00, -0.00000000e+00, -0.00000000e+00,\n",
              "       -0.00000000e+00, -0.00000000e+00, -0.00000000e+00, -0.00000000e+00,\n",
              "       -0.00000000e+00, -0.00000000e+00, -0.00000000e+00, -0.00000000e+00,\n",
              "       -0.00000000e+00, -0.00000000e+00, -0.00000000e+00, -0.00000000e+00,\n",
              "       -0.00000000e+00, -0.00000000e+00, -0.00000000e+00, -0.00000000e+00,\n",
              "       -0.00000000e+00, -0.00000000e+00, -0.00000000e+00, -0.00000000e+00,\n",
              "       -0.00000000e+00, -0.00000000e+00, -0.00000000e+00, -0.00000000e+00,\n",
              "       -0.00000000e+00, -0.00000000e+00, -0.00000000e+00, -0.00000000e+00,\n",
              "       -0.00000000e+00, -0.00000000e+00, -0.00000000e+00, -0.00000000e+00,\n",
              "       -0.00000000e+00, -0.00000000e+00, -0.00000000e+00, -0.00000000e+00,\n",
              "       -0.00000000e+00, -0.00000000e+00, -0.00000000e+00, -0.00000000e+00,\n",
              "       -0.00000000e+00, -0.00000000e+00, -0.00000000e+00, -0.00000000e+00,\n",
              "       -0.00000000e+00, -0.00000000e+00, -0.00000000e+00, -0.00000000e+00,\n",
              "       -0.00000000e+00, -0.00000000e+00, -0.00000000e+00, -0.00000000e+00,\n",
              "       -0.00000000e+00, -0.00000000e+00, -0.00000000e+00, -0.00000000e+00,\n",
              "       -0.00000000e+00, -0.00000000e+00, -0.00000000e+00, -0.00000000e+00,\n",
              "       -0.00000000e+00, -0.00000000e+00, -0.00000000e+00, -0.00000000e+00,\n",
              "       -0.00000000e+00, -0.00000000e+00, -0.00000000e+00, -0.00000000e+00,\n",
              "       -0.00000000e+00, -0.00000000e+00, -0.00000000e+00, -0.00000000e+00,\n",
              "       -0.00000000e+00, -0.00000000e+00, -0.00000000e+00, -0.00000000e+00,\n",
              "       -0.00000000e+00, -0.00000000e+00, -0.00000000e+00, -0.00000000e+00,\n",
              "       -0.00000000e+00, -0.00000000e+00, -0.00000000e+00, -0.00000000e+00,\n",
              "       -0.00000000e+00, -0.00000000e+00, -0.00000000e+00, -0.00000000e+00,\n",
              "       -0.00000000e+00, -0.00000000e+00, -0.00000000e+00, -0.00000000e+00,\n",
              "       -0.00000000e+00, -0.00000000e+00, -0.00000000e+00, -0.00000000e+00,\n",
              "       -0.00000000e+00, -0.00000000e+00, -0.00000000e+00, -0.00000000e+00,\n",
              "       -0.00000000e+00, -0.00000000e+00, -0.00000000e+00, -0.00000000e+00,\n",
              "       -0.00000000e+00, -0.00000000e+00, -0.00000000e+00, -0.00000000e+00,\n",
              "       -0.00000000e+00, -0.00000000e+00, -0.00000000e+00, -0.00000000e+00,\n",
              "       -0.00000000e+00, -0.00000000e+00, -0.00000000e+00, -0.00000000e+00,\n",
              "       -0.00000000e+00, -0.00000000e+00, -0.00000000e+00, -0.00000000e+00,\n",
              "       -0.00000000e+00, -0.00000000e+00, -0.00000000e+00, -0.00000000e+00,\n",
              "       -0.00000000e+00, -0.00000000e+00, -0.00000000e+00, -0.00000000e+00,\n",
              "       -0.00000000e+00, -0.00000000e+00, -0.00000000e+00, -0.00000000e+00,\n",
              "       -0.00000000e+00, -0.00000000e+00, -0.00000000e+00, -0.00000000e+00,\n",
              "       -0.00000000e+00, -0.00000000e+00, -0.00000000e+00, -0.00000000e+00,\n",
              "       -0.00000000e+00, -0.00000000e+00, -0.00000000e+00, -0.00000000e+00,\n",
              "       -0.00000000e+00, -0.00000000e+00, -0.00000000e+00, -0.00000000e+00,\n",
              "       -0.00000000e+00, -0.00000000e+00, -0.00000000e+00, -0.00000000e+00,\n",
              "       -0.00000000e+00, -0.00000000e+00, -0.00000000e+00, -0.00000000e+00,\n",
              "       -0.00000000e+00, -0.00000000e+00, -0.00000000e+00, -0.00000000e+00,\n",
              "       -0.00000000e+00, -0.00000000e+00, -0.00000000e+00, -0.00000000e+00,\n",
              "       -0.00000000e+00, -0.00000000e+00, -0.00000000e+00, -0.00000000e+00,\n",
              "       -0.00000000e+00, -0.00000000e+00, -0.00000000e+00, -0.00000000e+00,\n",
              "       -0.00000000e+00, -0.00000000e+00, -0.00000000e+00, -0.00000000e+00,\n",
              "       -0.00000000e+00, -0.00000000e+00, -0.00000000e+00, -0.00000000e+00,\n",
              "       -0.00000000e+00, -0.00000000e+00, -0.00000000e+00, -0.00000000e+00,\n",
              "       -0.00000000e+00, -0.00000000e+00,  1.48452818e-06,  4.78886068e-06,\n",
              "        6.08712435e-06,  7.05476850e-06,  8.78516585e-06,  8.92672688e-06,\n",
              "        9.61311162e-06,  1.00098550e-05,  1.04149804e-05,  1.12699345e-05,\n",
              "        1.22394413e-05,  1.25924125e-05,  1.56406313e-05,  1.93994492e-05,\n",
              "        1.99303031e-05,  2.05459073e-05,  2.06418335e-05,  2.31796876e-05,\n",
              "        2.55862251e-05,  2.81482935e-05,  3.00630927e-05,  3.12440097e-05,\n",
              "        3.18335369e-05,  3.40295956e-05,  3.45967710e-05,  3.49124894e-05,\n",
              "        3.75183299e-05,  3.83900478e-05,  3.88268381e-05,  4.15919349e-05,\n",
              "        4.42890450e-05,  4.59766015e-05,  4.60976735e-05,  4.82415780e-05,\n",
              "        5.03649935e-05,  5.10290265e-05,  5.53792343e-05,  6.36549667e-05,\n",
              "        6.71586022e-05,  6.96312636e-05,  7.89500773e-05,  8.31931829e-05,\n",
              "        8.59228894e-05,  8.86069611e-05,  8.87159258e-05,  8.97990540e-05,\n",
              "        9.63490456e-05,  1.01222657e-04,  1.04787759e-04,  1.05082057e-04,\n",
              "        1.16047449e-04,  1.20639801e-04,  1.26540661e-04,  1.34513713e-04,\n",
              "        1.46964565e-04,  1.49220228e-04,  1.53114088e-04,  1.62137672e-04,\n",
              "        1.62736513e-04,  1.65844336e-04,  1.67195685e-04,  1.69838779e-04,\n",
              "        1.82855874e-04,  1.89550221e-04,  1.95259228e-04,  1.96845271e-04,\n",
              "        1.97338872e-04,  2.35788524e-04,  2.51567923e-04,  2.55249441e-04,\n",
              "        2.59614550e-04,  2.64566392e-04,  2.76401639e-04,  2.84741633e-04,\n",
              "        3.04252841e-04,  3.39677557e-04,  3.47709283e-04,  3.63771804e-04,\n",
              "        4.40078788e-04,  4.51065600e-04,  4.54182737e-04,  5.94942831e-04,\n",
              "        5.98126091e-04,  6.65098429e-04,  6.80563040e-04,  6.87622465e-04,\n",
              "        7.08371401e-04,  1.57676451e-03,  1.73386568e-02,  1.73598817e-02,\n",
              "        3.51361381e-02,  4.52809604e-02,  6.68378593e-02,  1.41570826e-01,\n",
              "        3.45957958e-01,  2.30784207e+00,  2.47888469e+00,  2.51704594e+00,\n",
              "        3.38834274e+00,  3.46099588e+00,  4.86914069e+00])"
            ]
          },
          "metadata": {
            "tags": []
          },
          "execution_count": 40
        }
      ]
    },
    {
      "cell_type": "code",
      "metadata": {
        "id": "ni5rnRFbwXTn",
        "colab_type": "code",
        "colab": {
          "base_uri": "https://localhost:8080/",
          "height": 720
        },
        "outputId": "91191c50-4b6f-4efc-85e5-ebfa7734f147"
      },
      "source": [
        "plt.figure(figsize=(15,12))\n",
        "\n",
        "r = scipy.stats.chi2.rvs(1,size=100000)\n",
        "\n",
        "plt.hist(r,histtype='step',bins = 10000,density=1, label = r'chi^2', cumulative=-1)\n",
        "plt.hist(all_good_T,histtype='step',bins = 10000,density=1, label = \"TS distribution\", cumulative=-1)\n",
        "\n",
        "plt.ylabel('Cumulative Density')\n",
        "plt.xlabel('TS')\n",
        "\n",
        "plt.yscale('log')\n",
        "plt.show()\n",
        "\n"
      ],
      "execution_count": 47,
      "outputs": [
        {
          "output_type": "display_data",
          "data": {
            "image/png": "[encoded data removed]",
            "text/plain": [
              "<Figure size 1080x864 with 1 Axes>"
            ]
          },
          "metadata": {
            "tags": []
          }
        }
      ]
    }
  ]
}
