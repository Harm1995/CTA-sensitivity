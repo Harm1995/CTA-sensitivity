{
  "nbformat": 4,
  "nbformat_minor": 0,
  "metadata": {
    "colab": {
      "name": "TS_distribution_alt_ana.ipynb",
      "provenance": [],
      "collapsed_sections": [
        "EBr00oeBTslt",
        "tD174Kr5VpdJ",
        "Uk1h3jpYBvPM"
      ],
      "toc_visible": true,
      "mount_file_id": "1wU8_c-gkB-byev7vGVnNp7FmS-AX39Hp",
      "authorship_tag": "ABX9TyOrHlDsPEJGsTKOk6+Vokkl",
      "include_colab_link": true
    },
    "kernelspec": {
      "name": "python3",
      "display_name": "Python 3"
    },
    "widgets": {
      "application/vnd.jupyter.widget-state+json": {
        "0d275b13069c4b64b3d448db75c36bef": {
          "model_module": "@jupyter-widgets/controls",
          "model_name": "HBoxModel",
          "state": {
            "_view_name": "HBoxView",
            "_dom_classes": [],
            "_model_name": "HBoxModel",
            "_view_module": "@jupyter-widgets/controls",
            "_model_module_version": "1.5.0",
            "_view_count": null,
            "_view_module_version": "1.5.0",
            "box_style": "",
            "layout": "IPY_MODEL_30960705901848a49923e239d8b90a77",
            "_model_module": "@jupyter-widgets/controls",
            "children": [
              "IPY_MODEL_67aeaf55597b44dd944062f2f4718880",
              "IPY_MODEL_da8a3b4d83744846adc8b4db5de6aaa7"
            ]
          }
        },
        "30960705901848a49923e239d8b90a77": {
          "model_module": "@jupyter-widgets/base",
          "model_name": "LayoutModel",
          "state": {
            "_view_name": "LayoutView",
            "grid_template_rows": null,
            "right": null,
            "justify_content": null,
            "_view_module": "@jupyter-widgets/base",
            "overflow": null,
            "_model_module_version": "1.2.0",
            "_view_count": null,
            "flex_flow": null,
            "width": null,
            "min_width": null,
            "border": null,
            "align_items": null,
            "bottom": null,
            "_model_module": "@jupyter-widgets/base",
            "top": null,
            "grid_column": null,
            "overflow_y": null,
            "overflow_x": null,
            "grid_auto_flow": null,
            "grid_area": null,
            "grid_template_columns": null,
            "flex": null,
            "_model_name": "LayoutModel",
            "justify_items": null,
            "grid_row": null,
            "max_height": null,
            "align_content": null,
            "visibility": null,
            "align_self": null,
            "height": null,
            "min_height": null,
            "padding": null,
            "grid_auto_rows": null,
            "grid_gap": null,
            "max_width": null,
            "order": null,
            "_view_module_version": "1.2.0",
            "grid_template_areas": null,
            "object_position": null,
            "object_fit": null,
            "grid_auto_columns": null,
            "margin": null,
            "display": null,
            "left": null
          }
        },
        "67aeaf55597b44dd944062f2f4718880": {
          "model_module": "@jupyter-widgets/controls",
          "model_name": "FloatProgressModel",
          "state": {
            "_view_name": "ProgressView",
            "style": "IPY_MODEL_17907307701a42419f042b9d755534ef",
            "_dom_classes": [],
            "description": "100%",
            "_model_name": "FloatProgressModel",
            "bar_style": "success",
            "max": 3000,
            "_view_module": "@jupyter-widgets/controls",
            "_model_module_version": "1.5.0",
            "value": 3000,
            "_view_count": null,
            "_view_module_version": "1.5.0",
            "orientation": "horizontal",
            "min": 0,
            "description_tooltip": null,
            "_model_module": "@jupyter-widgets/controls",
            "layout": "IPY_MODEL_2f0f0b312b5642d09e180ec2440db2b1"
          }
        },
        "da8a3b4d83744846adc8b4db5de6aaa7": {
          "model_module": "@jupyter-widgets/controls",
          "model_name": "HTMLModel",
          "state": {
            "_view_name": "HTMLView",
            "style": "IPY_MODEL_bbd10b12dc85456ba2874afaf2f396fd",
            "_dom_classes": [],
            "description": "",
            "_model_name": "HTMLModel",
            "placeholder": "​",
            "_view_module": "@jupyter-widgets/controls",
            "_model_module_version": "1.5.0",
            "value": " 3000/3000 [25:38&lt;00:00,  1.95it/s]",
            "_view_count": null,
            "_view_module_version": "1.5.0",
            "description_tooltip": null,
            "_model_module": "@jupyter-widgets/controls",
            "layout": "IPY_MODEL_8996fff9f6e8488bb2f34740c578c13d"
          }
        },
        "17907307701a42419f042b9d755534ef": {
          "model_module": "@jupyter-widgets/controls",
          "model_name": "ProgressStyleModel",
          "state": {
            "_view_name": "StyleView",
            "_model_name": "ProgressStyleModel",
            "description_width": "initial",
            "_view_module": "@jupyter-widgets/base",
            "_model_module_version": "1.5.0",
            "_view_count": null,
            "_view_module_version": "1.2.0",
            "bar_color": null,
            "_model_module": "@jupyter-widgets/controls"
          }
        },
        "2f0f0b312b5642d09e180ec2440db2b1": {
          "model_module": "@jupyter-widgets/base",
          "model_name": "LayoutModel",
          "state": {
            "_view_name": "LayoutView",
            "grid_template_rows": null,
            "right": null,
            "justify_content": null,
            "_view_module": "@jupyter-widgets/base",
            "overflow": null,
            "_model_module_version": "1.2.0",
            "_view_count": null,
            "flex_flow": null,
            "width": null,
            "min_width": null,
            "border": null,
            "align_items": null,
            "bottom": null,
            "_model_module": "@jupyter-widgets/base",
            "top": null,
            "grid_column": null,
            "overflow_y": null,
            "overflow_x": null,
            "grid_auto_flow": null,
            "grid_area": null,
            "grid_template_columns": null,
            "flex": null,
            "_model_name": "LayoutModel",
            "justify_items": null,
            "grid_row": null,
            "max_height": null,
            "align_content": null,
            "visibility": null,
            "align_self": null,
            "height": null,
            "min_height": null,
            "padding": null,
            "grid_auto_rows": null,
            "grid_gap": null,
            "max_width": null,
            "order": null,
            "_view_module_version": "1.2.0",
            "grid_template_areas": null,
            "object_position": null,
            "object_fit": null,
            "grid_auto_columns": null,
            "margin": null,
            "display": null,
            "left": null
          }
        },
        "bbd10b12dc85456ba2874afaf2f396fd": {
          "model_module": "@jupyter-widgets/controls",
          "model_name": "DescriptionStyleModel",
          "state": {
            "_view_name": "StyleView",
            "_model_name": "DescriptionStyleModel",
            "description_width": "",
            "_view_module": "@jupyter-widgets/base",
            "_model_module_version": "1.5.0",
            "_view_count": null,
            "_view_module_version": "1.2.0",
            "_model_module": "@jupyter-widgets/controls"
          }
        },
        "8996fff9f6e8488bb2f34740c578c13d": {
          "model_module": "@jupyter-widgets/base",
          "model_name": "LayoutModel",
          "state": {
            "_view_name": "LayoutView",
            "grid_template_rows": null,
            "right": null,
            "justify_content": null,
            "_view_module": "@jupyter-widgets/base",
            "overflow": null,
            "_model_module_version": "1.2.0",
            "_view_count": null,
            "flex_flow": null,
            "width": null,
            "min_width": null,
            "border": null,
            "align_items": null,
            "bottom": null,
            "_model_module": "@jupyter-widgets/base",
            "top": null,
            "grid_column": null,
            "overflow_y": null,
            "overflow_x": null,
            "grid_auto_flow": null,
            "grid_area": null,
            "grid_template_columns": null,
            "flex": null,
            "_model_name": "LayoutModel",
            "justify_items": null,
            "grid_row": null,
            "max_height": null,
            "align_content": null,
            "visibility": null,
            "align_self": null,
            "height": null,
            "min_height": null,
            "padding": null,
            "grid_auto_rows": null,
            "grid_gap": null,
            "max_width": null,
            "order": null,
            "_view_module_version": "1.2.0",
            "grid_template_areas": null,
            "object_position": null,
            "object_fit": null,
            "grid_auto_columns": null,
            "margin": null,
            "display": null,
            "left": null
          }
        }
      }
    }
  },
  "cells": [
    {
      "cell_type": "markdown",
      "metadata": {
        "id": "view-in-github",
        "colab_type": "text"
      },
      "source": [
        "<a href=\"https://colab.research.google.com/github/Harm1995/CTA-sensitivity/blob/master/TS_distribution_alt_ana.ipynb\" target=\"_parent\"><img src=\"https://colab.research.google.com/assets/colab-badge.svg\" alt=\"Open In Colab\"/></a>"
      ]
    },
    {
      "cell_type": "markdown",
      "metadata": {
        "id": "zxCHnzgSToXK",
        "colab_type": "text"
      },
      "source": [
        "# The packages"
      ]
    },
    {
      "cell_type": "code",
      "metadata": {
        "id": "w23lGxAMK3Gn",
        "colab_type": "code",
        "colab": {}
      },
      "source": [
        "try:\n",
        "  import iminuit\n",
        "  from iminuit import Minuit\n",
        "\n",
        "except:\n",
        "  !pip install iminuit"
      ],
      "execution_count": null,
      "outputs": []
    },
    {
      "cell_type": "code",
      "metadata": {
        "id": "K_2h3yI7Thl-",
        "colab_type": "code",
        "colab": {
          "base_uri": "https://localhost:8080/",
          "height": 51
        },
        "outputId": "6fe60cb1-b30f-42c8-ee0d-e093246d0030"
      },
      "source": [
        "import matplotlib.pyplot as plt\n",
        "import numpy as np\n",
        "import pandas as pd \n",
        "import random\n",
        "import scipy\n",
        "from scipy.stats import norm\n",
        "import astropy\n",
        "from astropy.io import fits\n",
        "import seaborn as sns\n",
        "import time\n",
        "from tqdm.auto import tqdm, trange\n",
        "\n",
        "\n",
        "\n",
        "\n",
        "time = 1"
      ],
      "execution_count": null,
      "outputs": [
        {
          "output_type": "stream",
          "text": [
            "/usr/local/lib/python3.6/dist-packages/statsmodels/tools/_testing.py:19: FutureWarning: pandas.util.testing is deprecated. Use the functions in the public API at pandas.testing instead.\n",
            "  import pandas.util.testing as tm\n"
          ],
          "name": "stderr"
        }
      ]
    },
    {
      "cell_type": "code",
      "metadata": {
        "id": "QY3p9xFITi-o",
        "colab_type": "code",
        "colab": {}
      },
      "source": [
        "roi = 5                       ## Our range of interest in degrees\n",
        "TeV = 10**-6                  ## Convertion rate\n",
        "energy_start_bin = 3\n",
        "offset = 0                    ## The offset of the telescope. We assume we look at the target directly\n",
        "pre_normalisation = 1\n",
        "energy_bin = 0\n",
        "\n",
        "parsec = 3.08567758 * 10**18\n",
        "Sun_to_centrum = 8122 * parsec"
      ],
      "execution_count": null,
      "outputs": []
    },
    {
      "cell_type": "code",
      "metadata": {
        "id": "AKNRAH3vpAzi",
        "colab_type": "code",
        "colab": {}
      },
      "source": [
        "## The Energy is saved as a tuple, via this way we make it a normal list\n",
        "\n",
        "ring_path = \"/content/drive/My Drive/Colab Notebooks/master_project/rings_background/\"\n",
        "energy_list1 = np.array(fits.getdata(ring_path + 'ics_ring_1.fits', ext=1))\n",
        "energies = []\n",
        "for energy in energy_list1:\n",
        "    E = float(str(energy)[1:-2])\n",
        "    energies.append(E)\n",
        "energies = np.array(energies)\n",
        "energies = energies * TeV   \n"
      ],
      "execution_count": null,
      "outputs": []
    },
    {
      "cell_type": "markdown",
      "metadata": {
        "id": "EBr00oeBTslt",
        "colab_type": "text"
      },
      "source": [
        "# Data"
      ]
    },
    {
      "cell_type": "markdown",
      "metadata": {
        "id": "tD174Kr5VpdJ",
        "colab_type": "text"
      },
      "source": [
        "## Convolved data"
      ]
    },
    {
      "cell_type": "code",
      "metadata": {
        "id": "0ovN3T-2V7Hr",
        "colab_type": "code",
        "colab": {}
      },
      "source": [
        "files_paths = '/content/drive/My Drive/Colab Notebooks/data_txt_files/'\n",
        "\n",
        "orig_shape = (9, 47, 20, 20)\n",
        "original_file = files_paths + 'Model_new.txt.txt'\n",
        "simulated_backgrounds = np.loadtxt(original_file).reshape(orig_shape)\n",
        "\n",
        "ics_rings = np.loadtxt(files_paths + 'ice_file.txt').reshape(4,46,20,20)\n",
        "gce_rings = np.loadtxt(files_paths + 'gce_file.txt').reshape(4,46,20,20)\n",
        "gce2_rings = np.loadtxt(files_paths + 'gce2_file.txt').reshape(4,46,20,20)\n",
        "NB_rings = np.loadtxt(files_paths + 'NB_file.txt').reshape(5,46,20,20)\n",
        "F98_rings = np.loadtxt(files_paths + 'F98_file.txt').reshape(5,46,20,20)\n",
        "signal_rings = np.loadtxt(files_paths + 'signal_file.txt').reshape(5,46,20,20)\n",
        "alternative_gce = np.loadtxt(files_paths + 'Alternative_gce.txt').reshape(10,46,20,20)\n",
        "fermi_maps = np.loadtxt(files_paths + 'fermi_map').reshape(2,46,20,20)\n",
        "fermi_bubble = simulated_backgrounds[-1][:-1] * 137\n",
        "dark_matter_map = np.loadtxt(files_paths + 'dark_matter_map').reshape(46,20,20)\n",
        "\n",
        "\n",
        "signal_inj_list = signal_rings\n",
        "all_backgrounds = np.array([ics_rings[0], ics_rings[1], ics_rings[2], ics_rings[3], gce_rings[0], gce_rings[1], gce_rings[2], gce_rings[3],fermi_bubble])\n"
      ],
      "execution_count": null,
      "outputs": []
    },
    {
      "cell_type": "markdown",
      "metadata": {
        "id": "WOSFo193EYmp",
        "colab_type": "text"
      },
      "source": [
        "We have the following Background Count maps\n",
        "\n",
        "* 4 rings of ics maps 46 * 20 * 20\n",
        "* 4 rings of GCE maps 46 * 20 * 20\n",
        "* 2 Fermi maps 46 * 20 * 20\n",
        "\n",
        "\n",
        "And for the alternative model:\n",
        "\n",
        "\n",
        "* 4 ring maps H1 46 * 40 * 40\n",
        "* 4 ring maps H2 46 * 40 * 40\n",
        "* 4 rings of ics 46 * 20 * 20\n",
        "* 2 dust maps 46 * 20 * 20\n",
        "* 2 Fermi maps 46 * 20 * 20\n",
        "\n",
        "And the Following signal - maps:\n",
        "\n",
        "* 5  injection spectra NB signal map 46 * 20 * 20\n",
        "* 5  injection spectra F98 map 46 * 20 * 20"
      ]
    },
    {
      "cell_type": "code",
      "metadata": {
        "id": "uxjEQwok_b1_",
        "colab_type": "code",
        "colab": {
          "base_uri": "https://localhost:8080/"
        },
        "outputId": "1f608deb-b61e-4f46-aac9-686d5b39a322"
      },
      "source": [
        "pre_path = \"/content/drive/My Drive/Colab Notebooks/master_project/\"\n",
        "\n",
        "def mask_matrix_fu():\n",
        "\n",
        "  catalog = fits.open(pre_path + 'gll_psch_v13.fit')\n",
        "\n",
        "  ptsrc_long = []\n",
        "  ptsrc_lat = []\n",
        "\n",
        "  # Here is load all the point sources in our range of interest:\n",
        "  for i in range(len(catalog[1].data)):\n",
        "      if(catalog[1].data[i][9] > 4.0 and catalog[1].data[i][33] == ''):\n",
        "          if(-roi + 180 <= catalog[1].data[i][3] <= roi + 180):\n",
        "              if(-roi <= catalog[1].data[i][4] <= roi):\n",
        "                  ptsrc_long.append(catalog[1].data[i][3])\n",
        "                  ptsrc_lat.append(catalog[1].data[i][4])\n",
        "\n",
        "  # Here I make a matrix that has a zero on all the positions that are +/- 0.25 degrees away from\n",
        "  # a Fermi high energy source. Also the galactic ridge (+/- 0.3 degrees lattitude) are maskt.\n",
        "  mask_matrix = []\n",
        "  y_coor = 0\n",
        "  x_min = 180 - roi\n",
        "  x_max = 180 + roi\n",
        "  y_min = - roi\n",
        "  y_max = roi\n",
        "  y_steps = 4 * roi\n",
        "  x_steps = 4 * roi\n",
        "\n",
        "  for y in np.linspace(y_max, y_min, y_steps):\n",
        "      mask_matrix.append([])\n",
        "      for x in np.linspace(x_min, x_max, x_steps):\n",
        "          mark = 0\n",
        "          for i in range(len(ptsrc_long)):\n",
        "              ps_x = ptsrc_long[i]\n",
        "              ps_y = ptsrc_lat[i]\n",
        "              if abs(ps_x - x) < 0.25:\n",
        "                  if abs(ps_y - y) < 0.25:\n",
        "                      mark = 1\n",
        "                      break\n",
        "  #            if ((ps_x - x)**2 + (ps_y - y)**2)**0.5  < 0.25:\n",
        "  #                mark = 0\n",
        "          if abs(y) < 0.3:\n",
        "              mark = 1\n",
        "          mask_matrix[y_coor].append(mark)\n",
        "      y_coor += 1\n",
        "\n",
        "  mask_matrix = np.array(mask_matrix)\n",
        "  return mask_matrix\n",
        "\n",
        "mask_matrix = mask_matrix_fu()\n",
        "\n",
        "\n",
        "\n",
        "\n",
        "\n",
        "\n",
        "mask2 = []\n",
        "\n",
        "for i in range(11):\n",
        "  mask2.append(mask_matrix)\n",
        "\n",
        "mask2 = np.array(mask2)\n",
        "\n",
        "plt.figure(figsize=(9,7))\n",
        "plt.xlabel(\"Gal. Long. [deg]\",fontsize=18)\n",
        "plt.ylabel(\"Gal. Lat. [deg]\",fontsize=18)\n",
        "plt.xticks(fontsize=18)\n",
        "plt.yticks(fontsize=18)\n",
        "plt.imshow(mask2[0], extent = [roi,-roi,-roi,roi])\n",
        "plt.colorbar()\n",
        "plt.show()"
      ],
      "execution_count": null,
      "outputs": [
        {
          "output_type": "display_data",
          "data": {
            "image/png": "[encoded data removed]",
            "text/plain": [
              "<Figure size 648x504 with 2 Axes>"
            ]
          },
          "metadata": {
            "tags": [],
            "needs_background": "light"
          }
        }
      ]
    },
    {
      "cell_type": "markdown",
      "metadata": {
        "id": "Uk1h3jpYBvPM",
        "colab_type": "text"
      },
      "source": [
        "## Compressing again to 11 rings"
      ]
    },
    {
      "cell_type": "code",
      "metadata": {
        "id": "f20-qQZYL5BL",
        "colab_type": "code",
        "colab": {}
      },
      "source": [
        "Ics_ring_1_template = []\n",
        "Ics_ring_2_template = []\n",
        "Ics_ring_3_template = []\n",
        "Ics_ring_4_template = []\n",
        "GCE_ring_1_template = []\n",
        "GCE_ring_2_template = []\n",
        "GCE_ring_3_template = []\n",
        "GCE_ring_4_template = []\n",
        "\n",
        "fermi_template = []\n",
        "\n",
        "signal_0_template = []\n",
        "signal_1_template = []\n",
        "signal_2_template = []\n",
        "signal_3_template = []\n",
        "signal_4_template = []\n",
        "\n",
        "\n",
        "H1_ring_1_template = []\n",
        "H1_ring_2_template = []\n",
        "H1_ring_3_template = []\n",
        "H1_ring_4_template = []\n",
        "\n",
        "H2_ring_1_template = []\n",
        "H2_ring_2_template = []\n",
        "H2_ring_3_template = []\n",
        "H2_ring_4_template = []\n",
        "\n",
        "dust_pos_template = []\n",
        "dust_neg_template = []\n",
        "\n",
        "dark_matter_template = []\n",
        "\n",
        "new_energies = []\n",
        "\n",
        "for j in range(0,11):\n",
        "  i = 2+j*4\n",
        "  new_energies.append(energies[i])\n",
        "\n",
        "\n",
        "  Ics_ring_1_template.append(np.sum(ics_rings[0][i:i+4], axis = 0))\n",
        "  Ics_ring_2_template.append(np.sum(ics_rings[1][i:i+4], axis = 0))\n",
        "  Ics_ring_3_template.append(np.sum(ics_rings[2][i:i+4], axis = 0))\n",
        "  Ics_ring_4_template.append(np.sum(ics_rings[3][i:i+4], axis = 0))\n",
        "\n",
        "  GCE_ring_1_template.append(np.sum(gce_rings[0][i:i+4], axis = 0))\n",
        "  GCE_ring_2_template.append(np.sum(gce_rings[1][i:i+4], axis = 0))\n",
        "  GCE_ring_3_template.append(np.sum(gce_rings[2][i:i+4], axis = 0))\n",
        "  GCE_ring_4_template.append(np.sum(gce_rings[3][i:i+4], axis = 0))\n",
        "\n",
        "  fermi_template.append(np.sum(fermi_maps[0][i:i+4], axis = 0))\n",
        "\n",
        "  signal_0_template.append(np.sum(signal_rings[0][i:i+4], axis = 0))\n",
        "  signal_1_template.append(np.sum(signal_rings[1][i:i+4], axis = 0))\n",
        "  signal_2_template.append(np.sum(signal_rings[2][i:i+4], axis = 0))\n",
        "  signal_3_template.append(np.sum(signal_rings[3][i:i+4], axis = 0))\n",
        "  signal_4_template.append(np.sum(signal_rings[4][i:i+4], axis = 0))\n",
        "\n",
        "  dark_matter_template.append(np.sum(dark_matter_map[i:i+4], axis = 0))\n",
        "\n",
        "\n",
        "  H1_ring_1_template.append(np.sum(alternative_gce[0][i:i+4], axis = 0))\n",
        "  H1_ring_2_template.append(np.sum(alternative_gce[1][i:i+4], axis = 0))\n",
        "  H1_ring_3_template.append(np.sum(alternative_gce[2][i:i+4], axis = 0))\n",
        "  H1_ring_4_template.append(np.sum(alternative_gce[3][i:i+4], axis = 0))\n",
        "\n",
        "  H2_ring_1_template.append(np.sum(alternative_gce[4][i:i+4], axis = 0))\n",
        "  H2_ring_2_template.append(np.sum(alternative_gce[5][i:i+4], axis = 0))\n",
        "  H2_ring_3_template.append(np.sum(alternative_gce[6][i:i+4], axis = 0))\n",
        "  H2_ring_4_template.append(np.sum(alternative_gce[7][i:i+4], axis = 0))\n",
        "\n",
        "  dust_pos_template.append(np.sum(alternative_gce[8][i:i+4], axis = 0))\n",
        "  dust_neg_template.append(np.sum(alternative_gce[9][i:i+4], axis = 0))\n",
        "\n",
        "\n",
        "\n",
        "Ics_ring_1_template = np.array(Ics_ring_1_template)\n",
        "Ics_ring_2_template = np.array(Ics_ring_2_template)\n",
        "Ics_ring_3_template = np.array(Ics_ring_3_template)\n",
        "Ics_ring_4_template = np.array(Ics_ring_4_template)\n",
        "GCE_ring_1_template = np.array(GCE_ring_1_template)\n",
        "GCE_ring_2_template = np.array(GCE_ring_2_template)\n",
        "GCE_ring_3_template = np.array(GCE_ring_3_template)\n",
        "GCE_ring_4_template = np.array(GCE_ring_4_template)\n",
        "\n",
        "fermi_template = np.array(fermi_template)\n",
        "\n",
        "signal_0_template = np.array(signal_0_template)\n",
        "signal_1_template = np.array(signal_1_template)\n",
        "signal_2_template = np.array(signal_2_template)\n",
        "signal_3_template = np.array(signal_3_template)\n",
        "signal_4_template = np.array(signal_4_template)\n",
        "\n",
        "signal_templates = np.array([signal_0_template, signal_1_template, signal_2_template, signal_3_template, signal_4_template])\n",
        "\n",
        "\n",
        "H1_ring_1_template = np.array(H1_ring_1_template)\n",
        "H1_ring_2_template = np.array(H1_ring_2_template)\n",
        "H1_ring_3_template = np.array(H1_ring_3_template)\n",
        "H1_ring_4_template = np.array(H1_ring_4_template)\n",
        "\n",
        "H2_ring_1_template = np.array(H2_ring_1_template)\n",
        "H2_ring_2_template = np.array(H2_ring_2_template)\n",
        "H2_ring_3_template = np.array(H2_ring_3_template)\n",
        "H2_ring_4_template = np.array(H2_ring_4_template)\n",
        "\n",
        "dust_pos_template = np.array(dust_pos_template)\n",
        "dust_neg_template = np.array(dust_neg_template)\n",
        "\n",
        "dark_matter_template = np.array(dark_matter_template)"
      ],
      "execution_count": null,
      "outputs": []
    },
    {
      "cell_type": "code",
      "metadata": {
        "id": "qEcZyIXHt9wT",
        "colab_type": "code",
        "colab": {
          "base_uri": "https://localhost:8080/"
        },
        "outputId": "dd6aa4c2-a44a-495d-f3e7-8729494cf61a"
      },
      "source": [
        "dark_matter_template.shape"
      ],
      "execution_count": null,
      "outputs": [
        {
          "output_type": "execute_result",
          "data": {
            "text/plain": [
              "(11, 20, 20)"
            ]
          },
          "metadata": {
            "tags": []
          },
          "execution_count": 9
        }
      ]
    },
    {
      "cell_type": "code",
      "metadata": {
        "id": "L_yADqOAv565",
        "colab_type": "code",
        "colab": {}
      },
      "source": [
        ""
      ],
      "execution_count": null,
      "outputs": []
    },
    {
      "cell_type": "markdown",
      "metadata": {
        "id": "BKe23BuPx8xq",
        "colab_type": "text"
      },
      "source": [
        "# Creating the synthetic data"
      ]
    },
    {
      "cell_type": "markdown",
      "metadata": {
        "id": "q1vr81CahSmO",
        "colab_type": "text"
      },
      "source": [
        "### The parameters we use"
      ]
    },
    {
      "cell_type": "code",
      "metadata": {
        "id": "InVleOxI799c",
        "colab_type": "code",
        "colab": {}
      },
      "source": [
        "MC_times = 3000\n",
        "ss_steps = 1\n",
        "signal_strengts = [0]\n",
        "injection_spectra = 0\n",
        "sigma = 0.3"
      ],
      "execution_count": null,
      "outputs": []
    },
    {
      "cell_type": "markdown",
      "metadata": {
        "id": "uCEwlZoahVZH",
        "colab_type": "text"
      },
      "source": [
        "### the sythentic data"
      ]
    },
    {
      "cell_type": "code",
      "metadata": {
        "id": "06meLxK-RYkg",
        "colab_type": "code",
        "colab": {
          "base_uri": "https://localhost:8080/",
          "height": 703
        },
        "outputId": "63ea32ff-ca5b-4364-e7d4-4bce27e88bd9"
      },
      "source": [
        "all_backgrounds = [Ics_ring_1_template, Ics_ring_2_template, Ics_ring_3_template, Ics_ring_4_template,\n",
        "                GCE_ring_1_template, GCE_ring_2_template, GCE_ring_3_template, GCE_ring_4_template, fermi_template]\n",
        "signal_conv = signal_templates[injection_spectra]\n",
        "all_backgrounds = np.array(all_backgrounds)\n",
        "\n",
        "\n",
        "def random_counts_with_signal(signal_strength,sigma, all_backgrounds, signal_conv):\n",
        "  count_matrix = np.zeros(signal_conv.shape)\n",
        "  for mapn in all_backgrounds:\n",
        "    after_norm = np.random.normal(1, sigma) * mapn\n",
        "    after_norm = after_norm.clip(0)\n",
        "    count_matrix += after_norm\n",
        "  signal_norm = signal_conv * signal_strength\n",
        "  count_matrix += signal_norm\n",
        "\n",
        "  count_matrix = np.random.poisson(count_matrix)\n",
        "\n",
        "  return count_matrix\n",
        "\n",
        "all_simulated_background = []\n",
        "for ss in signal_strengts:\n",
        "  list_MC = []\n",
        "  for _ in range(MC_times):\n",
        "    a = random_counts_with_signal(ss,sigma, all_backgrounds, signal_conv)\n",
        "    list_MC.append(np.ma.array(a, mask=mask2))\n",
        "  all_simulated_background.append(list_MC)\n",
        "\n",
        "\n",
        "\n",
        "#all_simulated_background = np.array(all_simulated_background)\n",
        "sns.set()\n",
        "\n",
        "## PLotting an example\n",
        "fig,ax = plt.subplots(figsize = (7,5))\n",
        "a = ax.imshow(np.sum(all_backgrounds, axis = 0)[0])\n",
        "ax.set(xlabel = \"Gal. Long. [deg]\", ylabel = \"Gal. Lat. [deg]\",  title = f'All backgrounds combined')\n",
        "fig.colorbar(a, ax = ax)\n",
        "plt.show()\n",
        "\n",
        "fig,ax = plt.subplots(1,4,figsize = (20,5))\n",
        "\n",
        "for i in range(4):\n",
        "  a = ax[i].imshow(all_simulated_background[0][i][-1])\n",
        "  ax[i].set(xlabel = \"Gal. Long. [deg]\", ylabel = \"Gal. Lat. [deg]\",  title = f'Synthetic background {i}')\n",
        "  fig.colorbar(a, ax = ax[i])\n",
        "\n",
        "fig.tight_layout()\n",
        "\n",
        "plt.show()\n",
        "\n"
      ],
      "execution_count": null,
      "outputs": [
        {
          "output_type": "display_data",
          "data": {
            "image/png": "[encoded data removed]",
            "text/plain": [
              "<Figure size 504x360 with 2 Axes>"
            ]
          },
          "metadata": {
            "tags": []
          }
        },
        {
          "output_type": "display_data",
          "data": {
            "image/png": "[encoded data removed]",
            "text/plain": [
              "<Figure size 1440x360 with 8 Axes>"
            ]
          },
          "metadata": {
            "tags": []
          }
        }
      ]
    },
    {
      "cell_type": "code",
      "metadata": {
        "id": "Vu6rtWHbhjXh",
        "colab_type": "code",
        "colab": {}
      },
      "source": [
        ""
      ],
      "execution_count": null,
      "outputs": []
    },
    {
      "cell_type": "markdown",
      "metadata": {
        "id": "lisg_evkFSc-",
        "colab_type": "text"
      },
      "source": [
        "#The bin by bin analysis class"
      ]
    },
    {
      "cell_type": "code",
      "metadata": {
        "id": "TpFWdlayFY27",
        "colab_type": "code",
        "colab": {}
      },
      "source": [
        "class analysis:\n",
        "\n",
        "  def __init__(self, signal_strength, model_backgrounds,signal1,data_map):\n",
        "    self.signal_strength = signal_strength\n",
        "    self.counts_m = data_map\n",
        "    self.all_backgrounds = model_backgrounds\n",
        "    self.signal_conv = signal1\n",
        "    self.signal1 = signal1\n",
        "    self.sigma = sigma\n",
        "    self.energy_bin =  energy_bin\n",
        "    self.variance = np.std(data_map)**2\n",
        "\n",
        "\n",
        "  def L0_model_long(self, params):\n",
        "    \"\"\"\n",
        "    The background only model: H0\n",
        "    \"\"\"\n",
        "\n",
        "    tot_back = 0\n",
        "    for a in range(len(self.all_backgrounds)):\n",
        "      tot_back += params[a] * self.all_backgrounds[a]\n",
        "    return tot_back\n",
        "    \n",
        "\n",
        "  def L1_model_long(self, params):\n",
        "    \"\"\"\n",
        "    The background plus signal model: H1\n",
        "    \"\"\"\n",
        "\n",
        "    tot_back = 0\n",
        "    for a in range(len(self.all_backgrounds)):\n",
        "      tot_back += params[a] * self.all_backgrounds[a]\n",
        "    \n",
        "    tot_back += params[-1] * self.signal1\n",
        "    \n",
        "    return tot_back\n",
        "\n",
        "\n",
        "  \n",
        "  def lik0(self,params):\n",
        "    \"\"\"\n",
        "    Function that computes the likelihood for a given set of parameters  of the background only model\n",
        "    \"\"\"\n",
        "    counts = self.counts_m\n",
        "    counts_model = self.L0_model_long(params)\n",
        "\n",
        "    li = np.sum((counts - counts_model)**2) / self.variance\n",
        "    return 0.5*li\n",
        "\n",
        "\n",
        "\n",
        "  def lik1(self,params):\n",
        "    \"\"\"\n",
        "    Function that computes the likelihood for a given set of parameters of the background + signal model\n",
        "    \"\"\"\n",
        "    p_sum = 0\n",
        "    counts = self.counts_m\n",
        "    counts_model = self.L1_model_long(params)\n",
        "\n",
        "    li = np.sum((counts - counts_model)**2) / self.variance\n",
        "    return 0.5*li\n",
        "  \n",
        "  def Test_stat(self):\n",
        "    init_gues0 = [1 for __ in range(len(self.all_backgrounds))]\n",
        "    init_gues1 = [1 for __ in range(len(self.all_backgrounds))]\n",
        "    range0 = (0, 10)\n",
        "    range1 = (0, 10)\n",
        "    limit_list1 = [range0 for __ in range(len(self.all_backgrounds))]\n",
        "    limit_list2 = [range1 for __ in range(len(self.all_backgrounds))]\n",
        "    limit_list2.append((0, None))\n",
        "    init_gues1.append(self.signal_strength)\n",
        "    m_0 = Minuit.from_array_func(self.lik0, init_gues0, error = 0.01, limit= limit_list1, errordef=0.5)\n",
        "    m_1 = Minuit.from_array_func(self.lik1, init_gues1, error = 0.01, limit= limit_list2, errordef=0.5)\n",
        "    c = m_0.migrad() \n",
        "    d = m_1.migrad()\n",
        "    a = -m_0.fval \n",
        "    b = -m_1.fval\n",
        "    T = -2*(a-b)\n",
        "    return T, c,d,m_0,m_1"
      ],
      "execution_count": null,
      "outputs": []
    },
    {
      "cell_type": "code",
      "metadata": {
        "id": "AS9DN3Ep9WqJ",
        "colab_type": "code",
        "colab": {}
      },
      "source": [
        ""
      ],
      "execution_count": null,
      "outputs": []
    },
    {
      "cell_type": "markdown",
      "metadata": {
        "id": "D8yXCNqLNU0Y",
        "colab_type": "text"
      },
      "source": [
        "# Doing the analysis"
      ]
    },
    {
      "cell_type": "markdown",
      "metadata": {
        "id": "RnMVlZF3UaYn",
        "colab_type": "text"
      },
      "source": [
        "## One energy bin"
      ]
    },
    {
      "cell_type": "markdown",
      "metadata": {
        "id": "YKrciqeTtu68",
        "colab_type": "text"
      },
      "source": [
        "This is for 1 energy bin, so L1 has 1 additional degree of freedom"
      ]
    },
    {
      "cell_type": "code",
      "metadata": {
        "id": "5dwFGRQyUUeP",
        "colab_type": "code",
        "colab": {
          "base_uri": "https://localhost:8080/",
          "height": 66,
          "referenced_widgets": [
            "0d275b13069c4b64b3d448db75c36bef",
            "30960705901848a49923e239d8b90a77",
            "67aeaf55597b44dd944062f2f4718880",
            "da8a3b4d83744846adc8b4db5de6aaa7",
            "17907307701a42419f042b9d755534ef",
            "2f0f0b312b5642d09e180ec2440db2b1",
            "bbd10b12dc85456ba2874afaf2f396fd",
            "8996fff9f6e8488bb2f34740c578c13d"
          ]
        },
        "outputId": "25db5c7b-84c8-409a-c5b5-4619794f2c89"
      },
      "source": [
        "local_T = []\n",
        "local_check = []\n",
        "local_check2 = []\n",
        "energy_bin = 3\n",
        "signal_bin = 0\n",
        "for MC in tqdm(range(MC_times)):                 ### Monte carlo analysis\n",
        "\n",
        "\n",
        "  model_backgrounds = np.array([Ics_ring_1_template[energy_bin], Ics_ring_2_template[energy_bin],  Ics_ring_3_template[energy_bin], Ics_ring_4_template[energy_bin],\n",
        "                                GCE_ring_1_template[energy_bin], GCE_ring_2_template[energy_bin], GCE_ring_3_template[energy_bin], GCE_ring_4_template[energy_bin], fermi_template[energy_bin]])\n",
        "\n",
        "  signal1 = signal_templates[injection_spectra][energy_bin]\n",
        "  data_map = all_simulated_background[signal_bin][MC][energy_bin]\n",
        "\n",
        "  M = analysis(ss, model_backgrounds,signal1,data_map)\n",
        "  T, c,d,m_0,m_1 = M.Test_stat()\n",
        "\n",
        "#    if d.fmin.is_valid == True and c.fmin.is_valid == True:\n",
        "#      good_T_values.append(T)\n",
        "#    else:\n",
        "#      bad_T_values.append(T)\n",
        "  local_T.append(T)\n",
        "  local_check.append(d)\n",
        "  local_check2.append(c)\n",
        "\n"
      ],
      "execution_count": null,
      "outputs": [
        {
          "output_type": "display_data",
          "data": {
            "application/vnd.jupyter.widget-view+json": {
              "model_id": "0d275b13069c4b64b3d448db75c36bef",
              "version_minor": 0,
              "version_major": 2
            },
            "text/plain": [
              "HBox(children=(FloatProgress(value=0.0, max=3000.0), HTML(value='')))"
            ]
          },
          "metadata": {
            "tags": []
          }
        },
        {
          "output_type": "stream",
          "text": [
            "\n"
          ],
          "name": "stdout"
        }
      ]
    },
    {
      "cell_type": "code",
      "metadata": {
        "id": "696wkGxaU6CN",
        "colab_type": "code",
        "colab": {
          "base_uri": "https://localhost:8080/",
          "height": 34
        },
        "outputId": "53913bb4-273d-4697-a72b-df0d5b4d5b7f"
      },
      "source": [
        "all_good_T = []\n",
        "\n",
        "for e in range(len(local_check)):\n",
        "  if local_check[e].fmin.is_valid and local_check2[e].fmin.is_valid:\n",
        "    all_good_T.append(local_T[e])\n",
        "\n",
        "print (len(all_good_T))"
      ],
      "execution_count": null,
      "outputs": [
        {
          "output_type": "stream",
          "text": [
            "2894\n"
          ],
          "name": "stdout"
        }
      ]
    },
    {
      "cell_type": "markdown",
      "metadata": {
        "id": "8BK5Nk6_hz7F",
        "colab_type": "text"
      },
      "source": [
        "## Hypotheses 0"
      ]
    },
    {
      "cell_type": "code",
      "metadata": {
        "id": "Y-1YD5LNZGTr",
        "colab_type": "code",
        "colab": {
          "base_uri": "https://localhost:8080/",
          "height": 357
        },
        "outputId": "7e0a3e73-eb48-40dd-ad43-efda93dbefc5"
      },
      "source": [
        "local_check2[15]"
      ],
      "execution_count": null,
      "outputs": [
        {
          "output_type": "execute_result",
          "data": {
            "text/html": [
              "<table>\n",
              "<tr> <td colspan=\"2\" style=\"text-align:center\" title=\"Minimum value of function\"> FCN = 0.177 </td> <td colspan=\"3\" title=\"No. of calls in last algorithm and total number of calls\"> Ncalls = 514 (514 total) </td> </tr>\n",
              "<tr> <td colspan=\"2\" style=\"text-align:center\" title=\"Estimated distance to minimum and target threshold\"> EDM = 3.53e-05 (Goal: 0.0001) </td> <td colspan=\"3\" title=\"Increase in FCN which corresponds to 1 standard deviation\"> up = 0.5 </td> </tr>\n",
              "<tr> <td title=\"Validity of the migrad call\"> Valid Min. </td> <td title=\"Validity of parameters\"> Valid Param. </td> <td title=\"Is EDM above goal EDM?\"> Above EDM </td> <td colspan=\"2\" title=\"Did last migrad call reach max call limit?\"> Reached call limit </td> </tr>\n",
              "<tr> <td style=\"background-color:#92CCA6;\"> True </td> <td style=\"background-color:#92CCA6;\"> True </td> <td style=\"background-color:#92CCA6;\"> False </td> <td colspan=\"2\" style=\"background-color:#92CCA6;\"> False </td> </tr>\n",
              "<tr> <td title=\"Did Hesse fail?\"> Hesse failed </td> <td title=\"Has covariance matrix\"> Has cov. </td> <td title=\"Is covariance matrix accurate?\"> Accurate </td> <td title=\"Is covariance matrix positive definite?\"> Pos. def. </td> <td title=\"Was positive definiteness enforced by Minuit?\"> Forced </td> </tr>\n",
              "<tr> <td style=\"background-color:#92CCA6;\"> False </td> <td style=\"background-color:#92CCA6;\"> True </td> <td style=\"background-color:#92CCA6;\"> True </td> <td style=\"background-color:#92CCA6;\"> True </td> <td style=\"background-color:#92CCA6;\"> False </td> </tr>\n",
              "</table>\n",
              "<table>\n",
              "<tr style=\"background-color:#F4F4F4;\"> <td/> <th title=\"Variable name\"> Name </th> <th title=\"Value of parameter\"> Value </th> <th title=\"Hesse error\"> Hesse Error </th> <th title=\"Minos lower error\"> Minos Error- </th> <th title=\"Minos upper error\"> Minos Error+ </th> <th title=\"Lower limit of the parameter\"> Limit- </th> <th title=\"Upper limit of the parameter\"> Limit+ </th> <th title=\"Is the parameter fixed in the fit\"> Fixed </th> </tr>\n",
              "<tr style=\"background-color:#FFFFFF;\"> <th> 0 </th> <td> x0 </td> <td> 1 </td> <td> 7 </td> <td>  </td> <td>  </td> <td> 0 </td> <td> 10 </td> <td>  </td> </tr>\n",
              "<tr style=\"background-color:#F4F4F4;\"> <th> 1 </th> <td> x1 </td> <td> 1 </td> <td> 5 </td> <td>  </td> <td>  </td> <td> 0 </td> <td> 10 </td> <td>  </td> </tr>\n",
              "<tr style=\"background-color:#FFFFFF;\"> <th> 2 </th> <td> x2 </td> <td> 0 </td> <td> 8 </td> <td>  </td> <td>  </td> <td> 0 </td> <td> 10 </td> <td>  </td> </tr>\n",
              "<tr style=\"background-color:#F4F4F4;\"> <th> 3 </th> <td> x3 </td> <td> 1 </td> <td> 5 </td> <td>  </td> <td>  </td> <td> 0 </td> <td> 10 </td> <td>  </td> </tr>\n",
              "<tr style=\"background-color:#FFFFFF;\"> <th> 4 </th> <td> x4 </td> <td> 2 </td> <td> 5 </td> <td>  </td> <td>  </td> <td> 0 </td> <td> 10 </td> <td>  </td> </tr>\n",
              "<tr style=\"background-color:#F4F4F4;\"> <th> 5 </th> <td> x5 </td> <td> 1 </td> <td> 5 </td> <td>  </td> <td>  </td> <td> 0 </td> <td> 10 </td> <td>  </td> </tr>\n",
              "<tr style=\"background-color:#FFFFFF;\"> <th> 6 </th> <td> x6 </td> <td> 1 </td> <td> 9 </td> <td>  </td> <td>  </td> <td> 0 </td> <td> 10 </td> <td>  </td> </tr>\n",
              "<tr style=\"background-color:#F4F4F4;\"> <th> 7 </th> <td> x7 </td> <td> 1 </td> <td> 9 </td> <td>  </td> <td>  </td> <td> 0 </td> <td> 10 </td> <td>  </td> </tr>\n",
              "<tr style=\"background-color:#FFFFFF;\"> <th> 8 </th> <td> x8 </td> <td> 0.97 </td> <td> 0.06 </td> <td>  </td> <td>  </td> <td> 0 </td> <td> 10 </td> <td>  </td> </tr>\n",
              "</table>\n"
            ],
            "text/plain": [
              "------------------------------------------------------------------\n",
              "| FCN = 0.177                   |     Ncalls=514 (514 total)     |\n",
              "| EDM = 3.53e-05 (Goal: 0.0001) |            up = 0.5            |\n",
              "------------------------------------------------------------------\n",
              "|  Valid Min.   | Valid Param.  | Above EDM | Reached call limit |\n",
              "------------------------------------------------------------------\n",
              "|     True      |     True      |   False   |       False        |\n",
              "------------------------------------------------------------------\n",
              "| Hesse failed  |   Has cov.    | Accurate  | Pos. def. | Forced |\n",
              "------------------------------------------------------------------\n",
              "|     False     |     True      |   True    |   True    | False  |\n",
              "------------------------------------------------------------------\n",
              "------------------------------------------------------------------------------------------\n",
              "|   | Name |   Value   | Hesse Err | Minos Err- | Minos Err+ | Limit-  | Limit+  | Fixed |\n",
              "------------------------------------------------------------------------------------------\n",
              "| 0 | x0   |     1     |     7     |            |            |    0    |   10    |       |\n",
              "| 1 | x1   |     1     |     5     |            |            |    0    |   10    |       |\n",
              "| 2 | x2   |     0     |     8     |            |            |    0    |   10    |       |\n",
              "| 3 | x3   |     1     |     5     |            |            |    0    |   10    |       |\n",
              "| 4 | x4   |     2     |     5     |            |            |    0    |   10    |       |\n",
              "| 5 | x5   |     1     |     5     |            |            |    0    |   10    |       |\n",
              "| 6 | x6   |     1     |     9     |            |            |    0    |   10    |       |\n",
              "| 7 | x7   |     1     |     9     |            |            |    0    |   10    |       |\n",
              "| 8 | x8   |   0.97    |   0.06    |            |            |    0    |   10    |       |\n",
              "------------------------------------------------------------------------------------------"
            ]
          },
          "metadata": {
            "tags": []
          },
          "execution_count": 15
        }
      ]
    },
    {
      "cell_type": "markdown",
      "metadata": {
        "id": "ehvYgTc2iEiJ",
        "colab_type": "text"
      },
      "source": [
        "## Hypotheses 1"
      ]
    },
    {
      "cell_type": "code",
      "metadata": {
        "id": "jIost2IVAciC",
        "colab_type": "code",
        "colab": {
          "base_uri": "https://localhost:8080/",
          "height": 378
        },
        "outputId": "323b0549-6ef8-4392-b524-1dac5f66e638"
      },
      "source": [
        "local_check[15]"
      ],
      "execution_count": null,
      "outputs": [
        {
          "output_type": "execute_result",
          "data": {
            "text/html": [
              "<table>\n",
              "<tr> <td colspan=\"2\" style=\"text-align:center\" title=\"Minimum value of function\"> FCN = 0.1776 </td> <td colspan=\"3\" title=\"No. of calls in last algorithm and total number of calls\"> Ncalls = 418 (418 total) </td> </tr>\n",
              "<tr> <td colspan=\"2\" style=\"text-align:center\" title=\"Estimated distance to minimum and target threshold\"> EDM = 1.94e-05 (Goal: 0.0001) </td> <td colspan=\"3\" title=\"Increase in FCN which corresponds to 1 standard deviation\"> up = 0.5 </td> </tr>\n",
              "<tr> <td title=\"Validity of the migrad call\"> Valid Min. </td> <td title=\"Validity of parameters\"> Valid Param. </td> <td title=\"Is EDM above goal EDM?\"> Above EDM </td> <td colspan=\"2\" title=\"Did last migrad call reach max call limit?\"> Reached call limit </td> </tr>\n",
              "<tr> <td style=\"background-color:#92CCA6;\"> True </td> <td style=\"background-color:#92CCA6;\"> True </td> <td style=\"background-color:#92CCA6;\"> False </td> <td colspan=\"2\" style=\"background-color:#92CCA6;\"> False </td> </tr>\n",
              "<tr> <td title=\"Did Hesse fail?\"> Hesse failed </td> <td title=\"Has covariance matrix\"> Has cov. </td> <td title=\"Is covariance matrix accurate?\"> Accurate </td> <td title=\"Is covariance matrix positive definite?\"> Pos. def. </td> <td title=\"Was positive definiteness enforced by Minuit?\"> Forced </td> </tr>\n",
              "<tr> <td style=\"background-color:#92CCA6;\"> False </td> <td style=\"background-color:#92CCA6;\"> True </td> <td style=\"background-color:#92CCA6;\"> True </td> <td style=\"background-color:#92CCA6;\"> True </td> <td style=\"background-color:#92CCA6;\"> False </td> </tr>\n",
              "</table>\n",
              "<table>\n",
              "<tr style=\"background-color:#F4F4F4;\"> <td/> <th title=\"Variable name\"> Name </th> <th title=\"Value of parameter\"> Value </th> <th title=\"Hesse error\"> Hesse Error </th> <th title=\"Minos lower error\"> Minos Error- </th> <th title=\"Minos upper error\"> Minos Error+ </th> <th title=\"Lower limit of the parameter\"> Limit- </th> <th title=\"Upper limit of the parameter\"> Limit+ </th> <th title=\"Is the parameter fixed in the fit\"> Fixed </th> </tr>\n",
              "<tr style=\"background-color:#FFFFFF;\"> <th> 0 </th> <td> x0 </td> <td> 1 </td> <td> 5 </td> <td>  </td> <td>  </td> <td> 0 </td> <td> 10 </td> <td>  </td> </tr>\n",
              "<tr style=\"background-color:#F4F4F4;\"> <th> 1 </th> <td> x1 </td> <td> 1.0 </td> <td> 1.8 </td> <td>  </td> <td>  </td> <td> 0 </td> <td> 10 </td> <td>  </td> </tr>\n",
              "<tr style=\"background-color:#FFFFFF;\"> <th> 2 </th> <td> x2 </td> <td> 1 </td> <td> 5 </td> <td>  </td> <td>  </td> <td> 0 </td> <td> 10 </td> <td>  </td> </tr>\n",
              "<tr style=\"background-color:#F4F4F4;\"> <th> 3 </th> <td> x3 </td> <td> 1 </td> <td> 5 </td> <td>  </td> <td>  </td> <td> 0 </td> <td> 10 </td> <td>  </td> </tr>\n",
              "<tr style=\"background-color:#FFFFFF;\"> <th> 4 </th> <td> x4 </td> <td> 1.5 </td> <td> 2.9 </td> <td>  </td> <td>  </td> <td> 0 </td> <td> 10 </td> <td>  </td> </tr>\n",
              "<tr style=\"background-color:#F4F4F4;\"> <th> 5 </th> <td> x5 </td> <td> 0.9 </td> <td> 1.9 </td> <td>  </td> <td>  </td> <td> 0 </td> <td> 10 </td> <td>  </td> </tr>\n",
              "<tr style=\"background-color:#FFFFFF;\"> <th> 6 </th> <td> x6 </td> <td> 1 </td> <td> 5 </td> <td>  </td> <td>  </td> <td> 0 </td> <td> 10 </td> <td>  </td> </tr>\n",
              "<tr style=\"background-color:#F4F4F4;\"> <th> 7 </th> <td> x7 </td> <td> 1 </td> <td> 5 </td> <td>  </td> <td>  </td> <td> 0 </td> <td> 10 </td> <td>  </td> </tr>\n",
              "<tr style=\"background-color:#FFFFFF;\"> <th> 8 </th> <td> x8 </td> <td> 0.97 </td> <td> 0.05 </td> <td>  </td> <td>  </td> <td> 0 </td> <td> 10 </td> <td>  </td> </tr>\n",
              "<tr style=\"background-color:#F4F4F4;\"> <th> 9 </th> <td> x9 </td> <td> 0.0 </td> <td> 0.7 </td> <td>  </td> <td>  </td> <td> 0 </td> <td>  </td> <td>  </td> </tr>\n",
              "</table>\n"
            ],
            "text/plain": [
              "------------------------------------------------------------------\n",
              "| FCN = 0.1776                  |     Ncalls=418 (418 total)     |\n",
              "| EDM = 1.94e-05 (Goal: 0.0001) |            up = 0.5            |\n",
              "------------------------------------------------------------------\n",
              "|  Valid Min.   | Valid Param.  | Above EDM | Reached call limit |\n",
              "------------------------------------------------------------------\n",
              "|     True      |     True      |   False   |       False        |\n",
              "------------------------------------------------------------------\n",
              "| Hesse failed  |   Has cov.    | Accurate  | Pos. def. | Forced |\n",
              "------------------------------------------------------------------\n",
              "|     False     |     True      |   True    |   True    | False  |\n",
              "------------------------------------------------------------------\n",
              "------------------------------------------------------------------------------------------\n",
              "|   | Name |   Value   | Hesse Err | Minos Err- | Minos Err+ | Limit-  | Limit+  | Fixed |\n",
              "------------------------------------------------------------------------------------------\n",
              "| 0 | x0   |     1     |     5     |            |            |    0    |   10    |       |\n",
              "| 1 | x1   |    1.0    |    1.8    |            |            |    0    |   10    |       |\n",
              "| 2 | x2   |     1     |     5     |            |            |    0    |   10    |       |\n",
              "| 3 | x3   |     1     |     5     |            |            |    0    |   10    |       |\n",
              "| 4 | x4   |    1.5    |    2.9    |            |            |    0    |   10    |       |\n",
              "| 5 | x5   |    0.9    |    1.9    |            |            |    0    |   10    |       |\n",
              "| 6 | x6   |     1     |     5     |            |            |    0    |   10    |       |\n",
              "| 7 | x7   |     1     |     5     |            |            |    0    |   10    |       |\n",
              "| 8 | x8   |   0.97    |   0.05    |            |            |    0    |   10    |       |\n",
              "| 9 | x9   |    0.0    |    0.7    |            |            |    0    |         |       |\n",
              "------------------------------------------------------------------------------------------"
            ]
          },
          "metadata": {
            "tags": []
          },
          "execution_count": 16
        }
      ]
    },
    {
      "cell_type": "code",
      "metadata": {
        "id": "ni5rnRFbwXTn",
        "colab_type": "code",
        "colab": {
          "base_uri": "https://localhost:8080/",
          "height": 720
        },
        "outputId": "bedc3a8c-d7d3-4662-f08b-9bfdb8a2b306"
      },
      "source": [
        "plt.figure(figsize=(15,12))\n",
        "\n",
        "r = scipy.stats.chi2.rvs(1,size=100000)\n",
        "\n",
        "plt.hist(r,histtype='step',bins = 10000,density=1, label = r'chi^2', cumulative=-1)\n",
        "plt.hist(local_T,histtype='step',bins = 10000,density=1, label = \"TS distribution\", cumulative=-1)\n",
        "\n",
        "plt.ylabel('Cumulative Density')\n",
        "plt.xlabel('TS')\n",
        "\n",
        "plt.yscale('log')\n",
        "plt.show()\n",
        "\n"
      ],
      "execution_count": null,
      "outputs": [
        {
          "output_type": "display_data",
          "data": {
            "image/png": "[encoded data removed]",
            "text/plain": [
              "<Figure size 1080x864 with 1 Axes>"
            ]
          },
          "metadata": {
            "tags": []
          }
        }
      ]
    },
    {
      "cell_type": "code",
      "metadata": {
        "id": "5dzMcFBV1-fo",
        "colab_type": "code",
        "colab": {
          "base_uri": "https://localhost:8080/",
          "height": 51
        },
        "outputId": "2847d3a0-1049-49d6-a3a5-6ea94fb8068f"
      },
      "source": [
        "a = [i for i in local_T if i > 0]\n",
        "\n",
        "np.sort(a)"
      ],
      "execution_count": null,
      "outputs": [
        {
          "output_type": "execute_result",
          "data": {
            "text/plain": [
              "array([2.08356665e-11, 3.29771765e-11, 4.95319341e-11, ...,\n",
              "       2.06361639e-02, 2.21742631e-02, 1.81412566e-01])"
            ]
          },
          "metadata": {
            "tags": []
          },
          "execution_count": 91
        }
      ]
    }
  ]
}
